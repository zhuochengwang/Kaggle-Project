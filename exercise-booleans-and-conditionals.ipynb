{
 "cells": [
  {
   "cell_type": "markdown",
   "id": "6ef2dfa3",
   "metadata": {
    "papermill": {
     "duration": 0.008982,
     "end_time": "2023-11-29T11:51:18.133078",
     "exception": false,
     "start_time": "2023-11-29T11:51:18.124096",
     "status": "completed"
    },
    "tags": []
   },
   "source": [
    "**This notebook is an exercise in the [Python](https://www.kaggle.com/learn/python) course.  You can reference the tutorial at [this link](https://www.kaggle.com/colinmorris/booleans-and-conditionals).**\n",
    "\n",
    "---\n"
   ]
  },
  {
   "cell_type": "markdown",
   "id": "00219158",
   "metadata": {
    "papermill": {
     "duration": 0.008171,
     "end_time": "2023-11-29T11:51:18.149857",
     "exception": false,
     "start_time": "2023-11-29T11:51:18.141686",
     "status": "completed"
    },
    "tags": []
   },
   "source": [
    "In this exercise, you'll put to work what you have learned about booleans and conditionals.\n",
    "\n",
    "To get started, **run the setup code below** before writing your own code (and if you leave this notebook and come back later, don't forget to run the setup code again)."
   ]
  },
  {
   "cell_type": "code",
   "execution_count": 1,
   "id": "1c84f9d8",
   "metadata": {
    "execution": {
     "iopub.execute_input": "2023-11-29T11:51:18.169155Z",
     "iopub.status.busy": "2023-11-29T11:51:18.167869Z",
     "iopub.status.idle": "2023-11-29T11:51:18.575323Z",
     "shell.execute_reply": "2023-11-29T11:51:18.574252Z"
    },
    "papermill": {
     "duration": 0.420731,
     "end_time": "2023-11-29T11:51:18.578904",
     "exception": false,
     "start_time": "2023-11-29T11:51:18.158173",
     "status": "completed"
    },
    "tags": []
   },
   "outputs": [
    {
     "name": "stdout",
     "output_type": "stream",
     "text": [
      "Setup complete.\n"
     ]
    }
   ],
   "source": [
    "from learntools.core import binder; binder.bind(globals())\n",
    "from learntools.python.ex3 import *\n",
    "print('Setup complete.')"
   ]
  },
  {
   "cell_type": "markdown",
   "id": "886427dc",
   "metadata": {
    "papermill": {
     "duration": 0.008197,
     "end_time": "2023-11-29T11:51:18.596307",
     "exception": false,
     "start_time": "2023-11-29T11:51:18.588110",
     "status": "completed"
    },
    "tags": []
   },
   "source": [
    "# 1.\n",
    "\n",
    "Many programming languages have [`sign`](https://en.wikipedia.org/wiki/Sign_function) available as a built-in function. Python doesn't, but we can define our own!\n",
    "\n",
    "In the cell below, define a function called `sign` which takes a numerical argument and returns -1 if it's negative, 1 if it's positive, and 0 if it's 0."
   ]
  },
  {
   "cell_type": "code",
   "execution_count": 2,
   "id": "a3f8a22d",
   "metadata": {
    "execution": {
     "iopub.execute_input": "2023-11-29T11:51:18.615657Z",
     "iopub.status.busy": "2023-11-29T11:51:18.614579Z",
     "iopub.status.idle": "2023-11-29T11:51:18.624682Z",
     "shell.execute_reply": "2023-11-29T11:51:18.623716Z"
    },
    "papermill": {
     "duration": 0.022002,
     "end_time": "2023-11-29T11:51:18.626837",
     "exception": false,
     "start_time": "2023-11-29T11:51:18.604835",
     "status": "completed"
    },
    "tags": []
   },
   "outputs": [
    {
     "data": {
      "application/javascript": [
       "parent.postMessage({\"jupyterEvent\": \"custom.exercise_interaction\", \"data\": {\"outcomeType\": 1, \"valueTowardsCompletion\": 0.2, \"interactionType\": 1, \"questionType\": 2, \"questionId\": \"1_SignFunctionProblem\", \"learnToolsVersion\": \"0.3.4\", \"failureMessage\": \"\", \"exceptionClass\": \"\", \"trace\": \"\"}}, \"*\")"
      ],
      "text/plain": [
       "<IPython.core.display.Javascript object>"
      ]
     },
     "metadata": {},
     "output_type": "display_data"
    },
    {
     "data": {
      "text/markdown": [
       "<span style=\"color:#33cc33\">Correct</span>"
      ],
      "text/plain": [
       "Correct"
      ]
     },
     "metadata": {},
     "output_type": "display_data"
    }
   ],
   "source": [
    "# Your code goes here. Define a function called 'sign'\n",
    "def sign(number):\n",
    "    if number < 0:\n",
    "        return -1\n",
    "    elif number > 0:\n",
    "        return 1\n",
    "    else:\n",
    "        return 0\n",
    "# Check your answer\n",
    "q1.check()"
   ]
  },
  {
   "cell_type": "code",
   "execution_count": 3,
   "id": "a7cb971f",
   "metadata": {
    "execution": {
     "iopub.execute_input": "2023-11-29T11:51:18.646461Z",
     "iopub.status.busy": "2023-11-29T11:51:18.645416Z",
     "iopub.status.idle": "2023-11-29T11:51:18.650843Z",
     "shell.execute_reply": "2023-11-29T11:51:18.649248Z"
    },
    "papermill": {
     "duration": 0.018326,
     "end_time": "2023-11-29T11:51:18.653850",
     "exception": false,
     "start_time": "2023-11-29T11:51:18.635524",
     "status": "completed"
    },
    "tags": []
   },
   "outputs": [],
   "source": [
    "#q1.solution()"
   ]
  },
  {
   "cell_type": "markdown",
   "id": "eb07801d",
   "metadata": {
    "papermill": {
     "duration": 0.008367,
     "end_time": "2023-11-29T11:51:18.671366",
     "exception": false,
     "start_time": "2023-11-29T11:51:18.662999",
     "status": "completed"
    },
    "tags": []
   },
   "source": [
    "# 2.\n",
    "\n",
    "We've decided to add \"logging\" to our `to_smash` function from the previous exercise."
   ]
  },
  {
   "cell_type": "code",
   "execution_count": 4,
   "id": "65aa525b",
   "metadata": {
    "execution": {
     "iopub.execute_input": "2023-11-29T11:51:18.690258Z",
     "iopub.status.busy": "2023-11-29T11:51:18.689881Z",
     "iopub.status.idle": "2023-11-29T11:51:18.698922Z",
     "shell.execute_reply": "2023-11-29T11:51:18.697379Z"
    },
    "papermill": {
     "duration": 0.021258,
     "end_time": "2023-11-29T11:51:18.701275",
     "exception": false,
     "start_time": "2023-11-29T11:51:18.680017",
     "status": "completed"
    },
    "tags": []
   },
   "outputs": [
    {
     "name": "stdout",
     "output_type": "stream",
     "text": [
      "Splitting 91 candies\n"
     ]
    },
    {
     "data": {
      "text/plain": [
       "1"
      ]
     },
     "execution_count": 4,
     "metadata": {},
     "output_type": "execute_result"
    }
   ],
   "source": [
    "def to_smash(total_candies):\n",
    "    \"\"\"Return the number of leftover candies that must be smashed after distributing\n",
    "    the given number of candies evenly between 3 friends.\n",
    "    \n",
    "    >>> to_smash(91)\n",
    "    1\n",
    "    \"\"\"\n",
    "    print(\"Splitting\", total_candies, \"candies\")\n",
    "    return total_candies % 3\n",
    "\n",
    "to_smash(91)"
   ]
  },
  {
   "cell_type": "markdown",
   "id": "0d64a8ed",
   "metadata": {
    "papermill": {
     "duration": 0.008776,
     "end_time": "2023-11-29T11:51:18.719055",
     "exception": false,
     "start_time": "2023-11-29T11:51:18.710279",
     "status": "completed"
    },
    "tags": []
   },
   "source": [
    "What happens if we call it with `total_candies = 1`?"
   ]
  },
  {
   "cell_type": "code",
   "execution_count": 5,
   "id": "b3a31fe2",
   "metadata": {
    "execution": {
     "iopub.execute_input": "2023-11-29T11:51:18.738739Z",
     "iopub.status.busy": "2023-11-29T11:51:18.738324Z",
     "iopub.status.idle": "2023-11-29T11:51:18.745407Z",
     "shell.execute_reply": "2023-11-29T11:51:18.744151Z"
    },
    "papermill": {
     "duration": 0.019552,
     "end_time": "2023-11-29T11:51:18.747694",
     "exception": false,
     "start_time": "2023-11-29T11:51:18.728142",
     "status": "completed"
    },
    "tags": []
   },
   "outputs": [
    {
     "name": "stdout",
     "output_type": "stream",
     "text": [
      "Splitting 1 candies\n"
     ]
    },
    {
     "data": {
      "text/plain": [
       "1"
      ]
     },
     "execution_count": 5,
     "metadata": {},
     "output_type": "execute_result"
    }
   ],
   "source": [
    "to_smash(1)"
   ]
  },
  {
   "cell_type": "markdown",
   "id": "b19a6b5b",
   "metadata": {
    "papermill": {
     "duration": 0.008854,
     "end_time": "2023-11-29T11:51:18.765680",
     "exception": false,
     "start_time": "2023-11-29T11:51:18.756826",
     "status": "completed"
    },
    "tags": []
   },
   "source": [
    "That isn't great grammar!\n",
    "\n",
    "Modify the definition in the cell below to correct the grammar of our print statement. (If there's only one candy, we should use the singular \"candy\" instead of the plural \"candies\")"
   ]
  },
  {
   "cell_type": "code",
   "execution_count": 6,
   "id": "e2e994d0",
   "metadata": {
    "execution": {
     "iopub.execute_input": "2023-11-29T11:51:18.786127Z",
     "iopub.status.busy": "2023-11-29T11:51:18.785753Z",
     "iopub.status.idle": "2023-11-29T11:51:18.792592Z",
     "shell.execute_reply": "2023-11-29T11:51:18.791815Z"
    },
    "papermill": {
     "duration": 0.020336,
     "end_time": "2023-11-29T11:51:18.795126",
     "exception": false,
     "start_time": "2023-11-29T11:51:18.774790",
     "status": "completed"
    },
    "tags": []
   },
   "outputs": [
    {
     "name": "stdout",
     "output_type": "stream",
     "text": [
      "Splitting 91 candies\n",
      "Splitting 1 candy\n"
     ]
    },
    {
     "data": {
      "text/plain": [
       "1"
      ]
     },
     "execution_count": 6,
     "metadata": {},
     "output_type": "execute_result"
    }
   ],
   "source": [
    "def to_smash(total_candies):\n",
    "    \"\"\"Return the number of leftover candies that must be smashed after distributing\n",
    "    the given number of candies evenly between 3 friends.\n",
    "    \n",
    "    >>> to_smash(91)\n",
    "    1\n",
    "    \"\"\"\n",
    "    print(\"Splitting\", total_candies, \"candy\" if total_candies == 1 else \"candies\")\n",
    "    return total_candies % 3\n",
    "\n",
    "to_smash(91)\n",
    "to_smash(1)"
   ]
  },
  {
   "cell_type": "markdown",
   "id": "19e30ddb",
   "metadata": {
    "papermill": {
     "duration": 0.009297,
     "end_time": "2023-11-29T11:51:18.813655",
     "exception": false,
     "start_time": "2023-11-29T11:51:18.804358",
     "status": "completed"
    },
    "tags": []
   },
   "source": [
    "To get credit for completing this problem, and to see the official answer, run the code cell below."
   ]
  },
  {
   "cell_type": "code",
   "execution_count": 7,
   "id": "0127c2e6",
   "metadata": {
    "execution": {
     "iopub.execute_input": "2023-11-29T11:51:18.833712Z",
     "iopub.status.busy": "2023-11-29T11:51:18.833293Z",
     "iopub.status.idle": "2023-11-29T11:51:18.842421Z",
     "shell.execute_reply": "2023-11-29T11:51:18.841592Z"
    },
    "papermill": {
     "duration": 0.021561,
     "end_time": "2023-11-29T11:51:18.844484",
     "exception": false,
     "start_time": "2023-11-29T11:51:18.822923",
     "status": "completed"
    },
    "tags": []
   },
   "outputs": [
    {
     "data": {
      "application/javascript": [
       "parent.postMessage({\"jupyterEvent\": \"custom.exercise_interaction\", \"data\": {\"interactionType\": 3, \"questionType\": 4, \"questionId\": \"2_PluralizationProblem\", \"learnToolsVersion\": \"0.3.4\", \"valueTowardsCompletion\": 0.0, \"failureMessage\": \"\", \"exceptionClass\": \"\", \"trace\": \"\", \"outcomeType\": 4}}, \"*\")"
      ],
      "text/plain": [
       "<IPython.core.display.Javascript object>"
      ]
     },
     "metadata": {},
     "output_type": "display_data"
    },
    {
     "data": {
      "text/markdown": [
       "<span style=\"color:#33cc99\">Solution:</span> A straightforward (and totally fine) solution is to replace the original `print` call with:\n",
       "\n",
       "```python\n",
       "if total_candies == 1:\n",
       "    print(\"Splitting 1 candy\")\n",
       "else:\n",
       "    print(\"Splitting\", total_candies, \"candies\")\n",
       "```\n",
       "\n",
       "Here's a slightly more succinct solution using a conditional expression:\n",
       "\n",
       "```python\n",
       "print(\"Splitting\", total_candies, \"candy\" if total_candies == 1 else \"candies\")\n",
       "```"
      ],
      "text/plain": [
       "Solution: A straightforward (and totally fine) solution is to replace the original `print` call with:\n",
       "\n",
       "```python\n",
       "if total_candies == 1:\n",
       "    print(\"Splitting 1 candy\")\n",
       "else:\n",
       "    print(\"Splitting\", total_candies, \"candies\")\n",
       "```\n",
       "\n",
       "Here's a slightly more succinct solution using a conditional expression:\n",
       "\n",
       "```python\n",
       "print(\"Splitting\", total_candies, \"candy\" if total_candies == 1 else \"candies\")\n",
       "```"
      ]
     },
     "metadata": {},
     "output_type": "display_data"
    }
   ],
   "source": [
    "# Check your answer (Run this code cell to receive credit!)\n",
    "q2.solution()"
   ]
  },
  {
   "cell_type": "markdown",
   "id": "11696bf8",
   "metadata": {
    "papermill": {
     "duration": 0.009249,
     "end_time": "2023-11-29T11:51:18.863443",
     "exception": false,
     "start_time": "2023-11-29T11:51:18.854194",
     "status": "completed"
    },
    "tags": []
   },
   "source": [
    "# 3. <span title=\"A bit spicy\" style=\"color: darkgreen \">🌶️</span>\n",
    "\n",
    "In the tutorial, we talked about deciding whether we're prepared for the weather. I said that I'm safe from today's weather if...\n",
    "- I have an umbrella...\n",
    "- or if the rain isn't too heavy and I have a hood...\n",
    "- otherwise, I'm still fine unless it's raining *and* it's a workday\n",
    "\n",
    "The function below uses our first attempt at turning this logic into a Python expression. I claimed that there was a bug in that code. Can you find it?\n",
    "\n",
    "To prove that `prepared_for_weather` is buggy, come up with a set of inputs where either:\n",
    "- the function returns `False` (but should have returned `True`), or\n",
    "- the function returned `True` (but should have returned `False`).\n",
    "\n",
    "To get credit for completing this question, your code should return a <font color='#33cc33'>Correct</font> result."
   ]
  },
  {
   "cell_type": "code",
   "execution_count": 8,
   "id": "c09ef99c",
   "metadata": {
    "execution": {
     "iopub.execute_input": "2023-11-29T11:51:18.885007Z",
     "iopub.status.busy": "2023-11-29T11:51:18.884645Z",
     "iopub.status.idle": "2023-11-29T11:51:18.895014Z",
     "shell.execute_reply": "2023-11-29T11:51:18.893991Z"
    },
    "papermill": {
     "duration": 0.023869,
     "end_time": "2023-11-29T11:51:18.897028",
     "exception": false,
     "start_time": "2023-11-29T11:51:18.873159",
     "status": "completed"
    },
    "tags": []
   },
   "outputs": [
    {
     "name": "stdout",
     "output_type": "stream",
     "text": [
      "False\n"
     ]
    },
    {
     "data": {
      "application/javascript": [
       "parent.postMessage({\"jupyterEvent\": \"custom.exercise_interaction\", \"data\": {\"outcomeType\": 1, \"valueTowardsCompletion\": 0.2, \"interactionType\": 1, \"questionType\": 1, \"questionId\": \"3_WeatherDebug\", \"learnToolsVersion\": \"0.3.4\", \"failureMessage\": \"\", \"exceptionClass\": \"\", \"trace\": \"\"}}, \"*\")"
      ],
      "text/plain": [
       "<IPython.core.display.Javascript object>"
      ]
     },
     "metadata": {},
     "output_type": "display_data"
    },
    {
     "data": {
      "text/markdown": [
       "<span style=\"color:#33cc33\">Correct:</span> \n",
       "\n",
       "One example of a failing test case is:\n",
       "\n",
       "```python\n",
       "have_umbrella = False\n",
       "rain_level = 0.0\n",
       "have_hood = False\n",
       "is_workday = False\n",
       "```\n",
       "\n",
       "Clearly we're prepared for the weather in this case. It's not raining. Not only that, it's not a workday, so we don't even need to leave the house! But our function will return False on these inputs.\n",
       "\n",
       "The key problem is that Python implictly parenthesizes the last part as:\n",
       "\n",
       "```python\n",
       "(not (rain_level > 0)) and is_workday\n",
       "```\n",
       "\n",
       "Whereas what we were trying to express would look more like:\n",
       "\n",
       "```python\n",
       "not (rain_level > 0 and is_workday)\n",
       "```\n"
      ],
      "text/plain": [
       "Correct: \n",
       "\n",
       "One example of a failing test case is:\n",
       "\n",
       "```python\n",
       "have_umbrella = False\n",
       "rain_level = 0.0\n",
       "have_hood = False\n",
       "is_workday = False\n",
       "```\n",
       "\n",
       "Clearly we're prepared for the weather in this case. It's not raining. Not only that, it's not a workday, so we don't even need to leave the house! But our function will return False on these inputs.\n",
       "\n",
       "The key problem is that Python implictly parenthesizes the last part as:\n",
       "\n",
       "```python\n",
       "(not (rain_level > 0)) and is_workday\n",
       "```\n",
       "\n",
       "Whereas what we were trying to express would look more like:\n",
       "\n",
       "```python\n",
       "not (rain_level > 0 and is_workday)\n",
       "```"
      ]
     },
     "metadata": {},
     "output_type": "display_data"
    }
   ],
   "source": [
    "def prepared_for_weather(have_umbrella, rain_level, have_hood, is_workday):\n",
    "    # Don't change this code. Our goal is just to find the bug, not fix it!\n",
    "    return have_umbrella or rain_level < 5 and have_hood or not rain_level > 0 and is_workday\n",
    "\n",
    "# Change the values of these inputs so they represent a case where prepared_for_weather\n",
    "# returns the wrong answer.\n",
    "have_umbrella = False\n",
    "rain_level = 0.0\n",
    "have_hood = False\n",
    "is_workday = False\n",
    "\n",
    "# Check what the function returns given the current values of the variables above\n",
    "actual = prepared_for_weather(have_umbrella, rain_level, have_hood, is_workday)\n",
    "print(actual)\n",
    "\n",
    "# Check your answer\n",
    "q3.check()"
   ]
  },
  {
   "cell_type": "code",
   "execution_count": 9,
   "id": "0a31d80c",
   "metadata": {
    "execution": {
     "iopub.execute_input": "2023-11-29T11:51:18.918820Z",
     "iopub.status.busy": "2023-11-29T11:51:18.918373Z",
     "iopub.status.idle": "2023-11-29T11:51:18.922837Z",
     "shell.execute_reply": "2023-11-29T11:51:18.921823Z"
    },
    "papermill": {
     "duration": 0.018125,
     "end_time": "2023-11-29T11:51:18.925168",
     "exception": false,
     "start_time": "2023-11-29T11:51:18.907043",
     "status": "completed"
    },
    "tags": []
   },
   "outputs": [],
   "source": [
    "#q3.hint()\n",
    "#q3.solution()"
   ]
  },
  {
   "cell_type": "markdown",
   "id": "e21f8f8d",
   "metadata": {
    "papermill": {
     "duration": 0.010032,
     "end_time": "2023-11-29T11:51:18.945398",
     "exception": false,
     "start_time": "2023-11-29T11:51:18.935366",
     "status": "completed"
    },
    "tags": []
   },
   "source": [
    "# 4.\n",
    "\n",
    "The function `is_negative` below is implemented correctly - it returns True if the given number is negative and False otherwise.\n",
    "\n",
    "However, it's more verbose than it needs to be. We can actually reduce the number of lines of code in this function by *75%* while keeping the same behaviour. \n",
    "\n",
    "See if you can come up with an equivalent body that uses just **one line** of code, and put it in the function `concise_is_negative`. (HINT: you don't even need Python's ternary syntax)"
   ]
  },
  {
   "cell_type": "code",
   "execution_count": 10,
   "id": "19f78853",
   "metadata": {
    "execution": {
     "iopub.execute_input": "2023-11-29T11:51:18.967725Z",
     "iopub.status.busy": "2023-11-29T11:51:18.966584Z",
     "iopub.status.idle": "2023-11-29T11:51:18.975749Z",
     "shell.execute_reply": "2023-11-29T11:51:18.974902Z"
    },
    "papermill": {
     "duration": 0.022178,
     "end_time": "2023-11-29T11:51:18.977607",
     "exception": false,
     "start_time": "2023-11-29T11:51:18.955429",
     "status": "completed"
    },
    "tags": []
   },
   "outputs": [
    {
     "data": {
      "application/javascript": [
       "parent.postMessage({\"jupyterEvent\": \"custom.exercise_interaction\", \"data\": {\"outcomeType\": 1, \"valueTowardsCompletion\": 0.2, \"interactionType\": 1, \"questionType\": 2, \"questionId\": \"4_ConciseIsNegative\", \"learnToolsVersion\": \"0.3.4\", \"failureMessage\": \"\", \"exceptionClass\": \"\", \"trace\": \"\"}}, \"*\")"
      ],
      "text/plain": [
       "<IPython.core.display.Javascript object>"
      ]
     },
     "metadata": {},
     "output_type": "display_data"
    },
    {
     "data": {
      "text/markdown": [
       "<span style=\"color:#33cc33\">Correct</span>"
      ],
      "text/plain": [
       "Correct"
      ]
     },
     "metadata": {},
     "output_type": "display_data"
    }
   ],
   "source": [
    "def is_negative(number):\n",
    "    if number < 0:\n",
    "        return True\n",
    "    else:\n",
    "        return False\n",
    "\n",
    "def concise_is_negative(number):\n",
    "    return True if number < 0 else False\n",
    "\n",
    "# Check your answer\n",
    "q4.check()"
   ]
  },
  {
   "cell_type": "code",
   "execution_count": 11,
   "id": "27989229",
   "metadata": {
    "execution": {
     "iopub.execute_input": "2023-11-29T11:51:19.000214Z",
     "iopub.status.busy": "2023-11-29T11:51:18.999641Z",
     "iopub.status.idle": "2023-11-29T11:51:19.003295Z",
     "shell.execute_reply": "2023-11-29T11:51:19.002416Z"
    },
    "papermill": {
     "duration": 0.017656,
     "end_time": "2023-11-29T11:51:19.005603",
     "exception": false,
     "start_time": "2023-11-29T11:51:18.987947",
     "status": "completed"
    },
    "tags": []
   },
   "outputs": [],
   "source": [
    "#q4.hint()\n",
    "#q4.solution()"
   ]
  },
  {
   "cell_type": "markdown",
   "id": "5a133cb9",
   "metadata": {
    "papermill": {
     "duration": 0.010375,
     "end_time": "2023-11-29T11:51:19.026547",
     "exception": false,
     "start_time": "2023-11-29T11:51:19.016172",
     "status": "completed"
    },
    "tags": []
   },
   "source": [
    "# 5a.\n",
    "\n",
    "The boolean variables `ketchup`, `mustard` and `onion` represent whether a customer wants a particular topping on their hot dog. We want to implement a number of boolean functions that correspond to some yes-or-no questions about the customer's order. For example:"
   ]
  },
  {
   "cell_type": "code",
   "execution_count": 12,
   "id": "8f656c23",
   "metadata": {
    "execution": {
     "iopub.execute_input": "2023-11-29T11:51:19.050843Z",
     "iopub.status.busy": "2023-11-29T11:51:19.050413Z",
     "iopub.status.idle": "2023-11-29T11:51:19.055451Z",
     "shell.execute_reply": "2023-11-29T11:51:19.054444Z"
    },
    "papermill": {
     "duration": 0.018857,
     "end_time": "2023-11-29T11:51:19.057688",
     "exception": false,
     "start_time": "2023-11-29T11:51:19.038831",
     "status": "completed"
    },
    "tags": []
   },
   "outputs": [],
   "source": [
    "def onionless(ketchup, mustard, onion):\n",
    "    \"\"\"Return whether the customer doesn't want onions.\n",
    "    \"\"\"\n",
    "    if onion is False:\n",
    "        return not onion"
   ]
  },
  {
   "cell_type": "code",
   "execution_count": 13,
   "id": "807bc88e",
   "metadata": {
    "execution": {
     "iopub.execute_input": "2023-11-29T11:51:19.080740Z",
     "iopub.status.busy": "2023-11-29T11:51:19.080353Z",
     "iopub.status.idle": "2023-11-29T11:51:19.088555Z",
     "shell.execute_reply": "2023-11-29T11:51:19.087791Z"
    },
    "papermill": {
     "duration": 0.0222,
     "end_time": "2023-11-29T11:51:19.090412",
     "exception": false,
     "start_time": "2023-11-29T11:51:19.068212",
     "status": "completed"
    },
    "tags": []
   },
   "outputs": [
    {
     "data": {
      "application/javascript": [
       "parent.postMessage({\"jupyterEvent\": \"custom.exercise_interaction\", \"data\": {\"outcomeType\": 1, \"valueTowardsCompletion\": 0.2, \"interactionType\": 1, \"questionType\": 2, \"questionId\": \"5.1_AllToppings\", \"learnToolsVersion\": \"0.3.4\", \"failureMessage\": \"\", \"exceptionClass\": \"\", \"trace\": \"\"}}, \"*\")"
      ],
      "text/plain": [
       "<IPython.core.display.Javascript object>"
      ]
     },
     "metadata": {},
     "output_type": "display_data"
    },
    {
     "data": {
      "text/markdown": [
       "<span style=\"color:#33cc33\">Correct</span>"
      ],
      "text/plain": [
       "Correct"
      ]
     },
     "metadata": {},
     "output_type": "display_data"
    }
   ],
   "source": [
    "def wants_all_toppings(ketchup, mustard, onion):\n",
    "    \"\"\"Return whether the customer wants \"the works\" (all 3 toppings)\n",
    "    \"\"\"\n",
    "    return ketchup and mustard and onion\n",
    "#    if ketchup is True and mustard is True and onion is True:\n",
    "#        return True\n",
    "#    else:\n",
    "#        return False\n",
    "\n",
    "# Check your answer\n",
    "q5.a.check()"
   ]
  },
  {
   "cell_type": "code",
   "execution_count": 14,
   "id": "43766a2a",
   "metadata": {
    "execution": {
     "iopub.execute_input": "2023-11-29T11:51:19.170551Z",
     "iopub.status.busy": "2023-11-29T11:51:19.170144Z",
     "iopub.status.idle": "2023-11-29T11:51:19.181167Z",
     "shell.execute_reply": "2023-11-29T11:51:19.180063Z"
    },
    "papermill": {
     "duration": 0.025428,
     "end_time": "2023-11-29T11:51:19.183372",
     "exception": false,
     "start_time": "2023-11-29T11:51:19.157944",
     "status": "completed"
    },
    "tags": []
   },
   "outputs": [
    {
     "data": {
      "application/javascript": [
       "parent.postMessage({\"jupyterEvent\": \"custom.exercise_interaction\", \"data\": {\"interactionType\": 2, \"questionType\": 2, \"questionId\": \"5.1_AllToppings\", \"learnToolsVersion\": \"0.3.4\", \"valueTowardsCompletion\": 0.0, \"failureMessage\": \"\", \"exceptionClass\": \"\", \"trace\": \"\", \"outcomeType\": 4}}, \"*\")"
      ],
      "text/plain": [
       "<IPython.core.display.Javascript object>"
      ]
     },
     "metadata": {},
     "output_type": "display_data"
    },
    {
     "data": {
      "text/markdown": [
       "<span style=\"color:#3366cc\">Hint:</span> You'll need to use the `and` operator."
      ],
      "text/plain": [
       "Hint: You'll need to use the `and` operator."
      ]
     },
     "metadata": {},
     "output_type": "display_data"
    },
    {
     "data": {
      "application/javascript": [
       "parent.postMessage({\"jupyterEvent\": \"custom.exercise_interaction\", \"data\": {\"interactionType\": 3, \"questionType\": 2, \"questionId\": \"5.1_AllToppings\", \"learnToolsVersion\": \"0.3.4\", \"valueTowardsCompletion\": 0.0, \"failureMessage\": \"\", \"exceptionClass\": \"\", \"trace\": \"\", \"outcomeType\": 4}}, \"*\")"
      ],
      "text/plain": [
       "<IPython.core.display.Javascript object>"
      ]
     },
     "metadata": {},
     "output_type": "display_data"
    },
    {
     "data": {
      "text/markdown": [
       "<span style=\"color:#33cc99\">Solution:</span> \n",
       "```python\n",
       "return ketchup and mustard and onion\n",
       "```"
      ],
      "text/plain": [
       "Solution: \n",
       "```python\n",
       "return ketchup and mustard and onion\n",
       "```"
      ]
     },
     "metadata": {},
     "output_type": "display_data"
    }
   ],
   "source": [
    "q5.a.hint()\n",
    "q5.a.solution()"
   ]
  },
  {
   "cell_type": "markdown",
   "id": "0eed9614",
   "metadata": {
    "papermill": {
     "duration": 0.010888,
     "end_time": "2023-11-29T11:51:19.205719",
     "exception": false,
     "start_time": "2023-11-29T11:51:19.194831",
     "status": "completed"
    },
    "tags": []
   },
   "source": [
    "# 5b.\n",
    "\n",
    "For the next function, fill in the body to match the English description in the docstring. "
   ]
  },
  {
   "cell_type": "code",
   "execution_count": 15,
   "id": "cfbc11ef",
   "metadata": {
    "execution": {
     "iopub.execute_input": "2023-11-29T11:51:19.229661Z",
     "iopub.status.busy": "2023-11-29T11:51:19.229266Z",
     "iopub.status.idle": "2023-11-29T11:51:19.238060Z",
     "shell.execute_reply": "2023-11-29T11:51:19.236896Z"
    },
    "papermill": {
     "duration": 0.023327,
     "end_time": "2023-11-29T11:51:19.240120",
     "exception": false,
     "start_time": "2023-11-29T11:51:19.216793",
     "status": "completed"
    },
    "tags": []
   },
   "outputs": [
    {
     "data": {
      "application/javascript": [
       "parent.postMessage({\"jupyterEvent\": \"custom.exercise_interaction\", \"data\": {\"outcomeType\": 1, \"valueTowardsCompletion\": 0.2, \"interactionType\": 1, \"questionType\": 2, \"questionId\": \"5.2_PlainDog\", \"learnToolsVersion\": \"0.3.4\", \"failureMessage\": \"\", \"exceptionClass\": \"\", \"trace\": \"\"}}, \"*\")"
      ],
      "text/plain": [
       "<IPython.core.display.Javascript object>"
      ]
     },
     "metadata": {},
     "output_type": "display_data"
    },
    {
     "data": {
      "text/markdown": [
       "<span style=\"color:#33cc33\">Correct:</span> \n",
       "\n",
       "One solution looks like:\n",
       "```python\n",
       "return not ketchup and not mustard and not onion\n",
       "```\n",
       "\n",
       "We can also [\"factor out\" the nots](https://en.wikipedia.org/wiki/De_Morgan%27s_laws) to get:\n",
       "\n",
       "```python\n",
       "return not (ketchup or mustard or onion)\n",
       "```"
      ],
      "text/plain": [
       "Correct: \n",
       "\n",
       "One solution looks like:\n",
       "```python\n",
       "return not ketchup and not mustard and not onion\n",
       "```\n",
       "\n",
       "We can also [\"factor out\" the nots](https://en.wikipedia.org/wiki/De_Morgan%27s_laws) to get:\n",
       "\n",
       "```python\n",
       "return not (ketchup or mustard or onion)\n",
       "```"
      ]
     },
     "metadata": {},
     "output_type": "display_data"
    }
   ],
   "source": [
    "def wants_plain_hotdog(ketchup, mustard, onion):\n",
    "    \"\"\"Return whether the customer wants a plain hot dog with no toppings.\n",
    "    \"\"\"\n",
    "    return not (ketchup or mustard or onion)\n",
    "\n",
    "# Check your answer\n",
    "q5.b.check()"
   ]
  },
  {
   "cell_type": "code",
   "execution_count": 16,
   "id": "730d1dd3",
   "metadata": {
    "execution": {
     "iopub.execute_input": "2023-11-29T11:51:19.264805Z",
     "iopub.status.busy": "2023-11-29T11:51:19.264393Z",
     "iopub.status.idle": "2023-11-29T11:51:19.268607Z",
     "shell.execute_reply": "2023-11-29T11:51:19.267589Z"
    },
    "papermill": {
     "duration": 0.01912,
     "end_time": "2023-11-29T11:51:19.270735",
     "exception": false,
     "start_time": "2023-11-29T11:51:19.251615",
     "status": "completed"
    },
    "tags": []
   },
   "outputs": [],
   "source": [
    "#q5.b.hint()\n",
    "#q5.b.solution()"
   ]
  },
  {
   "cell_type": "markdown",
   "id": "56201972",
   "metadata": {
    "papermill": {
     "duration": 0.011169,
     "end_time": "2023-11-29T11:51:19.293663",
     "exception": false,
     "start_time": "2023-11-29T11:51:19.282494",
     "status": "completed"
    },
    "tags": []
   },
   "source": [
    "# 5c.\n",
    "\n",
    "You know what to do: for the next function, fill in the body to match the English description in the docstring."
   ]
  },
  {
   "cell_type": "code",
   "execution_count": 17,
   "id": "33d510b7",
   "metadata": {
    "execution": {
     "iopub.execute_input": "2023-11-29T11:51:19.318577Z",
     "iopub.status.busy": "2023-11-29T11:51:19.318179Z",
     "iopub.status.idle": "2023-11-29T11:51:19.326653Z",
     "shell.execute_reply": "2023-11-29T11:51:19.325485Z"
    },
    "papermill": {
     "duration": 0.023709,
     "end_time": "2023-11-29T11:51:19.328750",
     "exception": false,
     "start_time": "2023-11-29T11:51:19.305041",
     "status": "completed"
    },
    "tags": []
   },
   "outputs": [
    {
     "data": {
      "application/javascript": [
       "parent.postMessage({\"jupyterEvent\": \"custom.exercise_interaction\", \"data\": {\"outcomeType\": 1, \"valueTowardsCompletion\": 0.2, \"interactionType\": 1, \"questionType\": 2, \"questionId\": \"5.3_OneSauce\", \"learnToolsVersion\": \"0.3.4\", \"failureMessage\": \"\", \"exceptionClass\": \"\", \"trace\": \"\"}}, \"*\")"
      ],
      "text/plain": [
       "<IPython.core.display.Javascript object>"
      ]
     },
     "metadata": {},
     "output_type": "display_data"
    },
    {
     "data": {
      "text/markdown": [
       "<span style=\"color:#33cc33\">Correct</span>"
      ],
      "text/plain": [
       "Correct"
      ]
     },
     "metadata": {},
     "output_type": "display_data"
    }
   ],
   "source": [
    "def exactly_one_sauce(ketchup, mustard, onion):\n",
    "    \"\"\"Return whether the customer wants either ketchup or mustard, but not both.\n",
    "    (You may be familiar with this operation under the name \"exclusive or\")\n",
    "    \"\"\"\n",
    "    if (ketchup and mustard) == True or (ketchup or mustard) == False:\n",
    "        return False\n",
    "    else:\n",
    "        return True \n",
    "\n",
    "# Check your answer\n",
    "q5.c.check()"
   ]
  },
  {
   "cell_type": "code",
   "execution_count": 18,
   "id": "b5eb2961",
   "metadata": {
    "execution": {
     "iopub.execute_input": "2023-11-29T11:51:19.354108Z",
     "iopub.status.busy": "2023-11-29T11:51:19.353717Z",
     "iopub.status.idle": "2023-11-29T11:51:19.364217Z",
     "shell.execute_reply": "2023-11-29T11:51:19.363454Z"
    },
    "papermill": {
     "duration": 0.025647,
     "end_time": "2023-11-29T11:51:19.366082",
     "exception": false,
     "start_time": "2023-11-29T11:51:19.340435",
     "status": "completed"
    },
    "tags": []
   },
   "outputs": [
    {
     "data": {
      "application/javascript": [
       "parent.postMessage({\"jupyterEvent\": \"custom.exercise_interaction\", \"data\": {\"interactionType\": 2, \"questionType\": 2, \"questionId\": \"5.3_OneSauce\", \"learnToolsVersion\": \"0.3.4\", \"valueTowardsCompletion\": 0.0, \"failureMessage\": \"\", \"exceptionClass\": \"\", \"trace\": \"\", \"outcomeType\": 4}}, \"*\")"
      ],
      "text/plain": [
       "<IPython.core.display.Javascript object>"
      ]
     },
     "metadata": {},
     "output_type": "display_data"
    },
    {
     "data": {
      "text/markdown": [
       "<span style=\"color:#3366cc\">Hint:</span> There are exactly two ways to set ketchup and mustard to make this true. What are they?"
      ],
      "text/plain": [
       "Hint: There are exactly two ways to set ketchup and mustard to make this true. What are they?"
      ]
     },
     "metadata": {},
     "output_type": "display_data"
    },
    {
     "data": {
      "application/javascript": [
       "parent.postMessage({\"jupyterEvent\": \"custom.exercise_interaction\", \"data\": {\"interactionType\": 3, \"questionType\": 2, \"questionId\": \"5.3_OneSauce\", \"learnToolsVersion\": \"0.3.4\", \"valueTowardsCompletion\": 0.0, \"failureMessage\": \"\", \"exceptionClass\": \"\", \"trace\": \"\", \"outcomeType\": 4}}, \"*\")"
      ],
      "text/plain": [
       "<IPython.core.display.Javascript object>"
      ]
     },
     "metadata": {},
     "output_type": "display_data"
    },
    {
     "data": {
      "text/markdown": [
       "<span style=\"color:#33cc99\">Solution:</span> \n",
       "```python\n",
       "return (ketchup and not mustard) or (mustard and not ketchup)\n",
       "```"
      ],
      "text/plain": [
       "Solution: \n",
       "```python\n",
       "return (ketchup and not mustard) or (mustard and not ketchup)\n",
       "```"
      ]
     },
     "metadata": {},
     "output_type": "display_data"
    }
   ],
   "source": [
    "q5.c.hint()\n",
    "q5.c.solution()"
   ]
  },
  {
   "cell_type": "markdown",
   "id": "f1bbe987",
   "metadata": {
    "papermill": {
     "duration": 0.011754,
     "end_time": "2023-11-29T11:51:19.390247",
     "exception": false,
     "start_time": "2023-11-29T11:51:19.378493",
     "status": "completed"
    },
    "tags": []
   },
   "source": [
    "# 6. <span title=\"A bit spicy\" style=\"color: darkgreen \">🌶️</span>\n",
    "\n",
    "We’ve seen that calling `bool()` on an integer returns `False` if it’s equal to 0 and `True` otherwise. What happens if we call `int()` on a bool? Try it out in the notebook cell below.\n",
    "\n",
    "Can you take advantage of this to write a succinct function that corresponds to the English sentence \"does the customer want exactly one topping?\"?"
   ]
  },
  {
   "cell_type": "code",
   "execution_count": 19,
   "id": "ec3cf251",
   "metadata": {
    "execution": {
     "iopub.execute_input": "2023-11-29T11:51:19.416361Z",
     "iopub.status.busy": "2023-11-29T11:51:19.416015Z",
     "iopub.status.idle": "2023-11-29T11:51:19.424939Z",
     "shell.execute_reply": "2023-11-29T11:51:19.423865Z"
    },
    "papermill": {
     "duration": 0.024574,
     "end_time": "2023-11-29T11:51:19.426894",
     "exception": false,
     "start_time": "2023-11-29T11:51:19.402320",
     "status": "completed"
    },
    "tags": []
   },
   "outputs": [
    {
     "data": {
      "application/javascript": [
       "parent.postMessage({\"jupyterEvent\": \"custom.exercise_interaction\", \"data\": {\"outcomeType\": 1, \"valueTowardsCompletion\": 0.2, \"interactionType\": 1, \"questionType\": 2, \"questionId\": \"6_OneTopping\", \"learnToolsVersion\": \"0.3.4\", \"failureMessage\": \"\", \"exceptionClass\": \"\", \"trace\": \"\"}}, \"*\")"
      ],
      "text/plain": [
       "<IPython.core.display.Javascript object>"
      ]
     },
     "metadata": {},
     "output_type": "display_data"
    },
    {
     "data": {
      "text/markdown": [
       "<span style=\"color:#33cc33\">Correct:</span> \n",
       "\n",
       "This condition would be pretty complicated to express using just `and`, `or` and `not`, but using boolean-to-integer conversion gives us this short solution:\n",
       "```python\n",
       "return (int(ketchup) + int(mustard) + int(onion)) == 1\n",
       "```\n",
       "\n",
       "Fun fact: we don't technically need to call `int` on the arguments. Just by doing addition with booleans, Python implicitly does the integer conversion. So we could also write...\n",
       "\n",
       "```python\n",
       "return (ketchup + mustard + onion) == 1\n",
       "```"
      ],
      "text/plain": [
       "Correct: \n",
       "\n",
       "This condition would be pretty complicated to express using just `and`, `or` and `not`, but using boolean-to-integer conversion gives us this short solution:\n",
       "```python\n",
       "return (int(ketchup) + int(mustard) + int(onion)) == 1\n",
       "```\n",
       "\n",
       "Fun fact: we don't technically need to call `int` on the arguments. Just by doing addition with booleans, Python implicitly does the integer conversion. So we could also write...\n",
       "\n",
       "```python\n",
       "return (ketchup + mustard + onion) == 1\n",
       "```"
      ]
     },
     "metadata": {},
     "output_type": "display_data"
    }
   ],
   "source": [
    "def exactly_one_topping(ketchup, mustard, onion):\n",
    "    \"\"\"Return whether the customer wants exactly one of the three available toppings\n",
    "    on their hot dog.\n",
    "    \"\"\"\n",
    "    return (ketchup + mustard + onion) == 1\n",
    "\n",
    "# Check your answer\n",
    "q6.check()"
   ]
  },
  {
   "cell_type": "code",
   "execution_count": 20,
   "id": "962f22a4",
   "metadata": {
    "execution": {
     "iopub.execute_input": "2023-11-29T11:51:19.453304Z",
     "iopub.status.busy": "2023-11-29T11:51:19.452896Z",
     "iopub.status.idle": "2023-11-29T11:51:19.459190Z",
     "shell.execute_reply": "2023-11-29T11:51:19.458229Z"
    },
    "papermill": {
     "duration": 0.021825,
     "end_time": "2023-11-29T11:51:19.461130",
     "exception": false,
     "start_time": "2023-11-29T11:51:19.439305",
     "status": "completed"
    },
    "tags": []
   },
   "outputs": [
    {
     "data": {
      "text/plain": [
       "0"
      ]
     },
     "execution_count": 20,
     "metadata": {},
     "output_type": "execute_result"
    }
   ],
   "source": [
    "int(False)\n",
    "#q6.hint()\n",
    "#q6.solution()"
   ]
  },
  {
   "cell_type": "markdown",
   "id": "448af381",
   "metadata": {
    "papermill": {
     "duration": 0.012162,
     "end_time": "2023-11-29T11:51:19.485822",
     "exception": false,
     "start_time": "2023-11-29T11:51:19.473660",
     "status": "completed"
    },
    "tags": []
   },
   "source": [
    "# 7. <span title=\"A bit spicy\" style=\"color: darkgreen \">🌶️</span> (Optional)\n",
    "\n",
    "In this problem we'll be working with a simplified version of [blackjack](https://en.wikipedia.org/wiki/Blackjack) (aka twenty-one). In this version there is one player (who you'll control) and a dealer. Play proceeds as follows:\n",
    "\n",
    "- The player is dealt two face-up cards. The dealer is dealt one face-up card.\n",
    "- The player may ask to be dealt another card ('hit') as many times as they wish. If the sum of their cards exceeds 21, they lose the round immediately.\n",
    "- The dealer then deals additional cards to himself until either:\n",
    "    - the sum of the dealer's cards exceeds 21, in which case the player wins the round\n",
    "    - the sum of the dealer's cards is greater than or equal to 17. If the player's total is greater than the dealer's, the player wins. Otherwise, the dealer wins (even in case of a tie).\n",
    "    \n",
    "When calculating the sum of cards, Jack, Queen, and King count for 10. Aces can count as 1 or 11 (when referring to a player's \"total\" above, we mean the largest total that can be made without exceeding 21. So e.g. A+8 = 19, A+8+8 = 17)\n",
    "\n",
    "For this problem, you'll write a function representing the player's decision-making strategy in this game. We've provided a very unintelligent implementation below:"
   ]
  },
  {
   "cell_type": "code",
   "execution_count": 21,
   "id": "31d52db0",
   "metadata": {
    "execution": {
     "iopub.execute_input": "2023-11-29T11:51:19.512142Z",
     "iopub.status.busy": "2023-11-29T11:51:19.511746Z",
     "iopub.status.idle": "2023-11-29T11:51:19.517010Z",
     "shell.execute_reply": "2023-11-29T11:51:19.515924Z"
    },
    "papermill": {
     "duration": 0.020916,
     "end_time": "2023-11-29T11:51:19.519025",
     "exception": false,
     "start_time": "2023-11-29T11:51:19.498109",
     "status": "completed"
    },
    "tags": []
   },
   "outputs": [],
   "source": [
    "def should_hit(dealer_total, player_total, player_low_aces, player_high_aces):\n",
    "    \"\"\"Return True if the player should hit (request another card) given the current game\n",
    "    state, or False if the player should stay.\n",
    "    When calculating a hand's total value, we count aces as \"high\" (with value 11) if doing so\n",
    "    doesn't bring the total above 21, otherwise we count them as low (with value 1). \n",
    "    For example, if the player's hand is {A, A, A, 7}, we will count it as 11 + 1 + 1 + 7,\n",
    "    and therefore set player_total=20, player_low_aces=2, player_high_aces=1.\n",
    "    \"\"\"\n",
    "    if player_total >= 13:\n",
    "        return False\n",
    "    else: return True\n"
   ]
  },
  {
   "cell_type": "markdown",
   "id": "22e51904",
   "metadata": {
    "papermill": {
     "duration": 0.012151,
     "end_time": "2023-11-29T11:51:19.543835",
     "exception": false,
     "start_time": "2023-11-29T11:51:19.531684",
     "status": "completed"
    },
    "tags": []
   },
   "source": [
    "This very conservative agent *always* sticks with the hand of two cards that they're dealt.\n",
    "\n",
    "We'll be simulating games between your player agent and our own dealer agent by calling your function.\n",
    "\n",
    "Try running the function below to see an example of a simulated game:"
   ]
  },
  {
   "cell_type": "code",
   "execution_count": 22,
   "id": "9de7a2e2",
   "metadata": {
    "execution": {
     "iopub.execute_input": "2023-11-29T11:51:19.570605Z",
     "iopub.status.busy": "2023-11-29T11:51:19.569803Z",
     "iopub.status.idle": "2023-11-29T11:51:19.574795Z",
     "shell.execute_reply": "2023-11-29T11:51:19.573956Z"
    },
    "papermill": {
     "duration": 0.021038,
     "end_time": "2023-11-29T11:51:19.577165",
     "exception": false,
     "start_time": "2023-11-29T11:51:19.556127",
     "status": "completed"
    },
    "tags": []
   },
   "outputs": [
    {
     "name": "stdout",
     "output_type": "stream",
     "text": [
      "Player starts with 2 and K (total = 12)\n",
      "Dealer starts with 10\n",
      "\n",
      "__Player's turn__\n",
      "Player hits and receives 2. (total = 14)\n",
      "Player stays\n",
      "\n",
      "__Dealer's turn__\n",
      "Dealer hits and receives A. (total = 21)\n",
      "Dealer stands.\n",
      "Dealer wins. 21 >= 14\n"
     ]
    }
   ],
   "source": [
    "q7.simulate_one_game()"
   ]
  },
  {
   "cell_type": "markdown",
   "id": "3187ce01",
   "metadata": {
    "papermill": {
     "duration": 0.012174,
     "end_time": "2023-11-29T11:51:19.601864",
     "exception": false,
     "start_time": "2023-11-29T11:51:19.589690",
     "status": "completed"
    },
    "tags": []
   },
   "source": [
    "The real test of your agent's mettle is their average win rate over many games. Try calling the function below to simulate 50000 games of blackjack (it may take a couple seconds):"
   ]
  },
  {
   "cell_type": "code",
   "execution_count": 23,
   "id": "c89b3ea9",
   "metadata": {
    "execution": {
     "iopub.execute_input": "2023-11-29T11:51:19.628756Z",
     "iopub.status.busy": "2023-11-29T11:51:19.628359Z",
     "iopub.status.idle": "2023-11-29T11:51:21.153861Z",
     "shell.execute_reply": "2023-11-29T11:51:21.152672Z"
    },
    "papermill": {
     "duration": 1.54175,
     "end_time": "2023-11-29T11:51:21.156102",
     "exception": false,
     "start_time": "2023-11-29T11:51:19.614352",
     "status": "completed"
    },
    "tags": []
   },
   "outputs": [
    {
     "name": "stdout",
     "output_type": "stream",
     "text": [
      "Player won 20563 out of 50000 games (win rate = 41.1%)\n"
     ]
    }
   ],
   "source": [
    "q7.simulate(n_games=50000)"
   ]
  },
  {
   "cell_type": "markdown",
   "id": "293e3233",
   "metadata": {
    "papermill": {
     "duration": 0.012469,
     "end_time": "2023-11-29T11:51:21.181457",
     "exception": false,
     "start_time": "2023-11-29T11:51:21.168988",
     "status": "completed"
    },
    "tags": []
   },
   "source": [
    "Our dumb agent that completely ignores the game state still manages to win shockingly often!\n",
    "\n",
    "Try adding some more smarts to the `should_hit` function and see how it affects the results."
   ]
  },
  {
   "cell_type": "code",
   "execution_count": 24,
   "id": "873f2e61",
   "metadata": {
    "execution": {
     "iopub.execute_input": "2023-11-29T11:51:21.209084Z",
     "iopub.status.busy": "2023-11-29T11:51:21.208169Z",
     "iopub.status.idle": "2023-11-29T11:51:22.736473Z",
     "shell.execute_reply": "2023-11-29T11:51:22.735274Z"
    },
    "papermill": {
     "duration": 1.544792,
     "end_time": "2023-11-29T11:51:22.738868",
     "exception": false,
     "start_time": "2023-11-29T11:51:21.194076",
     "status": "completed"
    },
    "tags": []
   },
   "outputs": [
    {
     "name": "stdout",
     "output_type": "stream",
     "text": [
      "Player won 20845 out of 50000 games (win rate = 41.7%)\n"
     ]
    }
   ],
   "source": [
    "def should_hit(dealer_total, player_total, player_low_aces, player_high_aces):\n",
    "    \"\"\"Return True if the player should hit (request another card) given the current game\n",
    "    state, or False if the player should stay.\n",
    "    When calculating a hand's total value, we count aces as \"high\" (with value 11) if doing so\n",
    "    doesn't bring the total above 21, otherwise we count them as low (with value 1). \n",
    "    For example, if the player's hand is {A, A, A, 7}, we will count it as 11 + 1 + 1 + 7,\n",
    "    and therefore set player_total=20, player_low_aces=2, player_high_aces=1.\n",
    "    \"\"\"\n",
    "    if dealer_total >= 21:\n",
    "        return False\n",
    "    elif dealer_total >= 17:\n",
    "        if player_total > dealer_total:\n",
    "            return False\n",
    "        else: return True\n",
    "    elif dealer_total < 17:\n",
    "            if player_total > dealer_total:\n",
    "                if player_total <= 13:\n",
    "                    return True\n",
    "                else: return False\n",
    "            elif player_total <= dealer_total:\n",
    "                if player_total <= 15:\n",
    "                    return True\n",
    "                else: return False\n",
    "\n",
    "\n",
    "q7.simulate(n_games=50000)"
   ]
  },
  {
   "cell_type": "markdown",
   "id": "ba65d4a7",
   "metadata": {
    "papermill": {
     "duration": 0.012831,
     "end_time": "2023-11-29T11:51:22.765211",
     "exception": false,
     "start_time": "2023-11-29T11:51:22.752380",
     "status": "completed"
    },
    "tags": []
   },
   "source": [
    "# Keep Going\n",
    "\n",
    "Learn about **[lists and tuples](https://www.kaggle.com/colinmorris/lists)** to handle multiple items of data in a systematic way."
   ]
  },
  {
   "cell_type": "markdown",
   "id": "85a63eae",
   "metadata": {
    "papermill": {
     "duration": 0.012457,
     "end_time": "2023-11-29T11:51:22.790344",
     "exception": false,
     "start_time": "2023-11-29T11:51:22.777887",
     "status": "completed"
    },
    "tags": []
   },
   "source": [
    "---\n",
    "\n",
    "\n",
    "\n",
    "\n",
    "*Have questions or comments? Visit the [course discussion forum](https://www.kaggle.com/learn/python/discussion) to chat with other learners.*"
   ]
  }
 ],
 "metadata": {
  "kaggle": {
   "accelerator": "none",
   "dataSources": [],
   "isGpuEnabled": false,
   "isInternetEnabled": false,
   "language": "python",
   "sourceType": "notebook"
  },
  "kernelspec": {
   "display_name": "Python 3",
   "language": "python",
   "name": "python3"
  },
  "language_info": {
   "codemirror_mode": {
    "name": "ipython",
    "version": 3
   },
   "file_extension": ".py",
   "mimetype": "text/x-python",
   "name": "python",
   "nbconvert_exporter": "python",
   "pygments_lexer": "ipython3",
   "version": "3.10.12"
  },
  "learntools_metadata": {
   "lesson_index": 2,
   "type": "exercise"
  },
  "papermill": {
   "default_parameters": {},
   "duration": 8.112164,
   "end_time": "2023-11-29T11:51:23.222774",
   "environment_variables": {},
   "exception": null,
   "input_path": "__notebook__.ipynb",
   "output_path": "__notebook__.ipynb",
   "parameters": {},
   "start_time": "2023-11-29T11:51:15.110610",
   "version": "2.4.0"
  }
 },
 "nbformat": 4,
 "nbformat_minor": 5
}

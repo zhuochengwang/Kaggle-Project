{
 "cells": [
  {
   "cell_type": "markdown",
   "id": "264915ea",
   "metadata": {
    "papermill": {
     "duration": 0.0065,
     "end_time": "2023-11-29T11:46:03.969867",
     "exception": false,
     "start_time": "2023-11-29T11:46:03.963367",
     "status": "completed"
    },
    "tags": []
   },
   "source": [
    "**This notebook is an exercise in the [Python](https://www.kaggle.com/learn/python) course.  You can reference the tutorial at [this link](https://www.kaggle.com/colinmorris/functions-and-getting-help).**\n",
    "\n",
    "---\n"
   ]
  },
  {
   "cell_type": "markdown",
   "id": "037e276e",
   "metadata": {
    "papermill": {
     "duration": 0.005742,
     "end_time": "2023-11-29T11:46:03.983946",
     "exception": false,
     "start_time": "2023-11-29T11:46:03.978204",
     "status": "completed"
    },
    "tags": []
   },
   "source": [
    "Functions are powerful. Try writing some yourself.\n",
    "\n",
    "As before, don't forget to run the setup code below before jumping into question 1."
   ]
  },
  {
   "cell_type": "code",
   "execution_count": 1,
   "id": "8ed19704",
   "metadata": {
    "_kg_hide-input": true,
    "_kg_hide-output": true,
    "execution": {
     "iopub.execute_input": "2023-11-29T11:46:03.998627Z",
     "iopub.status.busy": "2023-11-29T11:46:03.997350Z",
     "iopub.status.idle": "2023-11-29T11:46:04.469625Z",
     "shell.execute_reply": "2023-11-29T11:46:04.468064Z"
    },
    "papermill": {
     "duration": 0.483254,
     "end_time": "2023-11-29T11:46:04.473142",
     "exception": false,
     "start_time": "2023-11-29T11:46:03.989888",
     "status": "completed"
    },
    "tags": []
   },
   "outputs": [
    {
     "name": "stdout",
     "output_type": "stream",
     "text": [
      "Setup complete.\n"
     ]
    }
   ],
   "source": [
    "# SETUP. You don't need to worry for now about what this code does or how it works.\n",
    "from learntools.core import binder; binder.bind(globals())\n",
    "from learntools.python.ex2 import *\n",
    "print('Setup complete.')"
   ]
  },
  {
   "cell_type": "markdown",
   "id": "9d28141b",
   "metadata": {
    "papermill": {
     "duration": 0.005828,
     "end_time": "2023-11-29T11:46:04.485293",
     "exception": false,
     "start_time": "2023-11-29T11:46:04.479465",
     "status": "completed"
    },
    "tags": []
   },
   "source": [
    "# 1.\n",
    "\n",
    "Complete the body of the following function according to its docstring.\n",
    "\n",
    "HINT: Python has a built-in function `round`."
   ]
  },
  {
   "cell_type": "code",
   "execution_count": 2,
   "id": "85fe7217",
   "metadata": {
    "execution": {
     "iopub.execute_input": "2023-11-29T11:46:04.499408Z",
     "iopub.status.busy": "2023-11-29T11:46:04.498881Z",
     "iopub.status.idle": "2023-11-29T11:46:04.510229Z",
     "shell.execute_reply": "2023-11-29T11:46:04.509184Z"
    },
    "papermill": {
     "duration": 0.021529,
     "end_time": "2023-11-29T11:46:04.512906",
     "exception": false,
     "start_time": "2023-11-29T11:46:04.491377",
     "status": "completed"
    },
    "tags": []
   },
   "outputs": [
    {
     "data": {
      "application/javascript": [
       "parent.postMessage({\"jupyterEvent\": \"custom.exercise_interaction\", \"data\": {\"outcomeType\": 1, \"valueTowardsCompletion\": 0.16666666666666666, \"interactionType\": 1, \"questionType\": 2, \"questionId\": \"1_RoundFunctionProblem\", \"learnToolsVersion\": \"0.3.4\", \"failureMessage\": \"\", \"exceptionClass\": \"\", \"trace\": \"\"}}, \"*\")"
      ],
      "text/plain": [
       "<IPython.core.display.Javascript object>"
      ]
     },
     "metadata": {},
     "output_type": "display_data"
    },
    {
     "data": {
      "text/markdown": [
       "<span style=\"color:#33cc33\">Correct</span>"
      ],
      "text/plain": [
       "Correct"
      ]
     },
     "metadata": {},
     "output_type": "display_data"
    }
   ],
   "source": [
    "def round_to_two_places(num):\n",
    "    \"\"\"Return the given number rounded to two decimal places. \n",
    "    \n",
    "    >>> round_to_two_places(3.14159)\n",
    "    3.14\n",
    "    \"\"\"\n",
    "    rounded = round(num, 2)\n",
    "    return rounded\n",
    "    # Replace this body with your own code.\n",
    "    # (\"pass\" is a keyword that does literally nothing. We used it as a placeholder\n",
    "    # because after we begin a code block, Python requires at least one line of code)\n",
    "\n",
    "# Check your answer\n",
    "q1.check()"
   ]
  },
  {
   "cell_type": "code",
   "execution_count": 3,
   "id": "374d7d35",
   "metadata": {
    "execution": {
     "iopub.execute_input": "2023-11-29T11:46:04.528028Z",
     "iopub.status.busy": "2023-11-29T11:46:04.527383Z",
     "iopub.status.idle": "2023-11-29T11:46:04.531801Z",
     "shell.execute_reply": "2023-11-29T11:46:04.530997Z"
    },
    "papermill": {
     "duration": 0.014508,
     "end_time": "2023-11-29T11:46:04.533998",
     "exception": false,
     "start_time": "2023-11-29T11:46:04.519490",
     "status": "completed"
    },
    "tags": []
   },
   "outputs": [],
   "source": [
    "# Uncomment the following for a hint\n",
    "#q1.hint()\n",
    "# Or uncomment the following to peek at the solution\n",
    "#q1.solution()"
   ]
  },
  {
   "cell_type": "markdown",
   "id": "f4678f09",
   "metadata": {
    "papermill": {
     "duration": 0.006376,
     "end_time": "2023-11-29T11:46:04.546960",
     "exception": false,
     "start_time": "2023-11-29T11:46:04.540584",
     "status": "completed"
    },
    "tags": []
   },
   "source": [
    "# 2.\n",
    "The help for `round` says that `ndigits` (the second argument) may be negative.\n",
    "What do you think will happen when it is? Try some examples in the following cell."
   ]
  },
  {
   "cell_type": "code",
   "execution_count": 4,
   "id": "d92f1315",
   "metadata": {
    "execution": {
     "iopub.execute_input": "2023-11-29T11:46:04.561904Z",
     "iopub.status.busy": "2023-11-29T11:46:04.561485Z",
     "iopub.status.idle": "2023-11-29T11:46:04.568677Z",
     "shell.execute_reply": "2023-11-29T11:46:04.567521Z"
    },
    "papermill": {
     "duration": 0.017577,
     "end_time": "2023-11-29T11:46:04.571068",
     "exception": false,
     "start_time": "2023-11-29T11:46:04.553491",
     "status": "completed"
    },
    "tags": []
   },
   "outputs": [
    {
     "data": {
      "text/plain": [
       "23948000"
      ]
     },
     "execution_count": 4,
     "metadata": {},
     "output_type": "execute_result"
    }
   ],
   "source": [
    "# Put your test code here\n",
    "round(23947987, -2)"
   ]
  },
  {
   "cell_type": "markdown",
   "id": "17375b04",
   "metadata": {
    "papermill": {
     "duration": 0.006539,
     "end_time": "2023-11-29T11:46:04.584317",
     "exception": false,
     "start_time": "2023-11-29T11:46:04.577778",
     "status": "completed"
    },
    "tags": []
   },
   "source": [
    "Can you think of a case where this would be useful?  Once you're ready, run the code cell below to see the answer and to receive credit for completing the problem."
   ]
  },
  {
   "cell_type": "code",
   "execution_count": 5,
   "id": "2dd2b341",
   "metadata": {
    "execution": {
     "iopub.execute_input": "2023-11-29T11:46:04.599276Z",
     "iopub.status.busy": "2023-11-29T11:46:04.598888Z",
     "iopub.status.idle": "2023-11-29T11:46:04.607700Z",
     "shell.execute_reply": "2023-11-29T11:46:04.606570Z"
    },
    "papermill": {
     "duration": 0.019146,
     "end_time": "2023-11-29T11:46:04.610126",
     "exception": false,
     "start_time": "2023-11-29T11:46:04.590980",
     "status": "completed"
    },
    "tags": []
   },
   "outputs": [
    {
     "data": {
      "application/javascript": [
       "parent.postMessage({\"jupyterEvent\": \"custom.exercise_interaction\", \"data\": {\"interactionType\": 3, \"questionType\": 4, \"questionId\": \"2_RoundNdigitsProblem\", \"learnToolsVersion\": \"0.3.4\", \"valueTowardsCompletion\": 0.0, \"failureMessage\": \"\", \"exceptionClass\": \"\", \"trace\": \"\", \"outcomeType\": 4}}, \"*\")"
      ],
      "text/plain": [
       "<IPython.core.display.Javascript object>"
      ]
     },
     "metadata": {},
     "output_type": "display_data"
    },
    {
     "data": {
      "text/markdown": [
       "<span style=\"color:#33cc99\">Solution:</span> As you've seen, `ndigits=-1` rounds to the nearest 10, `ndigits=-2` rounds to the nearest 100 and so on. Where might this be useful? Suppose we're dealing with large numbers:\n",
       "\n",
       "> The area of Finland is 338,424 km²  \n",
       "> The area of Greenland is 2,166,086 km²\n",
       "\n",
       "We probably don't care whether it's really 338,424, or 338,425, or 338,177. All those digits of accuracy are just distracting. We can chop them off by calling `round()` with `ndigits=-3`:\n",
       "\n",
       "> The area of Finland is 338,000 km²  \n",
       "> The area of Greenland is 2,166,000 km²\n",
       "\n",
       "(We'll talk about how we would get the commas later when we talk about string formatting :))\n"
      ],
      "text/plain": [
       "Solution: As you've seen, `ndigits=-1` rounds to the nearest 10, `ndigits=-2` rounds to the nearest 100 and so on. Where might this be useful? Suppose we're dealing with large numbers:\n",
       "\n",
       "> The area of Finland is 338,424 km²  \n",
       "> The area of Greenland is 2,166,086 km²\n",
       "\n",
       "We probably don't care whether it's really 338,424, or 338,425, or 338,177. All those digits of accuracy are just distracting. We can chop them off by calling `round()` with `ndigits=-3`:\n",
       "\n",
       "> The area of Finland is 338,000 km²  \n",
       "> The area of Greenland is 2,166,000 km²\n",
       "\n",
       "(We'll talk about how we would get the commas later when we talk about string formatting :))"
      ]
     },
     "metadata": {},
     "output_type": "display_data"
    }
   ],
   "source": [
    "# Check your answer (Run this code cell to receive credit!)\n",
    "q2.solution()"
   ]
  },
  {
   "cell_type": "markdown",
   "id": "274444cd",
   "metadata": {
    "papermill": {
     "duration": 0.006819,
     "end_time": "2023-11-29T11:46:04.624231",
     "exception": false,
     "start_time": "2023-11-29T11:46:04.617412",
     "status": "completed"
    },
    "tags": []
   },
   "source": [
    "# 3.\n",
    "\n",
    "In the previous exercise, the candy-sharing friends Alice, Bob and Carol tried to split candies evenly. For the sake of their friendship, any candies left over would be smashed. For example, if they collectively bring home 91 candies, they'll take 30 each and smash 1.\n",
    "\n",
    "Below is a simple function that will calculate the number of candies to smash for *any* number of total candies.\n",
    "\n",
    "Modify it so that it optionally takes a second argument representing the number of friends the candies are being split between. If no second argument is provided, it should assume 3 friends, as before.\n",
    "\n",
    "Update the docstring to reflect this new behaviour."
   ]
  },
  {
   "cell_type": "code",
   "execution_count": 6,
   "id": "839d800a",
   "metadata": {
    "execution": {
     "iopub.execute_input": "2023-11-29T11:46:04.640444Z",
     "iopub.status.busy": "2023-11-29T11:46:04.639793Z",
     "iopub.status.idle": "2023-11-29T11:46:04.649191Z",
     "shell.execute_reply": "2023-11-29T11:46:04.648087Z"
    },
    "papermill": {
     "duration": 0.020141,
     "end_time": "2023-11-29T11:46:04.651422",
     "exception": false,
     "start_time": "2023-11-29T11:46:04.631281",
     "status": "completed"
    },
    "tags": []
   },
   "outputs": [
    {
     "data": {
      "application/javascript": [
       "parent.postMessage({\"jupyterEvent\": \"custom.exercise_interaction\", \"data\": {\"outcomeType\": 1, \"valueTowardsCompletion\": 0.16666666666666666, \"interactionType\": 1, \"questionType\": 2, \"questionId\": \"3_CandySmashingFunctionProblem\", \"learnToolsVersion\": \"0.3.4\", \"failureMessage\": \"\", \"exceptionClass\": \"\", \"trace\": \"\"}}, \"*\")"
      ],
      "text/plain": [
       "<IPython.core.display.Javascript object>"
      ]
     },
     "metadata": {},
     "output_type": "display_data"
    },
    {
     "data": {
      "text/markdown": [
       "<span style=\"color:#33cc33\">Correct</span>"
      ],
      "text/plain": [
       "Correct"
      ]
     },
     "metadata": {},
     "output_type": "display_data"
    }
   ],
   "source": [
    "def to_smash(total_candies, friends_count = 3):\n",
    "    \"\"\"Return the number of leftover candies that must be smashed after distributing\n",
    "    the given number of candies evenly between 3 friends.\n",
    "    \n",
    "    >>> to_smash(91)\n",
    "    1\n",
    "    \"\"\"\n",
    "    return total_candies % friends_count\n",
    "\n",
    "# Check your answer\n",
    "q3.check()"
   ]
  },
  {
   "cell_type": "code",
   "execution_count": 7,
   "id": "3d92fdc9",
   "metadata": {
    "execution": {
     "iopub.execute_input": "2023-11-29T11:46:04.668534Z",
     "iopub.status.busy": "2023-11-29T11:46:04.667935Z",
     "iopub.status.idle": "2023-11-29T11:46:04.672157Z",
     "shell.execute_reply": "2023-11-29T11:46:04.671212Z"
    },
    "papermill": {
     "duration": 0.015431,
     "end_time": "2023-11-29T11:46:04.674271",
     "exception": false,
     "start_time": "2023-11-29T11:46:04.658840",
     "status": "completed"
    },
    "tags": []
   },
   "outputs": [],
   "source": [
    "#q3.hint()"
   ]
  },
  {
   "cell_type": "code",
   "execution_count": 8,
   "id": "71eaa732",
   "metadata": {
    "execution": {
     "iopub.execute_input": "2023-11-29T11:46:04.691944Z",
     "iopub.status.busy": "2023-11-29T11:46:04.690765Z",
     "iopub.status.idle": "2023-11-29T11:46:04.695949Z",
     "shell.execute_reply": "2023-11-29T11:46:04.694860Z"
    },
    "papermill": {
     "duration": 0.016261,
     "end_time": "2023-11-29T11:46:04.698115",
     "exception": false,
     "start_time": "2023-11-29T11:46:04.681854",
     "status": "completed"
    },
    "tags": []
   },
   "outputs": [],
   "source": [
    "#q3.solution()"
   ]
  },
  {
   "cell_type": "markdown",
   "id": "c3f516dc",
   "metadata": {
    "papermill": {
     "duration": 0.007353,
     "end_time": "2023-11-29T11:46:04.713280",
     "exception": false,
     "start_time": "2023-11-29T11:46:04.705927",
     "status": "completed"
    },
    "tags": []
   },
   "source": [
    "# 4. (Optional)\n",
    "\n",
    "It may not be fun, but reading and understanding error messages will be an important part of your Python career.\n",
    "\n",
    "Each code cell below contains some commented buggy code. For each cell...\n",
    "\n",
    "1. Read the code and predict what you think will happen when it's run.\n",
    "2. Then uncomment the code and run it to see what happens. (**Tip**: In the kernel editor, you can highlight several lines and press `ctrl`+`/` to toggle commenting.)\n",
    "3. Fix the code (so that it accomplishes its intended purpose without throwing an exception)\n",
    "\n",
    "<!-- TODO: should this be autochecked? Delta is probably pretty small. -->"
   ]
  },
  {
   "cell_type": "code",
   "execution_count": 9,
   "id": "d83ff316",
   "metadata": {
    "execution": {
     "iopub.execute_input": "2023-11-29T11:46:04.730567Z",
     "iopub.status.busy": "2023-11-29T11:46:04.729882Z",
     "iopub.status.idle": "2023-11-29T11:46:04.736550Z",
     "shell.execute_reply": "2023-11-29T11:46:04.735454Z"
    },
    "papermill": {
     "duration": 0.018079,
     "end_time": "2023-11-29T11:46:04.738877",
     "exception": false,
     "start_time": "2023-11-29T11:46:04.720798",
     "status": "completed"
    },
    "tags": []
   },
   "outputs": [
    {
     "data": {
      "text/plain": [
       "10.0"
      ]
     },
     "execution_count": 9,
     "metadata": {},
     "output_type": "execute_result"
    }
   ],
   "source": [
    "round_to_two_places(9.9999)"
   ]
  },
  {
   "cell_type": "code",
   "execution_count": 10,
   "id": "cc0faa2a",
   "metadata": {
    "execution": {
     "iopub.execute_input": "2023-11-29T11:46:04.756555Z",
     "iopub.status.busy": "2023-11-29T11:46:04.756158Z",
     "iopub.status.idle": "2023-11-29T11:46:04.762563Z",
     "shell.execute_reply": "2023-11-29T11:46:04.761235Z"
    },
    "papermill": {
     "duration": 0.018461,
     "end_time": "2023-11-29T11:46:04.765220",
     "exception": false,
     "start_time": "2023-11-29T11:46:04.746759",
     "status": "completed"
    },
    "tags": []
   },
   "outputs": [
    {
     "name": "stdout",
     "output_type": "stream",
     "text": [
      "5\n"
     ]
    }
   ],
   "source": [
    "x = -10\n",
    "y = 5\n",
    "# # Which of the two variables above has the smallest absolute value?\n",
    "smallest_abs = min(abs(x), abs(y))\n",
    "print(smallest_abs)"
   ]
  },
  {
   "cell_type": "code",
   "execution_count": 11,
   "id": "32692bbd",
   "metadata": {
    "execution": {
     "iopub.execute_input": "2023-11-29T11:46:04.782643Z",
     "iopub.status.busy": "2023-11-29T11:46:04.782260Z",
     "iopub.status.idle": "2023-11-29T11:46:04.787912Z",
     "shell.execute_reply": "2023-11-29T11:46:04.786869Z"
    },
    "papermill": {
     "duration": 0.016846,
     "end_time": "2023-11-29T11:46:04.790018",
     "exception": false,
     "start_time": "2023-11-29T11:46:04.773172",
     "status": "completed"
    },
    "tags": []
   },
   "outputs": [
    {
     "name": "stdout",
     "output_type": "stream",
     "text": [
      "5\n"
     ]
    }
   ],
   "source": [
    "def f(x):\n",
    "    y = abs(x)\n",
    "    return y\n",
    "\n",
    "print(f(5))"
   ]
  },
  {
   "cell_type": "markdown",
   "id": "bf04a67b",
   "metadata": {
    "papermill": {
     "duration": 0.007605,
     "end_time": "2023-11-29T11:46:04.805528",
     "exception": false,
     "start_time": "2023-11-29T11:46:04.797923",
     "status": "completed"
    },
    "tags": []
   },
   "source": [
    "# Keep Going\n",
    "\n",
    "Nice job with the code. Next up, you'll learn about *conditionals*, which you'll need to **[write interesting programs](https://www.kaggle.com/colinmorris/booleans-and-conditionals)**. "
   ]
  },
  {
   "cell_type": "markdown",
   "id": "17d4967d",
   "metadata": {
    "papermill": {
     "duration": 0.007545,
     "end_time": "2023-11-29T11:46:04.821058",
     "exception": false,
     "start_time": "2023-11-29T11:46:04.813513",
     "status": "completed"
    },
    "tags": []
   },
   "source": [
    "---\n",
    "\n",
    "\n",
    "\n",
    "\n",
    "*Have questions or comments? Visit the [course discussion forum](https://www.kaggle.com/learn/python/discussion) to chat with other learners.*"
   ]
  }
 ],
 "metadata": {
  "kaggle": {
   "accelerator": "none",
   "dataSources": [],
   "isGpuEnabled": false,
   "isInternetEnabled": false,
   "language": "python",
   "sourceType": "notebook"
  },
  "kernelspec": {
   "display_name": "Python 3",
   "language": "python",
   "name": "python3"
  },
  "language_info": {
   "codemirror_mode": {
    "name": "ipython",
    "version": 3
   },
   "file_extension": ".py",
   "mimetype": "text/x-python",
   "name": "python",
   "nbconvert_exporter": "python",
   "pygments_lexer": "ipython3",
   "version": "3.10.12"
  },
  "learntools_metadata": {
   "lesson_index": 1,
   "type": "exercise"
  },
  "papermill": {
   "default_parameters": {},
   "duration": 4.710485,
   "end_time": "2023-11-29T11:46:05.248773",
   "environment_variables": {},
   "exception": null,
   "input_path": "__notebook__.ipynb",
   "output_path": "__notebook__.ipynb",
   "parameters": {},
   "start_time": "2023-11-29T11:46:00.538288",
   "version": "2.4.0"
  }
 },
 "nbformat": 4,
 "nbformat_minor": 5
}

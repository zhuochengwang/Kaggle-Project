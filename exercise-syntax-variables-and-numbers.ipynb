{
 "cells": [
  {
   "cell_type": "markdown",
   "id": "1b1a02b5",
   "metadata": {
    "papermill": {
     "duration": 0.010864,
     "end_time": "2023-11-29T11:51:04.735984",
     "exception": false,
     "start_time": "2023-11-29T11:51:04.725120",
     "status": "completed"
    },
    "tags": []
   },
   "source": [
    "**This notebook is an exercise in the [Python](https://www.kaggle.com/learn/python) course.  You can reference the tutorial at [this link](https://www.kaggle.com/colinmorris/hello-python).**\n",
    "\n",
    "---\n"
   ]
  },
  {
   "cell_type": "markdown",
   "id": "b10a4b2b",
   "metadata": {
    "papermill": {
     "duration": 0.008815,
     "end_time": "2023-11-29T11:51:04.754068",
     "exception": false,
     "start_time": "2023-11-29T11:51:04.745253",
     "status": "completed"
    },
    "tags": []
   },
   "source": [
    "Welcome to your first set of Python coding problems.  If this is your first time using Kaggle Notebooks, welcome! \n",
    "\n",
    "Notebooks are composed of blocks (called \"cells\") of text and code. Each of these is editable, though you'll mainly be editing the code cells to answer some questions.\n",
    "\n",
    "To get started, try running the code cell below (by pressing the ► button, or clicking on the cell and pressing ctrl+enter on your keyboard)."
   ]
  },
  {
   "cell_type": "code",
   "execution_count": null,
   "id": "2f072276",
   "metadata": {
    "papermill": {
     "duration": 0.008856,
     "end_time": "2023-11-29T11:51:04.772136",
     "exception": false,
     "start_time": "2023-11-29T11:51:04.763280",
     "status": "completed"
    },
    "tags": []
   },
   "outputs": [],
   "source": []
  },
  {
   "cell_type": "code",
   "execution_count": null,
   "id": "a59c6012",
   "metadata": {
    "papermill": {
     "duration": 0.008723,
     "end_time": "2023-11-29T11:51:04.790040",
     "exception": false,
     "start_time": "2023-11-29T11:51:04.781317",
     "status": "completed"
    },
    "tags": []
   },
   "outputs": [],
   "source": []
  },
  {
   "cell_type": "code",
   "execution_count": null,
   "id": "5a8e8b71",
   "metadata": {
    "papermill": {
     "duration": 0.008829,
     "end_time": "2023-11-29T11:51:04.808053",
     "exception": false,
     "start_time": "2023-11-29T11:51:04.799224",
     "status": "completed"
    },
    "tags": []
   },
   "outputs": [],
   "source": []
  },
  {
   "cell_type": "code",
   "execution_count": 1,
   "id": "cecf9114",
   "metadata": {
    "execution": {
     "iopub.execute_input": "2023-11-29T11:51:04.828162Z",
     "iopub.status.busy": "2023-11-29T11:51:04.827728Z",
     "iopub.status.idle": "2023-11-29T11:51:04.839907Z",
     "shell.execute_reply": "2023-11-29T11:51:04.838671Z"
    },
    "papermill": {
     "duration": 0.025354,
     "end_time": "2023-11-29T11:51:04.842534",
     "exception": false,
     "start_time": "2023-11-29T11:51:04.817180",
     "status": "completed"
    },
    "tags": []
   },
   "outputs": [
    {
     "name": "stdout",
     "output_type": "stream",
     "text": [
      "You've successfully run some Python code\n",
      "Congratulations!\n"
     ]
    }
   ],
   "source": [
    "print(\"You've successfully run some Python code\")\n",
    "print(\"Congratulations!\")"
   ]
  },
  {
   "cell_type": "code",
   "execution_count": null,
   "id": "cfc1f114",
   "metadata": {
    "papermill": {
     "duration": 0.008952,
     "end_time": "2023-11-29T11:51:04.860723",
     "exception": false,
     "start_time": "2023-11-29T11:51:04.851771",
     "status": "completed"
    },
    "tags": []
   },
   "outputs": [],
   "source": []
  },
  {
   "cell_type": "markdown",
   "id": "75f23434",
   "metadata": {
    "papermill": {
     "duration": 0.008915,
     "end_time": "2023-11-29T11:51:04.878810",
     "exception": false,
     "start_time": "2023-11-29T11:51:04.869895",
     "status": "completed"
    },
    "tags": []
   },
   "source": [
    "Try adding another line of code in the cell above and re-running it. \n",
    "\n",
    "Now let's get a little fancier:  Add a new code cell by clicking on an existing code cell, hitting the escape key, and then hitting the `a` or `b` key.  The `a` key will add a cell above the current cell, and `b` adds a cell below.\n",
    "\n",
    "Great! Now you know how to use Notebooks.\n",
    "\n",
    "Each hands-on exercise starts by setting up our feedback and code checking mechanism. Run the code cell below to do that. Then you'll be ready to move on to question 0."
   ]
  },
  {
   "cell_type": "code",
   "execution_count": 2,
   "id": "02efa8dc",
   "metadata": {
    "_kg_hide-input": true,
    "_kg_hide-output": true,
    "execution": {
     "iopub.execute_input": "2023-11-29T11:51:04.899054Z",
     "iopub.status.busy": "2023-11-29T11:51:04.898613Z",
     "iopub.status.idle": "2023-11-29T11:51:05.331896Z",
     "shell.execute_reply": "2023-11-29T11:51:05.330551Z"
    },
    "papermill": {
     "duration": 0.446359,
     "end_time": "2023-11-29T11:51:05.334323",
     "exception": false,
     "start_time": "2023-11-29T11:51:04.887964",
     "status": "completed"
    },
    "tags": []
   },
   "outputs": [
    {
     "name": "stdout",
     "output_type": "stream",
     "text": [
      "Setup complete! You're ready to start question 0.\n"
     ]
    }
   ],
   "source": [
    "from learntools.core import binder; binder.bind(globals())\n",
    "from learntools.python.ex1 import *\n",
    "print(\"Setup complete! You're ready to start question 0.\")"
   ]
  },
  {
   "cell_type": "markdown",
   "id": "86a019a8",
   "metadata": {
    "papermill": {
     "duration": 0.00906,
     "end_time": "2023-11-29T11:51:05.352729",
     "exception": false,
     "start_time": "2023-11-29T11:51:05.343669",
     "status": "completed"
    },
    "tags": []
   },
   "source": [
    "# 0.\n",
    "\n",
    "*This is a silly question intended as an introduction to the format we use for hands-on exercises throughout all Kaggle courses.*\n",
    "\n",
    "**What is your favorite color? **\n",
    "\n",
    "To complete this question, create a variable called `color` in the cell below with an appropriate value. The function call `q0.check()` (which we've already provided in the cell below) will check your answer."
   ]
  },
  {
   "cell_type": "code",
   "execution_count": 3,
   "id": "fd7e8599",
   "metadata": {
    "execution": {
     "iopub.execute_input": "2023-11-29T11:51:05.372755Z",
     "iopub.status.busy": "2023-11-29T11:51:05.372203Z",
     "iopub.status.idle": "2023-11-29T11:51:05.382315Z",
     "shell.execute_reply": "2023-11-29T11:51:05.381324Z"
    },
    "papermill": {
     "duration": 0.022788,
     "end_time": "2023-11-29T11:51:05.384689",
     "exception": false,
     "start_time": "2023-11-29T11:51:05.361901",
     "status": "completed"
    },
    "tags": []
   },
   "outputs": [
    {
     "data": {
      "application/javascript": [
       "parent.postMessage({\"jupyterEvent\": \"custom.exercise_interaction\", \"data\": {\"outcomeType\": 1, \"valueTowardsCompletion\": 0.25, \"interactionType\": 1, \"questionType\": 2, \"questionId\": \"0_ExerciseFormatTutorial\", \"learnToolsVersion\": \"0.3.4\", \"failureMessage\": \"\", \"exceptionClass\": \"\", \"trace\": \"\"}}, \"*\")"
      ],
      "text/plain": [
       "<IPython.core.display.Javascript object>"
      ]
     },
     "metadata": {},
     "output_type": "display_data"
    },
    {
     "data": {
      "text/markdown": [
       "<span style=\"color:#33cc33\">Correct:</span> What?! You got it right without needing a hint or anything? Drats. Well hey, you should still continue to the next step to get some practice asking for a hint and checking solutions. (Even though you obviously don't need any help here.)"
      ],
      "text/plain": [
       "Correct: What?! You got it right without needing a hint or anything? Drats. Well hey, you should still continue to the next step to get some practice asking for a hint and checking solutions. (Even though you obviously don't need any help here.)"
      ]
     },
     "metadata": {},
     "output_type": "display_data"
    }
   ],
   "source": [
    "# create a variable called color with an appropriate value on the line below\n",
    "# (Remember, strings in Python must be enclosed in 'single' or \"double\" quotes)\n",
    "color = 'blue'\n",
    "\n",
    "# Check your answer\n",
    "q0.check()"
   ]
  },
  {
   "cell_type": "markdown",
   "id": "0ec65f92",
   "metadata": {
    "papermill": {
     "duration": 0.009325,
     "end_time": "2023-11-29T11:51:05.403895",
     "exception": false,
     "start_time": "2023-11-29T11:51:05.394570",
     "status": "completed"
    },
    "tags": []
   },
   "source": [
    "Didn't get the right answer? How do you not even know your own favorite color?!\n",
    "\n",
    "Delete the `#` in the line below to make one of the lines run. You can choose between getting a hint or the full answer by choosing which line to remove the `#` from. \n",
    "\n",
    "Removing the `#` is called uncommenting, because it changes that line from a \"comment\" which Python doesn't run to code, which Python does run."
   ]
  },
  {
   "cell_type": "code",
   "execution_count": 4,
   "id": "5fdf10d9",
   "metadata": {
    "execution": {
     "iopub.execute_input": "2023-11-29T11:51:05.425436Z",
     "iopub.status.busy": "2023-11-29T11:51:05.424494Z",
     "iopub.status.idle": "2023-11-29T11:51:05.432796Z",
     "shell.execute_reply": "2023-11-29T11:51:05.431900Z"
    },
    "papermill": {
     "duration": 0.021521,
     "end_time": "2023-11-29T11:51:05.435248",
     "exception": false,
     "start_time": "2023-11-29T11:51:05.413727",
     "status": "completed"
    },
    "tags": []
   },
   "outputs": [
    {
     "data": {
      "application/javascript": [
       "parent.postMessage({\"jupyterEvent\": \"custom.exercise_interaction\", \"data\": {\"interactionType\": 2, \"questionType\": 2, \"questionId\": \"0_ExerciseFormatTutorial\", \"learnToolsVersion\": \"0.3.4\", \"valueTowardsCompletion\": 0.0, \"failureMessage\": \"\", \"exceptionClass\": \"\", \"trace\": \"\", \"outcomeType\": 4}}, \"*\")"
      ],
      "text/plain": [
       "<IPython.core.display.Javascript object>"
      ]
     },
     "metadata": {},
     "output_type": "display_data"
    },
    {
     "data": {
      "text/markdown": [
       "<span style=\"color:#3366cc\">Hint:</span> Your favorite color rhymes with *glue*."
      ],
      "text/plain": [
       "Hint: Your favorite color rhymes with *glue*."
      ]
     },
     "metadata": {},
     "output_type": "display_data"
    }
   ],
   "source": [
    "q0.hint()\n",
    "#q0.solution()"
   ]
  },
  {
   "cell_type": "markdown",
   "id": "9760a54c",
   "metadata": {
    "papermill": {
     "duration": 0.009979,
     "end_time": "2023-11-29T11:51:05.455230",
     "exception": false,
     "start_time": "2023-11-29T11:51:05.445251",
     "status": "completed"
    },
    "tags": []
   },
   "source": [
    "The upcoming questions work the same way. The only thing that will change are the question numbers. For the next question, you'll call `q1.check()`, `q1.hint()`, `q1.solution()`, for question 2, you'll call `q2.check()`, and so on."
   ]
  },
  {
   "cell_type": "markdown",
   "id": "4bcf407c",
   "metadata": {
    "papermill": {
     "duration": 0.009495,
     "end_time": "2023-11-29T11:51:05.474722",
     "exception": false,
     "start_time": "2023-11-29T11:51:05.465227",
     "status": "completed"
    },
    "tags": []
   },
   "source": [
    "<hr/>\n",
    "\n",
    "# 1.\n",
    "\n",
    "Complete the code below. In case it's helpful, here is the table of available arithmetic operations:\n",
    "\n",
    "\n",
    "\n",
    "| Operator     | Name           | Description                                            |\n",
    "|--------------|----------------|--------------------------------------------------------|\n",
    "| ``a + b``    | Addition       | Sum of ``a`` and ``b``                                 |\n",
    "| ``a - b``    | Subtraction    | Difference of ``a`` and ``b``                          |\n",
    "| ``a * b``    | Multiplication | Product of ``a`` and ``b``                             |\n",
    "| ``a / b``    | True division  | Quotient of ``a`` and ``b``                            |\n",
    "| ``a // b``   | Floor division | Quotient of ``a`` and ``b``, removing fractional parts |\n",
    "| ``a % b``    | Modulus        | Integer remainder after division of ``a`` by ``b``     |\n",
    "| ``a ** b``   | Exponentiation | ``a`` raised to the power of ``b``                     |\n",
    "| ``-a``       | Negation       | The negative of ``a``                                  |\n",
    "\n",
    "<span style=\"display:none\"></span>\n"
   ]
  },
  {
   "cell_type": "code",
   "execution_count": 5,
   "id": "a763a8f0",
   "metadata": {
    "execution": {
     "iopub.execute_input": "2023-11-29T11:51:05.496441Z",
     "iopub.status.busy": "2023-11-29T11:51:05.496072Z",
     "iopub.status.idle": "2023-11-29T11:51:05.505730Z",
     "shell.execute_reply": "2023-11-29T11:51:05.504673Z"
    },
    "papermill": {
     "duration": 0.023245,
     "end_time": "2023-11-29T11:51:05.508112",
     "exception": false,
     "start_time": "2023-11-29T11:51:05.484867",
     "status": "completed"
    },
    "tags": []
   },
   "outputs": [
    {
     "data": {
      "application/javascript": [
       "parent.postMessage({\"jupyterEvent\": \"custom.exercise_interaction\", \"data\": {\"outcomeType\": 1, \"valueTowardsCompletion\": 0.25, \"interactionType\": 1, \"questionType\": 1, \"questionId\": \"1_CircleArea\", \"learnToolsVersion\": \"0.3.4\", \"failureMessage\": \"\", \"exceptionClass\": \"\", \"trace\": \"\"}}, \"*\")"
      ],
      "text/plain": [
       "<IPython.core.display.Javascript object>"
      ]
     },
     "metadata": {},
     "output_type": "display_data"
    },
    {
     "data": {
      "text/markdown": [
       "<span style=\"color:#33cc33\">Correct</span>"
      ],
      "text/plain": [
       "Correct"
      ]
     },
     "metadata": {},
     "output_type": "display_data"
    }
   ],
   "source": [
    "pi = 3.14159 # approximate\n",
    "diameter = 3\n",
    "\n",
    "# Create a variable called 'radius' equal to half the diameter\n",
    "radius = diameter / 2\n",
    "\n",
    "# Create a variable called 'area', using the formula for the area of a circle: pi times the radius squared\n",
    "area = pi * radius ** 2\n",
    "\n",
    "# Check your answer\n",
    "q1.check()"
   ]
  },
  {
   "cell_type": "code",
   "execution_count": 6,
   "id": "56dbfd21",
   "metadata": {
    "execution": {
     "iopub.execute_input": "2023-11-29T11:51:05.530596Z",
     "iopub.status.busy": "2023-11-29T11:51:05.529777Z",
     "iopub.status.idle": "2023-11-29T11:51:05.534752Z",
     "shell.execute_reply": "2023-11-29T11:51:05.533703Z"
    },
    "papermill": {
     "duration": 0.018755,
     "end_time": "2023-11-29T11:51:05.537010",
     "exception": false,
     "start_time": "2023-11-29T11:51:05.518255",
     "status": "completed"
    },
    "tags": []
   },
   "outputs": [],
   "source": [
    "# Uncomment and run the lines below if you need help.\n",
    "#q1.hint()\n",
    "#q1.solution()"
   ]
  },
  {
   "cell_type": "markdown",
   "id": "86cd05b5",
   "metadata": {
    "papermill": {
     "duration": 0.010136,
     "end_time": "2023-11-29T11:51:05.557465",
     "exception": false,
     "start_time": "2023-11-29T11:51:05.547329",
     "status": "completed"
    },
    "tags": []
   },
   "source": [
    "<hr/>\n",
    "\n",
    "# 2.\n",
    "\n",
    "Add code to the following cell to swap variables `a` and `b` (so that `a` refers to the object previously referred to by `b` and vice versa)."
   ]
  },
  {
   "cell_type": "code",
   "execution_count": 7,
   "id": "b39b2b61",
   "metadata": {
    "execution": {
     "iopub.execute_input": "2023-11-29T11:51:05.580061Z",
     "iopub.status.busy": "2023-11-29T11:51:05.579633Z",
     "iopub.status.idle": "2023-11-29T11:51:05.589714Z",
     "shell.execute_reply": "2023-11-29T11:51:05.588673Z"
    },
    "papermill": {
     "duration": 0.023945,
     "end_time": "2023-11-29T11:51:05.592096",
     "exception": false,
     "start_time": "2023-11-29T11:51:05.568151",
     "status": "completed"
    },
    "tags": []
   },
   "outputs": [
    {
     "data": {
      "application/javascript": [
       "parent.postMessage({\"jupyterEvent\": \"custom.exercise_interaction\", \"data\": {\"outcomeType\": 1, \"valueTowardsCompletion\": 0.25, \"interactionType\": 1, \"questionType\": 2, \"questionId\": \"2_VariableSwap\", \"learnToolsVersion\": \"0.3.4\", \"failureMessage\": \"\", \"exceptionClass\": \"\", \"trace\": \"\"}}, \"*\")"
      ],
      "text/plain": [
       "<IPython.core.display.Javascript object>"
      ]
     },
     "metadata": {},
     "output_type": "display_data"
    },
    {
     "data": {
      "text/markdown": [
       "<span style=\"color:#33cc33\">Correct:</span> \n",
       "\n",
       "The most straightforward solution is to use a third variable to temporarily store one of the old values. e.g.:\n",
       "\n",
       "    tmp = a\n",
       "    a = b\n",
       "    b = tmp\n",
       "\n",
       "If you've read lots of Python code, you might have seen the following trick to swap two variables in one line:\n",
       "\n",
       "    a, b = b, a\n",
       "\n",
       "We'll demystify this bit of Python magic later when we talk about *tuples*."
      ],
      "text/plain": [
       "Correct: \n",
       "\n",
       "The most straightforward solution is to use a third variable to temporarily store one of the old values. e.g.:\n",
       "\n",
       "    tmp = a\n",
       "    a = b\n",
       "    b = tmp\n",
       "\n",
       "If you've read lots of Python code, you might have seen the following trick to swap two variables in one line:\n",
       "\n",
       "    a, b = b, a\n",
       "\n",
       "We'll demystify this bit of Python magic later when we talk about *tuples*."
      ]
     },
     "metadata": {},
     "output_type": "display_data"
    }
   ],
   "source": [
    "########### Setup code - don't touch this part ######################\n",
    "# If you're curious, these are examples of lists. We'll talk about \n",
    "# them in depth a few lessons from now. For now, just know that they're\n",
    "# yet another type of Python object, like int or float.\n",
    "a = [1, 2, 3]\n",
    "b = [3, 2, 1]\n",
    "q2.store_original_ids()\n",
    "######################################################################\n",
    "\n",
    "# Your code goes here. Swap the values to which a and b refer.\n",
    "# If you get stuck, you can always uncomment one or both of the lines in\n",
    "# the next cell for a hint, or to peek at the solution.\n",
    "\n",
    "tmp = a\n",
    "a = b\n",
    "b = tmp\n",
    "\n",
    "\n",
    "######################################################################\n",
    "\n",
    "# Check your answer\n",
    "q2.check()"
   ]
  },
  {
   "cell_type": "code",
   "execution_count": 8,
   "id": "deeb84ff",
   "metadata": {
    "execution": {
     "iopub.execute_input": "2023-11-29T11:51:05.616147Z",
     "iopub.status.busy": "2023-11-29T11:51:05.614979Z",
     "iopub.status.idle": "2023-11-29T11:51:05.623479Z",
     "shell.execute_reply": "2023-11-29T11:51:05.622741Z"
    },
    "papermill": {
     "duration": 0.022493,
     "end_time": "2023-11-29T11:51:05.625339",
     "exception": false,
     "start_time": "2023-11-29T11:51:05.602846",
     "status": "completed"
    },
    "tags": []
   },
   "outputs": [
    {
     "data": {
      "application/javascript": [
       "parent.postMessage({\"jupyterEvent\": \"custom.exercise_interaction\", \"data\": {\"interactionType\": 2, \"questionType\": 2, \"questionId\": \"2_VariableSwap\", \"learnToolsVersion\": \"0.3.4\", \"valueTowardsCompletion\": 0.0, \"failureMessage\": \"\", \"exceptionClass\": \"\", \"trace\": \"\", \"outcomeType\": 4}}, \"*\")"
      ],
      "text/plain": [
       "<IPython.core.display.Javascript object>"
      ]
     },
     "metadata": {},
     "output_type": "display_data"
    },
    {
     "data": {
      "text/markdown": [
       "<span style=\"color:#3366cc\">Hint:</span> Try using a third variable."
      ],
      "text/plain": [
       "Hint: Try using a third variable."
      ]
     },
     "metadata": {},
     "output_type": "display_data"
    }
   ],
   "source": [
    "q2.hint()"
   ]
  },
  {
   "cell_type": "code",
   "execution_count": 9,
   "id": "761d6689",
   "metadata": {
    "execution": {
     "iopub.execute_input": "2023-11-29T11:51:05.649189Z",
     "iopub.status.busy": "2023-11-29T11:51:05.648797Z",
     "iopub.status.idle": "2023-11-29T11:51:05.657536Z",
     "shell.execute_reply": "2023-11-29T11:51:05.656281Z"
    },
    "papermill": {
     "duration": 0.023888,
     "end_time": "2023-11-29T11:51:05.660041",
     "exception": false,
     "start_time": "2023-11-29T11:51:05.636153",
     "status": "completed"
    },
    "tags": []
   },
   "outputs": [
    {
     "data": {
      "application/javascript": [
       "parent.postMessage({\"jupyterEvent\": \"custom.exercise_interaction\", \"data\": {\"interactionType\": 3, \"questionType\": 2, \"questionId\": \"2_VariableSwap\", \"learnToolsVersion\": \"0.3.4\", \"valueTowardsCompletion\": 0.0, \"failureMessage\": \"\", \"exceptionClass\": \"\", \"trace\": \"\", \"outcomeType\": 4}}, \"*\")"
      ],
      "text/plain": [
       "<IPython.core.display.Javascript object>"
      ]
     },
     "metadata": {},
     "output_type": "display_data"
    },
    {
     "data": {
      "text/markdown": [
       "<span style=\"color:#33cc99\">Solution:</span> The most straightforward solution is to use a third variable to temporarily store one of the old values. e.g.:\n",
       "\n",
       "    tmp = a\n",
       "    a = b\n",
       "    b = tmp\n",
       "\n",
       "If you've read lots of Python code, you might have seen the following trick to swap two variables in one line:\n",
       "\n",
       "    a, b = b, a\n",
       "\n",
       "We'll demystify this bit of Python magic later when we talk about *tuples*."
      ],
      "text/plain": [
       "Solution: The most straightforward solution is to use a third variable to temporarily store one of the old values. e.g.:\n",
       "\n",
       "    tmp = a\n",
       "    a = b\n",
       "    b = tmp\n",
       "\n",
       "If you've read lots of Python code, you might have seen the following trick to swap two variables in one line:\n",
       "\n",
       "    a, b = b, a\n",
       "\n",
       "We'll demystify this bit of Python magic later when we talk about *tuples*."
      ]
     },
     "metadata": {},
     "output_type": "display_data"
    }
   ],
   "source": [
    "q2.solution()"
   ]
  },
  {
   "cell_type": "markdown",
   "id": "6ac4e331",
   "metadata": {
    "papermill": {
     "duration": 0.011416,
     "end_time": "2023-11-29T11:51:05.683306",
     "exception": false,
     "start_time": "2023-11-29T11:51:05.671890",
     "status": "completed"
    },
    "tags": []
   },
   "source": [
    "<hr/>\n",
    "\n",
    "# 3a.\n",
    "\n",
    "Add parentheses to the following expression so that it evaluates to 1."
   ]
  },
  {
   "cell_type": "code",
   "execution_count": 10,
   "id": "cacc42e6",
   "metadata": {
    "execution": {
     "iopub.execute_input": "2023-11-29T11:51:05.708862Z",
     "iopub.status.busy": "2023-11-29T11:51:05.708440Z",
     "iopub.status.idle": "2023-11-29T11:51:05.715081Z",
     "shell.execute_reply": "2023-11-29T11:51:05.713898Z"
    },
    "papermill": {
     "duration": 0.022589,
     "end_time": "2023-11-29T11:51:05.717870",
     "exception": false,
     "start_time": "2023-11-29T11:51:05.695281",
     "status": "completed"
    },
    "tags": []
   },
   "outputs": [
    {
     "data": {
      "text/plain": [
       "1"
      ]
     },
     "execution_count": 10,
     "metadata": {},
     "output_type": "execute_result"
    }
   ],
   "source": [
    "(5 - 3) // 2"
   ]
  },
  {
   "cell_type": "code",
   "execution_count": 11,
   "id": "d231b72c",
   "metadata": {
    "execution": {
     "iopub.execute_input": "2023-11-29T11:51:05.743936Z",
     "iopub.status.busy": "2023-11-29T11:51:05.743221Z",
     "iopub.status.idle": "2023-11-29T11:51:05.747984Z",
     "shell.execute_reply": "2023-11-29T11:51:05.746939Z"
    },
    "papermill": {
     "duration": 0.020557,
     "end_time": "2023-11-29T11:51:05.750206",
     "exception": false,
     "start_time": "2023-11-29T11:51:05.729649",
     "status": "completed"
    },
    "tags": []
   },
   "outputs": [],
   "source": [
    "#q3.a.hint()"
   ]
  },
  {
   "cell_type": "code",
   "execution_count": 12,
   "id": "241c14a1",
   "metadata": {
    "execution": {
     "iopub.execute_input": "2023-11-29T11:51:05.774954Z",
     "iopub.status.busy": "2023-11-29T11:51:05.774591Z",
     "iopub.status.idle": "2023-11-29T11:51:05.783098Z",
     "shell.execute_reply": "2023-11-29T11:51:05.781908Z"
    },
    "papermill": {
     "duration": 0.023655,
     "end_time": "2023-11-29T11:51:05.785595",
     "exception": false,
     "start_time": "2023-11-29T11:51:05.761940",
     "status": "completed"
    },
    "tags": []
   },
   "outputs": [
    {
     "data": {
      "application/javascript": [
       "parent.postMessage({\"jupyterEvent\": \"custom.exercise_interaction\", \"data\": {\"interactionType\": 3, \"questionType\": 4, \"questionId\": \"3.1_ArithmeticParensEasy\", \"learnToolsVersion\": \"0.3.4\", \"valueTowardsCompletion\": 0.0, \"failureMessage\": \"\", \"exceptionClass\": \"\", \"trace\": \"\", \"outcomeType\": 4}}, \"*\")"
      ],
      "text/plain": [
       "<IPython.core.display.Javascript object>"
      ]
     },
     "metadata": {},
     "output_type": "display_data"
    },
    {
     "data": {
      "text/markdown": [
       "<span style=\"color:#33cc99\">Solution:</span> \n",
       "```python\n",
       "(5 - 3) // 2\n",
       "```"
      ],
      "text/plain": [
       "Solution: \n",
       "```python\n",
       "(5 - 3) // 2\n",
       "```"
      ]
     },
     "metadata": {},
     "output_type": "display_data"
    }
   ],
   "source": [
    "# Check your answer (Run this code cell to receive credit!)\n",
    "q3.a.solution()"
   ]
  },
  {
   "cell_type": "markdown",
   "id": "86130db4",
   "metadata": {
    "papermill": {
     "duration": 0.013403,
     "end_time": "2023-11-29T11:51:05.811586",
     "exception": false,
     "start_time": "2023-11-29T11:51:05.798183",
     "status": "completed"
    },
    "tags": []
   },
   "source": [
    "# 3b.  <span title=\"A bit spicy\" style=\"color: darkgreen \">🌶️</span>\n",
    "\n",
    "<small>Questions, like this one, marked a spicy pepper are a bit harder.</small>\n",
    "\n",
    "Add parentheses to the following expression so that it evaluates to 0."
   ]
  },
  {
   "cell_type": "code",
   "execution_count": 13,
   "id": "2da8f984",
   "metadata": {
    "execution": {
     "iopub.execute_input": "2023-11-29T11:51:05.838007Z",
     "iopub.status.busy": "2023-11-29T11:51:05.837618Z",
     "iopub.status.idle": "2023-11-29T11:51:05.844055Z",
     "shell.execute_reply": "2023-11-29T11:51:05.843267Z"
    },
    "papermill": {
     "duration": 0.022081,
     "end_time": "2023-11-29T11:51:05.846132",
     "exception": false,
     "start_time": "2023-11-29T11:51:05.824051",
     "status": "completed"
    },
    "tags": []
   },
   "outputs": [
    {
     "data": {
      "text/plain": [
       "0"
      ]
     },
     "execution_count": 13,
     "metadata": {},
     "output_type": "execute_result"
    }
   ],
   "source": [
    "8 - (3 * 2) - (1 + 1)"
   ]
  },
  {
   "cell_type": "code",
   "execution_count": 14,
   "id": "c139c9ae",
   "metadata": {
    "execution": {
     "iopub.execute_input": "2023-11-29T11:51:05.872353Z",
     "iopub.status.busy": "2023-11-29T11:51:05.871712Z",
     "iopub.status.idle": "2023-11-29T11:51:05.875556Z",
     "shell.execute_reply": "2023-11-29T11:51:05.874842Z"
    },
    "papermill": {
     "duration": 0.019148,
     "end_time": "2023-11-29T11:51:05.877524",
     "exception": false,
     "start_time": "2023-11-29T11:51:05.858376",
     "status": "completed"
    },
    "tags": []
   },
   "outputs": [],
   "source": [
    "#q3.b.hint()"
   ]
  },
  {
   "cell_type": "code",
   "execution_count": 15,
   "id": "a8e13c96",
   "metadata": {
    "execution": {
     "iopub.execute_input": "2023-11-29T11:51:05.904827Z",
     "iopub.status.busy": "2023-11-29T11:51:05.904179Z",
     "iopub.status.idle": "2023-11-29T11:51:05.911855Z",
     "shell.execute_reply": "2023-11-29T11:51:05.910858Z"
    },
    "papermill": {
     "duration": 0.023658,
     "end_time": "2023-11-29T11:51:05.914106",
     "exception": false,
     "start_time": "2023-11-29T11:51:05.890448",
     "status": "completed"
    },
    "tags": []
   },
   "outputs": [
    {
     "data": {
      "application/javascript": [
       "parent.postMessage({\"jupyterEvent\": \"custom.exercise_interaction\", \"data\": {\"interactionType\": 3, \"questionType\": 4, \"questionId\": \"3.2_ArithmeticParensHard\", \"learnToolsVersion\": \"0.3.4\", \"valueTowardsCompletion\": 0.0, \"failureMessage\": \"\", \"exceptionClass\": \"\", \"trace\": \"\", \"outcomeType\": 4}}, \"*\")"
      ],
      "text/plain": [
       "<IPython.core.display.Javascript object>"
      ]
     },
     "metadata": {},
     "output_type": "display_data"
    },
    {
     "data": {
      "text/markdown": [
       "<span style=\"color:#33cc99\">Solution:</span> `(8 - 3) * (2 - (1 + 1))` is one solution. There may be others."
      ],
      "text/plain": [
       "Solution: `(8 - 3) * (2 - (1 + 1))` is one solution. There may be others."
      ]
     },
     "metadata": {},
     "output_type": "display_data"
    }
   ],
   "source": [
    "# Check your answer (Run this code cell to receive credit!)\n",
    "q3.b.solution()"
   ]
  },
  {
   "cell_type": "markdown",
   "id": "1db562bd",
   "metadata": {
    "papermill": {
     "duration": 0.012295,
     "end_time": "2023-11-29T11:51:05.938929",
     "exception": false,
     "start_time": "2023-11-29T11:51:05.926634",
     "status": "completed"
    },
    "tags": []
   },
   "source": [
    "<hr/>\n",
    "\n",
    "# 4. \n",
    "Alice, Bob and Carol have agreed to pool their Halloween candy and split it evenly among themselves.\n",
    "For the sake of their friendship, any candies left over will be smashed. For example, if they collectively\n",
    "bring home 91 candies, they'll take 30 each and smash 1.\n",
    "\n",
    "Write an arithmetic expression below to calculate how many candies they must smash for a given haul."
   ]
  },
  {
   "cell_type": "code",
   "execution_count": 16,
   "id": "4a4bc289",
   "metadata": {
    "execution": {
     "iopub.execute_input": "2023-11-29T11:51:06.028437Z",
     "iopub.status.busy": "2023-11-29T11:51:06.028055Z",
     "iopub.status.idle": "2023-11-29T11:51:06.037093Z",
     "shell.execute_reply": "2023-11-29T11:51:06.036110Z"
    },
    "papermill": {
     "duration": 0.025333,
     "end_time": "2023-11-29T11:51:06.039246",
     "exception": false,
     "start_time": "2023-11-29T11:51:06.013913",
     "status": "completed"
    },
    "tags": []
   },
   "outputs": [
    {
     "data": {
      "application/javascript": [
       "parent.postMessage({\"jupyterEvent\": \"custom.exercise_interaction\", \"data\": {\"outcomeType\": 1, \"valueTowardsCompletion\": 0.25, \"interactionType\": 1, \"questionType\": 1, \"questionId\": \"4_CandySplitting\", \"learnToolsVersion\": \"0.3.4\", \"failureMessage\": \"\", \"exceptionClass\": \"\", \"trace\": \"\"}}, \"*\")"
      ],
      "text/plain": [
       "<IPython.core.display.Javascript object>"
      ]
     },
     "metadata": {},
     "output_type": "display_data"
    },
    {
     "data": {
      "text/markdown": [
       "<span style=\"color:#33cc33\">Correct</span>"
      ],
      "text/plain": [
       "Correct"
      ]
     },
     "metadata": {},
     "output_type": "display_data"
    }
   ],
   "source": [
    "# Variables representing the number of candies collected by alice, bob, and carol\n",
    "alice_candies = 121\n",
    "bob_candies = 77\n",
    "carol_candies = 109\n",
    "\n",
    "# Your code goes here! Replace the right-hand side of this assignment with an expression\n",
    "# involving alice_candies, bob_candies, and carol_candies\n",
    "to_smash = (alice_candies + bob_candies + carol_candies) % 3\n",
    "\n",
    "# Check your answer\n",
    "q4.check()"
   ]
  },
  {
   "cell_type": "code",
   "execution_count": 17,
   "id": "d9a0a93d",
   "metadata": {
    "execution": {
     "iopub.execute_input": "2023-11-29T11:51:06.067691Z",
     "iopub.status.busy": "2023-11-29T11:51:06.067305Z",
     "iopub.status.idle": "2023-11-29T11:51:06.071420Z",
     "shell.execute_reply": "2023-11-29T11:51:06.070425Z"
    },
    "papermill": {
     "duration": 0.020973,
     "end_time": "2023-11-29T11:51:06.073538",
     "exception": false,
     "start_time": "2023-11-29T11:51:06.052565",
     "status": "completed"
    },
    "tags": []
   },
   "outputs": [],
   "source": [
    "#q4.hint()\n",
    "#q4.solution()"
   ]
  },
  {
   "cell_type": "markdown",
   "id": "c1a05d57",
   "metadata": {
    "papermill": {
     "duration": 0.013778,
     "end_time": "2023-11-29T11:51:06.100842",
     "exception": false,
     "start_time": "2023-11-29T11:51:06.087064",
     "status": "completed"
    },
    "tags": []
   },
   "source": [
    "# Keep Going\n",
    "\n",
    "Next up, you'll **[learn to write new functions and understand functions others write](https://www.kaggle.com/colinmorris/functions-and-getting-help)**. This will make you at least 10 times more productive as a Python programmer. "
   ]
  },
  {
   "cell_type": "markdown",
   "id": "2bc27058",
   "metadata": {
    "papermill": {
     "duration": 0.012652,
     "end_time": "2023-11-29T11:51:06.126651",
     "exception": false,
     "start_time": "2023-11-29T11:51:06.113999",
     "status": "completed"
    },
    "tags": []
   },
   "source": [
    "---\n",
    "\n",
    "\n",
    "\n",
    "\n",
    "*Have questions or comments? Visit the [course discussion forum](https://www.kaggle.com/learn/python/discussion) to chat with other learners.*"
   ]
  }
 ],
 "metadata": {
  "kaggle": {
   "accelerator": "none",
   "dataSources": [],
   "isGpuEnabled": false,
   "isInternetEnabled": false,
   "language": "python",
   "sourceType": "notebook"
  },
  "kernelspec": {
   "display_name": "Python 3",
   "language": "python",
   "name": "python3"
  },
  "language_info": {
   "codemirror_mode": {
    "name": "ipython",
    "version": 3
   },
   "file_extension": ".py",
   "mimetype": "text/x-python",
   "name": "python",
   "nbconvert_exporter": "python",
   "pygments_lexer": "ipython3",
   "version": "3.10.12"
  },
  "learntools_metadata": {
   "lesson_index": 0,
   "type": "exercise"
  },
  "papermill": {
   "default_parameters": {},
   "duration": 5.147847,
   "end_time": "2023-11-29T11:51:06.560110",
   "environment_variables": {},
   "exception": null,
   "input_path": "__notebook__.ipynb",
   "output_path": "__notebook__.ipynb",
   "parameters": {},
   "start_time": "2023-11-29T11:51:01.412263",
   "version": "2.4.0"
  }
 },
 "nbformat": 4,
 "nbformat_minor": 5
}

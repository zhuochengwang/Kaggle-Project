{
 "cells": [
  {
   "cell_type": "markdown",
   "id": "e8db0e6b",
   "metadata": {
    "papermill": {
     "duration": 0.011452,
     "end_time": "2023-11-29T10:16:42.833865",
     "exception": false,
     "start_time": "2023-11-29T10:16:42.822413",
     "status": "completed"
    },
    "tags": []
   },
   "source": [
    "**This notebook is an exercise in the [Intro to Programming](https://www.kaggle.com/learn/intro-to-programming) course.  You can reference the tutorial at [this link](https://www.kaggle.com/alexisbcook/intro-to-lists).**\n",
    "\n",
    "---\n"
   ]
  },
  {
   "cell_type": "markdown",
   "id": "bd951862",
   "metadata": {
    "papermill": {
     "duration": 0.008158,
     "end_time": "2023-11-29T10:16:42.850581",
     "exception": false,
     "start_time": "2023-11-29T10:16:42.842423",
     "status": "completed"
    },
    "tags": []
   },
   "source": [
    "In the tutorial, you learned how to define and modify Python lists.  In this exercise, you will use your new knowledge to solve several problems.\n",
    "\n",
    "# Set up the notebook\n",
    "\n",
    "Run the next code cell without changes to set up the notebook."
   ]
  },
  {
   "cell_type": "code",
   "execution_count": 1,
   "id": "66e60433",
   "metadata": {
    "execution": {
     "iopub.execute_input": "2023-11-29T10:16:42.869931Z",
     "iopub.status.busy": "2023-11-29T10:16:42.869439Z",
     "iopub.status.idle": "2023-11-29T10:16:43.385880Z",
     "shell.execute_reply": "2023-11-29T10:16:43.384514Z"
    },
    "papermill": {
     "duration": 0.52945,
     "end_time": "2023-11-29T10:16:43.388461",
     "exception": false,
     "start_time": "2023-11-29T10:16:42.859011",
     "status": "completed"
    },
    "tags": []
   },
   "outputs": [
    {
     "name": "stdout",
     "output_type": "stream",
     "text": [
      "Setup complete.\n"
     ]
    }
   ],
   "source": [
    "from learntools.core import binder\n",
    "binder.bind(globals())\n",
    "from learntools.intro_to_programming.ex5 import *\n",
    "print('Setup complete.')"
   ]
  },
  {
   "cell_type": "markdown",
   "id": "b02ed2f4",
   "metadata": {
    "papermill": {
     "duration": 0.007917,
     "end_time": "2023-11-29T10:16:43.405031",
     "exception": false,
     "start_time": "2023-11-29T10:16:43.397114",
     "status": "completed"
    },
    "tags": []
   },
   "source": [
    "# Question 1\n",
    "\n",
    "You own a restaurant with five food dishes, organized in the Python list `menu` below.  One day, you decide to:\n",
    "- remove bean soup (`'bean soup'`) from the menu, and\n",
    "- add roasted beet salad (`'roasted beet salad'`) to the menu.\n",
    "\n",
    "Implement this change to the list below.  While completing this task, \n",
    "- do not change the line that creates the `menu` list.  \n",
    "- your answer should use `.remove()` and `.append()`.  "
   ]
  },
  {
   "cell_type": "code",
   "execution_count": 2,
   "id": "f746a50c",
   "metadata": {
    "execution": {
     "iopub.execute_input": "2023-11-29T10:16:43.424397Z",
     "iopub.status.busy": "2023-11-29T10:16:43.423473Z",
     "iopub.status.idle": "2023-11-29T10:16:43.433785Z",
     "shell.execute_reply": "2023-11-29T10:16:43.432931Z"
    },
    "papermill": {
     "duration": 0.022838,
     "end_time": "2023-11-29T10:16:43.436121",
     "exception": false,
     "start_time": "2023-11-29T10:16:43.413283",
     "status": "completed"
    },
    "tags": []
   },
   "outputs": [
    {
     "data": {
      "application/javascript": [
       "parent.postMessage({\"jupyterEvent\": \"custom.exercise_interaction\", \"data\": {\"outcomeType\": 1, \"valueTowardsCompletion\": 0.2, \"interactionType\": 1, \"questionType\": 2, \"questionId\": \"1_FoodMenu\", \"learnToolsVersion\": \"0.3.4\", \"failureMessage\": \"\", \"exceptionClass\": \"\", \"trace\": \"\"}}, \"*\")"
      ],
      "text/plain": [
       "<IPython.core.display.Javascript object>"
      ]
     },
     "metadata": {},
     "output_type": "display_data"
    },
    {
     "data": {
      "text/markdown": [
       "<span style=\"color:#33cc33\">Correct</span>"
      ],
      "text/plain": [
       "Correct"
      ]
     },
     "metadata": {},
     "output_type": "display_data"
    }
   ],
   "source": [
    "# Do not change: Initial menu for your restaurant\n",
    "menu = ['stewed meat with onions', 'bean soup', 'risotto with trout and shrimp',\n",
    "       'fish soup with cream and onion', 'gyro']\n",
    "\n",
    "# TODO: remove 'bean soup', and add 'roasted beet salad' to the end of the menu\n",
    "menu.remove('bean soup')\n",
    "menu.append('roasted beet salad')\n",
    "\n",
    "# Do not change: Check your answer\n",
    "q1.check()"
   ]
  },
  {
   "cell_type": "code",
   "execution_count": 3,
   "id": "635f1a77",
   "metadata": {
    "execution": {
     "iopub.execute_input": "2023-11-29T10:16:43.456615Z",
     "iopub.status.busy": "2023-11-29T10:16:43.455833Z",
     "iopub.status.idle": "2023-11-29T10:16:43.460735Z",
     "shell.execute_reply": "2023-11-29T10:16:43.459778Z"
    },
    "papermill": {
     "duration": 0.017967,
     "end_time": "2023-11-29T10:16:43.462927",
     "exception": false,
     "start_time": "2023-11-29T10:16:43.444960",
     "status": "completed"
    },
    "tags": []
   },
   "outputs": [],
   "source": [
    "# Uncomment to see a hint\n",
    "#q1.hint()\n",
    "\n",
    "# Uncomment to see the solution\n",
    "#q1.solution()"
   ]
  },
  {
   "cell_type": "markdown",
   "id": "e4c09522",
   "metadata": {
    "papermill": {
     "duration": 0.008402,
     "end_time": "2023-11-29T10:16:43.480011",
     "exception": false,
     "start_time": "2023-11-29T10:16:43.471609",
     "status": "completed"
    },
    "tags": []
   },
   "source": [
    "# Question 2\n",
    "\n",
    "The list `num_customers` contains the number of customers who came into your restaurant every day over the last month (which lasted thirty days).  Fill in values for each of the following:\n",
    "- `avg_first_seven` - average number of customers who visited in the first seven days\n",
    "- `avg_last_seven` - average number of customers who visited in the last seven days\n",
    "- `max_month` - number of customers on the day that got the most customers in the last month\n",
    "- `min_month` - number of customers on the day that got the least customers in the last month\n",
    "\n",
    "Answer this question by writing code.  For instance, if you have to find the minimum value in a list, use `min()` instead of scanning for the smallest value and directly filling in a number."
   ]
  },
  {
   "cell_type": "code",
   "execution_count": 4,
   "id": "c0af37c0",
   "metadata": {
    "execution": {
     "iopub.execute_input": "2023-11-29T10:16:43.499677Z",
     "iopub.status.busy": "2023-11-29T10:16:43.498665Z",
     "iopub.status.idle": "2023-11-29T10:16:43.512086Z",
     "shell.execute_reply": "2023-11-29T10:16:43.510703Z"
    },
    "papermill": {
     "duration": 0.026082,
     "end_time": "2023-11-29T10:16:43.514606",
     "exception": false,
     "start_time": "2023-11-29T10:16:43.488524",
     "status": "completed"
    },
    "tags": []
   },
   "outputs": [
    {
     "data": {
      "application/javascript": [
       "parent.postMessage({\"jupyterEvent\": \"custom.exercise_interaction\", \"data\": {\"outcomeType\": 1, \"valueTowardsCompletion\": 0.2, \"interactionType\": 1, \"questionType\": 1, \"questionId\": \"2_NumCustomers\", \"learnToolsVersion\": \"0.3.4\", \"failureMessage\": \"\", \"exceptionClass\": \"\", \"trace\": \"\"}}, \"*\")"
      ],
      "text/plain": [
       "<IPython.core.display.Javascript object>"
      ]
     },
     "metadata": {},
     "output_type": "display_data"
    },
    {
     "data": {
      "text/markdown": [
       "<span style=\"color:#33cc33\">Correct</span>"
      ],
      "text/plain": [
       "Correct"
      ]
     },
     "metadata": {},
     "output_type": "display_data"
    }
   ],
   "source": [
    "# Do not change: Number of customers each day for the last month\n",
    "num_customers = [137, 147, 135, 128, 170, 174, 165, 146, 126, 159,\n",
    "                 141, 148, 132, 147, 168, 153, 170, 161, 148, 152,\n",
    "                 141, 151, 131, 149, 164, 163, 143, 143, 166, 171]\n",
    "\n",
    "# TODO: Fill in values for the variables below\n",
    "avg_first_seven = sum(num_customers[:7]) / 7\n",
    "avg_last_seven = sum(num_customers[-7:]) / 7 \n",
    "max_month = max(num_customers)\n",
    "min_month = min(num_customers)\n",
    "\n",
    "# Do not change: Check your answer\n",
    "q2.check()"
   ]
  },
  {
   "cell_type": "code",
   "execution_count": 5,
   "id": "c13e7641",
   "metadata": {
    "execution": {
     "iopub.execute_input": "2023-11-29T10:16:43.534235Z",
     "iopub.status.busy": "2023-11-29T10:16:43.533862Z",
     "iopub.status.idle": "2023-11-29T10:16:43.543523Z",
     "shell.execute_reply": "2023-11-29T10:16:43.542264Z"
    },
    "papermill": {
     "duration": 0.022609,
     "end_time": "2023-11-29T10:16:43.546145",
     "exception": false,
     "start_time": "2023-11-29T10:16:43.523536",
     "status": "completed"
    },
    "tags": []
   },
   "outputs": [
    {
     "data": {
      "application/javascript": [
       "parent.postMessage({\"jupyterEvent\": \"custom.exercise_interaction\", \"data\": {\"interactionType\": 3, \"questionType\": 1, \"questionId\": \"2_NumCustomers\", \"learnToolsVersion\": \"0.3.4\", \"valueTowardsCompletion\": 0.0, \"failureMessage\": \"\", \"exceptionClass\": \"\", \"trace\": \"\", \"outcomeType\": 4}}, \"*\")"
      ],
      "text/plain": [
       "<IPython.core.display.Javascript object>"
      ]
     },
     "metadata": {},
     "output_type": "display_data"
    },
    {
     "data": {
      "text/markdown": [
       "<span style=\"color:#33cc99\">Solution:</span> \n",
       "```python\n",
       "# Fill in values for the variables below\n",
       "avg_first_seven = sum(num_customers[:7])/7 \n",
       "avg_last_seven = sum(num_customers[-7:])/7\n",
       "max_month = max(num_customers)\n",
       "min_month = min(num_customers)\n",
       "\n",
       "```"
      ],
      "text/plain": [
       "Solution: \n",
       "```python\n",
       "# Fill in values for the variables below\n",
       "avg_first_seven = sum(num_customers[:7])/7 \n",
       "avg_last_seven = sum(num_customers[-7:])/7\n",
       "max_month = max(num_customers)\n",
       "min_month = min(num_customers)\n",
       "\n",
       "```"
      ]
     },
     "metadata": {},
     "output_type": "display_data"
    }
   ],
   "source": [
    "# Uncomment to see a hint\n",
    "#q2.hint()\n",
    "\n",
    "# Uncomment to see the solution\n",
    "q2.solution()"
   ]
  },
  {
   "cell_type": "markdown",
   "id": "a555fd93",
   "metadata": {
    "papermill": {
     "duration": 0.00912,
     "end_time": "2023-11-29T10:16:43.564568",
     "exception": false,
     "start_time": "2023-11-29T10:16:43.555448",
     "status": "completed"
    },
    "tags": []
   },
   "source": [
    "# Question 3\n",
    "\n",
    "In the tutorial, we gave an example of a Python string with information that was better as a list."
   ]
  },
  {
   "cell_type": "code",
   "execution_count": 6,
   "id": "bf9be7b0",
   "metadata": {
    "execution": {
     "iopub.execute_input": "2023-11-29T10:16:43.585908Z",
     "iopub.status.busy": "2023-11-29T10:16:43.584631Z",
     "iopub.status.idle": "2023-11-29T10:16:43.590953Z",
     "shell.execute_reply": "2023-11-29T10:16:43.589694Z"
    },
    "papermill": {
     "duration": 0.019696,
     "end_time": "2023-11-29T10:16:43.593634",
     "exception": false,
     "start_time": "2023-11-29T10:16:43.573938",
     "status": "completed"
    },
    "tags": []
   },
   "outputs": [],
   "source": [
    "flowers = \"pink primrose,hard-leaved pocket orchid,canterbury bells,sweet pea,english marigold,tiger lily,moon orchid,bird of paradise,monkshood,globe thistle\""
   ]
  },
  {
   "cell_type": "markdown",
   "id": "c8625841",
   "metadata": {
    "papermill": {
     "duration": 0.00934,
     "end_time": "2023-11-29T10:16:43.612718",
     "exception": false,
     "start_time": "2023-11-29T10:16:43.603378",
     "status": "completed"
    },
    "tags": []
   },
   "source": [
    "You can actually use Python to quickly turn this string into a list with `.split()`.  In the parentheses, we need to provide the character should be used to mark the end of one list item and the beginning of another, and enclose it in quotation marks.  In this case, that character is a comma."
   ]
  },
  {
   "cell_type": "code",
   "execution_count": 7,
   "id": "d70af633",
   "metadata": {
    "execution": {
     "iopub.execute_input": "2023-11-29T10:16:43.634898Z",
     "iopub.status.busy": "2023-11-29T10:16:43.633991Z",
     "iopub.status.idle": "2023-11-29T10:16:43.641239Z",
     "shell.execute_reply": "2023-11-29T10:16:43.639875Z"
    },
    "papermill": {
     "duration": 0.021764,
     "end_time": "2023-11-29T10:16:43.644030",
     "exception": false,
     "start_time": "2023-11-29T10:16:43.622266",
     "status": "completed"
    },
    "tags": []
   },
   "outputs": [
    {
     "name": "stdout",
     "output_type": "stream",
     "text": [
      "['pink primrose', 'hard-leaved pocket orchid', 'canterbury bells', 'sweet pea', 'english marigold', 'tiger lily', 'moon orchid', 'bird of paradise', 'monkshood', 'globe thistle']\n"
     ]
    }
   ],
   "source": [
    " print(flowers.split(\",\"))"
   ]
  },
  {
   "cell_type": "markdown",
   "id": "087060fa",
   "metadata": {
    "papermill": {
     "duration": 0.009229,
     "end_time": "2023-11-29T10:16:43.662673",
     "exception": false,
     "start_time": "2023-11-29T10:16:43.653444",
     "status": "completed"
    },
    "tags": []
   },
   "source": [
    "Now it is your turn to try this out!  Create two Python lists:\n",
    "- `letters` should be a Python list where each entry is an uppercase letter of the English alphabet.  For instance, the first two entries should be `\"A\"` and `\"B\"`, and the final two entries should be `\"Y\"` and `\"Z\"`.  Use the string `alphabet` to create this list.\n",
    "- `address` should be a Python list where each row in `address` is a different item in the list.  Currently, each row in `address` is separated by a comma. "
   ]
  },
  {
   "cell_type": "code",
   "execution_count": 8,
   "id": "83c761db",
   "metadata": {
    "execution": {
     "iopub.execute_input": "2023-11-29T10:16:43.684672Z",
     "iopub.status.busy": "2023-11-29T10:16:43.684212Z",
     "iopub.status.idle": "2023-11-29T10:16:43.695275Z",
     "shell.execute_reply": "2023-11-29T10:16:43.694070Z"
    },
    "papermill": {
     "duration": 0.024953,
     "end_time": "2023-11-29T10:16:43.697837",
     "exception": false,
     "start_time": "2023-11-29T10:16:43.672884",
     "status": "completed"
    },
    "tags": []
   },
   "outputs": [
    {
     "data": {
      "application/javascript": [
       "parent.postMessage({\"jupyterEvent\": \"custom.exercise_interaction\", \"data\": {\"outcomeType\": 1, \"valueTowardsCompletion\": 0.2, \"interactionType\": 1, \"questionType\": 1, \"questionId\": \"3_SplitString\", \"learnToolsVersion\": \"0.3.4\", \"failureMessage\": \"\", \"exceptionClass\": \"\", \"trace\": \"\"}}, \"*\")"
      ],
      "text/plain": [
       "<IPython.core.display.Javascript object>"
      ]
     },
     "metadata": {},
     "output_type": "display_data"
    },
    {
     "data": {
      "text/markdown": [
       "<span style=\"color:#33cc33\">Correct</span>"
      ],
      "text/plain": [
       "Correct"
      ]
     },
     "metadata": {},
     "output_type": "display_data"
    }
   ],
   "source": [
    "# DO not change: Define two Python strings\n",
    "alphabet = \"A.B.C.D.E.F.G.H.I.J.K.L.M.N.O.P.Q.R.S.T.U.V.W.X.Y.Z\"\n",
    "address = \"Mr. H. Potter,The cupboard under the Stairs,4 Privet Drive,Little Whinging,Surrey\"\n",
    "\n",
    "# TODO: Convert strings into Python lists\n",
    "letters = alphabet.split(\".\")\n",
    "formatted_address = address.split(\",\")\n",
    "\n",
    "# Do not change: Check your answer\n",
    "q3.check()"
   ]
  },
  {
   "cell_type": "code",
   "execution_count": 9,
   "id": "d926a69c",
   "metadata": {
    "execution": {
     "iopub.execute_input": "2023-11-29T10:16:43.720470Z",
     "iopub.status.busy": "2023-11-29T10:16:43.720033Z",
     "iopub.status.idle": "2023-11-29T10:16:43.724590Z",
     "shell.execute_reply": "2023-11-29T10:16:43.723366Z"
    },
    "papermill": {
     "duration": 0.019132,
     "end_time": "2023-11-29T10:16:43.727076",
     "exception": false,
     "start_time": "2023-11-29T10:16:43.707944",
     "status": "completed"
    },
    "tags": []
   },
   "outputs": [],
   "source": [
    "# Uncomment to see a hint\n",
    "#q3.hint()\n",
    "\n",
    "# Uncomment to see the solution\n",
    "#q3.solution()"
   ]
  },
  {
   "cell_type": "markdown",
   "id": "cc456f0d",
   "metadata": {
    "papermill": {
     "duration": 0.010165,
     "end_time": "2023-11-29T10:16:43.748165",
     "exception": false,
     "start_time": "2023-11-29T10:16:43.738000",
     "status": "completed"
    },
    "tags": []
   },
   "source": [
    "# Question 4\n",
    "\n",
    "In the Python course, you'll learn all about **list comprehensions**, which allow you to create a list based on the values in another list.  In this question, you'll get a brief preview of how they work.\n",
    "\n",
    "Say we're working with the list below."
   ]
  },
  {
   "cell_type": "code",
   "execution_count": 10,
   "id": "78a95de2",
   "metadata": {
    "execution": {
     "iopub.execute_input": "2023-11-29T10:16:43.770902Z",
     "iopub.status.busy": "2023-11-29T10:16:43.770431Z",
     "iopub.status.idle": "2023-11-29T10:16:43.776069Z",
     "shell.execute_reply": "2023-11-29T10:16:43.774543Z"
    },
    "papermill": {
     "duration": 0.020288,
     "end_time": "2023-11-29T10:16:43.778644",
     "exception": false,
     "start_time": "2023-11-29T10:16:43.758356",
     "status": "completed"
    },
    "tags": []
   },
   "outputs": [],
   "source": [
    "test_ratings = [1, 2, 3, 4, 5]"
   ]
  },
  {
   "cell_type": "markdown",
   "id": "0e66eb43",
   "metadata": {
    "papermill": {
     "duration": 0.009871,
     "end_time": "2023-11-29T10:16:43.799495",
     "exception": false,
     "start_time": "2023-11-29T10:16:43.789624",
     "status": "completed"
    },
    "tags": []
   },
   "source": [
    "Then we can use this list (`test_ratings`) to create a new list (`test_liked`) where each item has been turned into a boolean, depending on whether or not the item is greater than or equal to four."
   ]
  },
  {
   "cell_type": "code",
   "execution_count": 11,
   "id": "c53827c3",
   "metadata": {
    "execution": {
     "iopub.execute_input": "2023-11-29T10:16:43.822166Z",
     "iopub.status.busy": "2023-11-29T10:16:43.821696Z",
     "iopub.status.idle": "2023-11-29T10:16:43.828163Z",
     "shell.execute_reply": "2023-11-29T10:16:43.826739Z"
    },
    "papermill": {
     "duration": 0.021662,
     "end_time": "2023-11-29T10:16:43.831321",
     "exception": false,
     "start_time": "2023-11-29T10:16:43.809659",
     "status": "completed"
    },
    "tags": []
   },
   "outputs": [
    {
     "name": "stdout",
     "output_type": "stream",
     "text": [
      "[False, False, False, True, True]\n"
     ]
    }
   ],
   "source": [
    "test_liked = [i>=4 for i in test_ratings]\n",
    "print(test_liked)"
   ]
  },
  {
   "cell_type": "markdown",
   "id": "d8bc308f",
   "metadata": {
    "papermill": {
     "duration": 0.009984,
     "end_time": "2023-11-29T10:16:43.852339",
     "exception": false,
     "start_time": "2023-11-29T10:16:43.842355",
     "status": "completed"
    },
    "tags": []
   },
   "source": [
    "In this question, you'll use this list comprehension to define a function `percentage_liked()` that takes one argument as input:\n",
    "- `ratings`: list of ratings that people gave to a movie, where each rating is a number between 1-5, inclusive\n",
    "\n",
    "We say someone liked the movie, if they gave a rating of either 4 or 5.  Your function should return the percentage of people who liked the movie.\n",
    "\n",
    "For instance, if we supply a value of `[1, 2, 3, 4, 5, 4, 5, 1]`, then 50% (4/8) of the people liked the movie, and the function should return `0.5`.\n",
    "\n",
    "Part of the function has already been completed for you.  You need only use `list_liked` to calculate `percentage_liked`."
   ]
  },
  {
   "cell_type": "code",
   "execution_count": 12,
   "id": "a80ad444",
   "metadata": {
    "execution": {
     "iopub.execute_input": "2023-11-29T10:16:43.875453Z",
     "iopub.status.busy": "2023-11-29T10:16:43.875005Z",
     "iopub.status.idle": "2023-11-29T10:16:43.887183Z",
     "shell.execute_reply": "2023-11-29T10:16:43.885952Z"
    },
    "papermill": {
     "duration": 0.027258,
     "end_time": "2023-11-29T10:16:43.889981",
     "exception": false,
     "start_time": "2023-11-29T10:16:43.862723",
     "status": "completed"
    },
    "tags": []
   },
   "outputs": [
    {
     "data": {
      "application/javascript": [
       "parent.postMessage({\"jupyterEvent\": \"custom.exercise_interaction\", \"data\": {\"outcomeType\": 1, \"valueTowardsCompletion\": 0.2, \"interactionType\": 1, \"questionType\": 2, \"questionId\": \"4_PercentageLiked\", \"learnToolsVersion\": \"0.3.4\", \"failureMessage\": \"\", \"exceptionClass\": \"\", \"trace\": \"\"}}, \"*\")"
      ],
      "text/plain": [
       "<IPython.core.display.Javascript object>"
      ]
     },
     "metadata": {},
     "output_type": "display_data"
    },
    {
     "data": {
      "text/markdown": [
       "<span style=\"color:#33cc33\">Correct</span>"
      ],
      "text/plain": [
       "Correct"
      ]
     },
     "metadata": {},
     "output_type": "display_data"
    }
   ],
   "source": [
    "\n",
    "def percentage_liked(ratings):\n",
    "    list_liked = [i>=4 for i in ratings]\n",
    "    # TODO: Complete the function\n",
    "    percentage_liked = sum(list_liked) / len(list_liked)\n",
    "    return percentage_liked\n",
    "\n",
    "# Do not change: should return 0.5\n",
    "percentage_liked([1, 2, 3, 4, 5, 4, 5, 1])\n",
    "\n",
    "# Do not change: Check your answer\n",
    "q4.check()"
   ]
  },
  {
   "cell_type": "code",
   "execution_count": 13,
   "id": "23df02ba",
   "metadata": {
    "execution": {
     "iopub.execute_input": "2023-11-29T10:16:43.913469Z",
     "iopub.status.busy": "2023-11-29T10:16:43.913071Z",
     "iopub.status.idle": "2023-11-29T10:16:43.923590Z",
     "shell.execute_reply": "2023-11-29T10:16:43.922299Z"
    },
    "papermill": {
     "duration": 0.025058,
     "end_time": "2023-11-29T10:16:43.925972",
     "exception": false,
     "start_time": "2023-11-29T10:16:43.900914",
     "status": "completed"
    },
    "tags": []
   },
   "outputs": [
    {
     "data": {
      "application/javascript": [
       "parent.postMessage({\"jupyterEvent\": \"custom.exercise_interaction\", \"data\": {\"interactionType\": 3, \"questionType\": 2, \"questionId\": \"4_PercentageLiked\", \"learnToolsVersion\": \"0.3.4\", \"valueTowardsCompletion\": 0.0, \"failureMessage\": \"\", \"exceptionClass\": \"\", \"trace\": \"\", \"outcomeType\": 4}}, \"*\")"
      ],
      "text/plain": [
       "<IPython.core.display.Javascript object>"
      ]
     },
     "metadata": {},
     "output_type": "display_data"
    },
    {
     "data": {
      "text/markdown": [
       "<span style=\"color:#33cc99\">Solution:</span> \n",
       "```python\n",
       "\n",
       "# Complete the function\n",
       "def percentage_liked(ratings):\n",
       "    list_liked = [i >= 4 for i in ratings]\n",
       "    percentage_liked = sum(list_liked)/len(list_liked)\n",
       "    return percentage_liked\n",
       "\n",
       "```"
      ],
      "text/plain": [
       "Solution: \n",
       "```python\n",
       "\n",
       "# Complete the function\n",
       "def percentage_liked(ratings):\n",
       "    list_liked = [i >= 4 for i in ratings]\n",
       "    percentage_liked = sum(list_liked)/len(list_liked)\n",
       "    return percentage_liked\n",
       "\n",
       "```"
      ]
     },
     "metadata": {},
     "output_type": "display_data"
    }
   ],
   "source": [
    "# Uncomment to see a hint\n",
    "#q4.hint()\n",
    "\n",
    "# Uncomment to see the solution\n",
    "q4.solution()"
   ]
  },
  {
   "cell_type": "markdown",
   "id": "9833d916",
   "metadata": {
    "papermill": {
     "duration": 0.010706,
     "end_time": "2023-11-29T10:16:43.947665",
     "exception": false,
     "start_time": "2023-11-29T10:16:43.936959",
     "status": "completed"
    },
    "tags": []
   },
   "source": [
    "# 🌶️ Question 5\n",
    " \n",
    "Say you're doing analytics for a website.  You need to write a function that returns the percentage growth in the total number of users relative to a specified number of years ago.\n",
    "\n",
    "Your function `percentage_growth()` should take two arguments as input:\n",
    "- `num_users` = Python list with the total number of users each year.  So `num_users[0]` is the total number of users in the first year, `num_users[1]` is the total number of users in the second year, and so on.  The final entry in the list gives the total number of users in the most recently completed year.\n",
    "- `yrs_ago` = number of years to go back in time when calculating the growth percentage\n",
    "\n",
    "For instance, say `num_users = [920344, 1043553, 1204334, 1458996, 1503323, 1593432, 1623463, 1843064, 1930992, 2001078]`.\n",
    "- if `yrs_ago = 1`, we want the function to return a value of about `0.036`. This corresponds to a percentage growth of approximately 3.6%, calculated as (2001078 - 1930992)/1930992.\n",
    "- if `years_ago = 7`, we would want to return approximately `0.66`.  This corresponds to a percentage growth of approximately 66%, calculated as (2001078 - 1204334)/1204334.\n",
    "\n",
    "Your coworker sent you a draft of a function, but it doesn't seem to be doing the correct calculation.  Can you figure out what has gone wrong and make the needed changes?"
   ]
  },
  {
   "cell_type": "code",
   "execution_count": 14,
   "id": "00fce3ef",
   "metadata": {
    "execution": {
     "iopub.execute_input": "2023-11-29T10:16:43.972421Z",
     "iopub.status.busy": "2023-11-29T10:16:43.971934Z",
     "iopub.status.idle": "2023-11-29T10:16:43.986504Z",
     "shell.execute_reply": "2023-11-29T10:16:43.985162Z"
    },
    "papermill": {
     "duration": 0.030277,
     "end_time": "2023-11-29T10:16:43.989125",
     "exception": false,
     "start_time": "2023-11-29T10:16:43.958848",
     "status": "completed"
    },
    "tags": []
   },
   "outputs": [
    {
     "name": "stdout",
     "output_type": "stream",
     "text": [
      "0.03629533421163837\n",
      "0.6615639847417742\n"
     ]
    },
    {
     "data": {
      "application/javascript": [
       "parent.postMessage({\"jupyterEvent\": \"custom.exercise_interaction\", \"data\": {\"outcomeType\": 1, \"valueTowardsCompletion\": 0.2, \"interactionType\": 1, \"questionType\": 2, \"questionId\": \"5_WebsiteAnalytics\", \"learnToolsVersion\": \"0.3.4\", \"failureMessage\": \"\", \"exceptionClass\": \"\", \"trace\": \"\"}}, \"*\")"
      ],
      "text/plain": [
       "<IPython.core.display.Javascript object>"
      ]
     },
     "metadata": {},
     "output_type": "display_data"
    },
    {
     "data": {
      "text/markdown": [
       "<span style=\"color:#33cc33\">Correct</span>"
      ],
      "text/plain": [
       "Correct"
      ]
     },
     "metadata": {},
     "output_type": "display_data"
    }
   ],
   "source": [
    "# TODO: Edit the function\n",
    "def percentage_growth(num_users, yrs_ago):\n",
    "    growth = (num_users[len(num_users)-1] - num_users[len(num_users)-yrs_ago-1])/num_users[len(num_users)-yrs_ago-1]\n",
    "    return growth\n",
    "\n",
    "# Do not change: Variable for calculating some test examples\n",
    "num_users_test = [920344, 1043553, 1204334, 1458996, 1503323, 1593432, 1623463, 1843064, 1930992, 2001078]\n",
    "\n",
    "# Do not change: Should return .036\n",
    "print(percentage_growth(num_users_test, 1))\n",
    "\n",
    "# Do not change: Should return 0.66\n",
    "print(percentage_growth(num_users_test, 7))\n",
    "\n",
    "# Do not change: Check your answer\n",
    "q5.check()"
   ]
  },
  {
   "cell_type": "code",
   "execution_count": 15,
   "id": "983762e3",
   "metadata": {
    "execution": {
     "iopub.execute_input": "2023-11-29T10:16:44.015281Z",
     "iopub.status.busy": "2023-11-29T10:16:44.014744Z",
     "iopub.status.idle": "2023-11-29T10:16:44.020319Z",
     "shell.execute_reply": "2023-11-29T10:16:44.018993Z"
    },
    "papermill": {
     "duration": 0.022082,
     "end_time": "2023-11-29T10:16:44.023371",
     "exception": false,
     "start_time": "2023-11-29T10:16:44.001289",
     "status": "completed"
    },
    "tags": []
   },
   "outputs": [],
   "source": [
    "# Uncomment to see a hint\n",
    "#q5.hint()\n",
    "\n",
    "# Uncomment to see the solution\n",
    "#q5.solution()"
   ]
  },
  {
   "cell_type": "markdown",
   "id": "921dd590",
   "metadata": {
    "papermill": {
     "duration": 0.011264,
     "end_time": "2023-11-29T10:16:44.045897",
     "exception": false,
     "start_time": "2023-11-29T10:16:44.034633",
     "status": "completed"
    },
    "tags": []
   },
   "source": [
    "# Congratulations!\n",
    "\n",
    "Congratulations for finishing the Intro to Programming course!  You should be proud of your very first steps with learning programming.  As next steps, we recommend taking:\n",
    "- the **[Python course](http://www.kaggle.com/learn/python)**, and \n",
    "- the **[Intro to Machine Learning course](https://www.kaggle.com/learn/intro-to-machine-learning)**."
   ]
  },
  {
   "cell_type": "markdown",
   "id": "e84634a2",
   "metadata": {
    "papermill": {
     "duration": 0.010751,
     "end_time": "2023-11-29T10:16:44.067643",
     "exception": false,
     "start_time": "2023-11-29T10:16:44.056892",
     "status": "completed"
    },
    "tags": []
   },
   "source": [
    "---\n",
    "\n",
    "\n",
    "\n",
    "\n",
    "*Have questions or comments? Visit the [course discussion forum](https://www.kaggle.com/learn/intro-to-programming/discussion) to chat with other learners.*"
   ]
  }
 ],
 "metadata": {
  "kaggle": {
   "accelerator": "none",
   "dataSources": [],
   "isGpuEnabled": false,
   "isInternetEnabled": false,
   "language": "python",
   "sourceType": "notebook"
  },
  "kernelspec": {
   "display_name": "Python 3",
   "language": "python",
   "name": "python3"
  },
  "language_info": {
   "codemirror_mode": {
    "name": "ipython",
    "version": 3
   },
   "file_extension": ".py",
   "mimetype": "text/x-python",
   "name": "python",
   "nbconvert_exporter": "python",
   "pygments_lexer": "ipython3",
   "version": "3.10.12"
  },
  "papermill": {
   "default_parameters": {},
   "duration": 8.492953,
   "end_time": "2023-11-29T10:16:47.675555",
   "environment_variables": {},
   "exception": null,
   "input_path": "__notebook__.ipynb",
   "output_path": "__notebook__.ipynb",
   "parameters": {},
   "start_time": "2023-11-29T10:16:39.182602",
   "version": "2.4.0"
  }
 },
 "nbformat": 4,
 "nbformat_minor": 5
}

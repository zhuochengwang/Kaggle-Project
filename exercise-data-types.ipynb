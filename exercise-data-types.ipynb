{
 "cells": [
  {
   "cell_type": "markdown",
   "id": "ccb80f52",
   "metadata": {
    "papermill": {
     "duration": 0.00908,
     "end_time": "2023-11-29T09:56:15.584428",
     "exception": false,
     "start_time": "2023-11-29T09:56:15.575348",
     "status": "completed"
    },
    "tags": []
   },
   "source": [
    "**This notebook is an exercise in the [Intro to Programming](https://www.kaggle.com/learn/intro-to-programming) course.  You can reference the tutorial at [this link](https://www.kaggle.com/alexisbcook/data-types).**\n",
    "\n",
    "---\n"
   ]
  },
  {
   "cell_type": "markdown",
   "id": "0392397e",
   "metadata": {
    "papermill": {
     "duration": 0.008452,
     "end_time": "2023-11-29T09:56:15.601566",
     "exception": false,
     "start_time": "2023-11-29T09:56:15.593114",
     "status": "completed"
    },
    "tags": []
   },
   "source": [
    "In the tutorial, you learned about four different data types: floats, integers, strings, and booleans.  In this exercise, you'll experiment with them.\n",
    "\n",
    "# Set up the notebook\n",
    "\n",
    "Run the next code cell without changes to set up the notebook."
   ]
  },
  {
   "cell_type": "code",
   "execution_count": 1,
   "id": "ce4641e9",
   "metadata": {
    "execution": {
     "iopub.execute_input": "2023-11-29T09:56:15.621631Z",
     "iopub.status.busy": "2023-11-29T09:56:15.620708Z",
     "iopub.status.idle": "2023-11-29T09:56:16.107708Z",
     "shell.execute_reply": "2023-11-29T09:56:16.106489Z"
    },
    "papermill": {
     "duration": 0.500318,
     "end_time": "2023-11-29T09:56:16.110781",
     "exception": false,
     "start_time": "2023-11-29T09:56:15.610463",
     "status": "completed"
    },
    "tags": []
   },
   "outputs": [
    {
     "name": "stdout",
     "output_type": "stream",
     "text": [
      "Setup complete.\n"
     ]
    }
   ],
   "source": [
    "# Set up the exercise\n",
    "from learntools.core import binder\n",
    "binder.bind(globals())\n",
    "from learntools.intro_to_programming.ex3 import *\n",
    "print('Setup complete.')"
   ]
  },
  {
   "cell_type": "markdown",
   "id": "ad12dd5e",
   "metadata": {
    "papermill": {
     "duration": 0.008852,
     "end_time": "2023-11-29T09:56:16.128811",
     "exception": false,
     "start_time": "2023-11-29T09:56:16.119959",
     "status": "completed"
    },
    "tags": []
   },
   "source": [
    "# Question 1\n",
    "\n",
    "You have seen how to convert a float to an integer with the `int` function.  Try this out yourself by running the code cell below."
   ]
  },
  {
   "cell_type": "code",
   "execution_count": 2,
   "id": "be9f1895",
   "metadata": {
    "execution": {
     "iopub.execute_input": "2023-11-29T09:56:16.150882Z",
     "iopub.status.busy": "2023-11-29T09:56:16.150267Z",
     "iopub.status.idle": "2023-11-29T09:56:16.157927Z",
     "shell.execute_reply": "2023-11-29T09:56:16.156543Z"
    },
    "papermill": {
     "duration": 0.021519,
     "end_time": "2023-11-29T09:56:16.160648",
     "exception": false,
     "start_time": "2023-11-29T09:56:16.139129",
     "status": "completed"
    },
    "tags": []
   },
   "outputs": [
    {
     "name": "stdout",
     "output_type": "stream",
     "text": [
      "1.0\n",
      "<class 'float'>\n",
      "1\n",
      "<class 'int'>\n"
     ]
    }
   ],
   "source": [
    "# Define a float\n",
    "y = 1.\n",
    "print(y)\n",
    "print(type(y))\n",
    "\n",
    "# Convert float to integer with the int function\n",
    "z = int(y)\n",
    "print(z)\n",
    "print(type(z))"
   ]
  },
  {
   "cell_type": "markdown",
   "id": "6dcd90f6",
   "metadata": {
    "papermill": {
     "duration": 0.008554,
     "end_time": "2023-11-29T09:56:16.178401",
     "exception": false,
     "start_time": "2023-11-29T09:56:16.169847",
     "status": "completed"
    },
    "tags": []
   },
   "source": [
    "In this case, the float you are using has no numbers after the decimal.  \n",
    "- But what happens when you try to convert a float with a fractional part to an integer?  \n",
    "- How does the outcome of the `int` function change for positive and negative numbers?\n",
    "\n",
    "Use the next code cell to investigate and answer these questions.  Feel free to add or remove any lines of code -- it is your workspace!"
   ]
  },
  {
   "cell_type": "code",
   "execution_count": 3,
   "id": "a5e41f60",
   "metadata": {
    "execution": {
     "iopub.execute_input": "2023-11-29T09:56:16.198540Z",
     "iopub.status.busy": "2023-11-29T09:56:16.198040Z",
     "iopub.status.idle": "2023-11-29T09:56:16.206086Z",
     "shell.execute_reply": "2023-11-29T09:56:16.204628Z"
    },
    "papermill": {
     "duration": 0.021002,
     "end_time": "2023-11-29T09:56:16.208800",
     "exception": false,
     "start_time": "2023-11-29T09:56:16.187798",
     "status": "completed"
    },
    "tags": []
   },
   "outputs": [
    {
     "name": "stdout",
     "output_type": "stream",
     "text": [
      "1\n",
      "1\n",
      "-3\n",
      "-2\n"
     ]
    }
   ],
   "source": [
    "# Uncomment and run this code to get started!\n",
    "print(int(1.2321))\n",
    "print(int(1.747))\n",
    "print(int(-3.94535))\n",
    "print(int(-2.19774))"
   ]
  },
  {
   "cell_type": "markdown",
   "id": "ee37323c",
   "metadata": {
    "papermill": {
     "duration": 0.009055,
     "end_time": "2023-11-29T09:56:16.227098",
     "exception": false,
     "start_time": "2023-11-29T09:56:16.218043",
     "status": "completed"
    },
    "tags": []
   },
   "source": [
    "Once you have an answer, run the code cell below to see the solution.  Viewing the solution will give you credit for answering the problem."
   ]
  },
  {
   "cell_type": "code",
   "execution_count": 4,
   "id": "1dd14a5b",
   "metadata": {
    "execution": {
     "iopub.execute_input": "2023-11-29T09:56:16.247640Z",
     "iopub.status.busy": "2023-11-29T09:56:16.247220Z",
     "iopub.status.idle": "2023-11-29T09:56:16.256662Z",
     "shell.execute_reply": "2023-11-29T09:56:16.255824Z"
    },
    "papermill": {
     "duration": 0.02246,
     "end_time": "2023-11-29T09:56:16.259051",
     "exception": false,
     "start_time": "2023-11-29T09:56:16.236591",
     "status": "completed"
    },
    "tags": []
   },
   "outputs": [
    {
     "data": {
      "application/javascript": [
       "parent.postMessage({\"jupyterEvent\": \"custom.exercise_interaction\", \"data\": {\"outcomeType\": 1, \"valueTowardsCompletion\": 0.2, \"interactionType\": 1, \"questionType\": 4, \"questionId\": \"1_FloatToInt\", \"learnToolsVersion\": \"0.3.4\", \"failureMessage\": \"\", \"exceptionClass\": \"\", \"trace\": \"\"}}, \"*\")"
      ],
      "text/plain": [
       "<IPython.core.display.Javascript object>"
      ]
     },
     "metadata": {},
     "output_type": "display_data"
    },
    {
     "data": {
      "text/markdown": [
       "<span style=\"color:#33cc33\">Correct:</span> \n",
       "\n",
       "Negative floats are always rounded UP to the closest integer (for instance, both -1.1 and -1.9 are rounded up to -1). Positive floats are always rounded DOWN to the closest integer (for instance, 2.1 and 2.9 are rounded down to 2)."
      ],
      "text/plain": [
       "Correct: \n",
       "\n",
       "Negative floats are always rounded UP to the closest integer (for instance, both -1.1 and -1.9 are rounded up to -1). Positive floats are always rounded DOWN to the closest integer (for instance, 2.1 and 2.9 are rounded down to 2)."
      ]
     },
     "metadata": {},
     "output_type": "display_data"
    }
   ],
   "source": [
    "# Check your answer (Run this code cell to receive credit!)\n",
    "q1.check()"
   ]
  },
  {
   "cell_type": "markdown",
   "id": "8712b90f",
   "metadata": {
    "papermill": {
     "duration": 0.009117,
     "end_time": "2023-11-29T09:56:16.277807",
     "exception": false,
     "start_time": "2023-11-29T09:56:16.268690",
     "status": "completed"
    },
    "tags": []
   },
   "source": [
    "# Question 2\n",
    "\n",
    "In the tutorial, you learned about booleans (which can take a value of `True` or `False`), in addition to integers, floats, and strings.  For this question, your goal is to determine what happens when you multiply a boolean by any of these data types.  Specifically, \n",
    "- What happens when you multiply an integer or float by `True`?  What happens when you multiply them by `False`?  How does the answer change if the numbers are positive or negative?\n",
    "- What happens when you multiply a string by `True`?  By `False`?\n",
    "\n",
    "Use the next code cell for your investigation. "
   ]
  },
  {
   "cell_type": "code",
   "execution_count": 5,
   "id": "63afa3c9",
   "metadata": {
    "execution": {
     "iopub.execute_input": "2023-11-29T09:56:16.298776Z",
     "iopub.status.busy": "2023-11-29T09:56:16.298277Z",
     "iopub.status.idle": "2023-11-29T09:56:16.304491Z",
     "shell.execute_reply": "2023-11-29T09:56:16.303305Z"
    },
    "papermill": {
     "duration": 0.020882,
     "end_time": "2023-11-29T09:56:16.308134",
     "exception": false,
     "start_time": "2023-11-29T09:56:16.287252",
     "status": "completed"
    },
    "tags": []
   },
   "outputs": [
    {
     "name": "stdout",
     "output_type": "stream",
     "text": [
      "3\n",
      "-3.1\n",
      "<class 'str'>\n",
      "0\n"
     ]
    }
   ],
   "source": [
    "# Uncomment and run this code to get started!\n",
    "print(3 * True)\n",
    "print(-3.1 * True)\n",
    "print(type(\"abc\" * False))\n",
    "print(len(\"abc\" * False))"
   ]
  },
  {
   "cell_type": "markdown",
   "id": "a9bbbd6d",
   "metadata": {
    "papermill": {
     "duration": 0.009197,
     "end_time": "2023-11-29T09:56:16.327557",
     "exception": false,
     "start_time": "2023-11-29T09:56:16.318360",
     "status": "completed"
    },
    "tags": []
   },
   "source": [
    "Once you have an answer, run the code cell below to see the solution.  Viewing the solution will give you credit for answering the problem."
   ]
  },
  {
   "cell_type": "code",
   "execution_count": 6,
   "id": "1bbf4cde",
   "metadata": {
    "execution": {
     "iopub.execute_input": "2023-11-29T09:56:16.349395Z",
     "iopub.status.busy": "2023-11-29T09:56:16.348975Z",
     "iopub.status.idle": "2023-11-29T09:56:16.358953Z",
     "shell.execute_reply": "2023-11-29T09:56:16.357513Z"
    },
    "papermill": {
     "duration": 0.024183,
     "end_time": "2023-11-29T09:56:16.361753",
     "exception": false,
     "start_time": "2023-11-29T09:56:16.337570",
     "status": "completed"
    },
    "tags": []
   },
   "outputs": [
    {
     "data": {
      "application/javascript": [
       "parent.postMessage({\"jupyterEvent\": \"custom.exercise_interaction\", \"data\": {\"outcomeType\": 1, \"valueTowardsCompletion\": 0.2, \"interactionType\": 1, \"questionType\": 4, \"questionId\": \"2_MultiplyBooleans\", \"learnToolsVersion\": \"0.3.4\", \"failureMessage\": \"\", \"exceptionClass\": \"\", \"trace\": \"\"}}, \"*\")"
      ],
      "text/plain": [
       "<IPython.core.display.Javascript object>"
      ]
     },
     "metadata": {},
     "output_type": "display_data"
    },
    {
     "data": {
      "text/markdown": [
       "<span style=\"color:#33cc33\">Correct:</span> \n",
       "\n",
       "When you multiple an integer or float by a boolean with value `True`, it just returns that same integer or float (and is equivalent to multiplying by 1).  If you multiply an integer or float by a boolean with value `False`, it always returns 0.  This is true for both positive and negative numbers.  If you multiply a string by a boolean with value `True`, it just returns that same string.  And if you multiply a string by a boolean with value `False`, it returns an empty string (or a string with length zero)."
      ],
      "text/plain": [
       "Correct: \n",
       "\n",
       "When you multiple an integer or float by a boolean with value `True`, it just returns that same integer or float (and is equivalent to multiplying by 1).  If you multiply an integer or float by a boolean with value `False`, it always returns 0.  This is true for both positive and negative numbers.  If you multiply a string by a boolean with value `True`, it just returns that same string.  And if you multiply a string by a boolean with value `False`, it returns an empty string (or a string with length zero)."
      ]
     },
     "metadata": {},
     "output_type": "display_data"
    }
   ],
   "source": [
    "# Check your answer (Run this code cell to receive credit!)\n",
    "q2.check()"
   ]
  },
  {
   "cell_type": "markdown",
   "id": "a8770ce3",
   "metadata": {
    "papermill": {
     "duration": 0.010103,
     "end_time": "2023-11-29T09:56:16.382303",
     "exception": false,
     "start_time": "2023-11-29T09:56:16.372200",
     "status": "completed"
    },
    "tags": []
   },
   "source": [
    "# Question 3\n",
    "\n",
    "In this question, you will build off your work from the previous exercise to write a function that estimates the value of a house.\n",
    "\n",
    "Use the next code cell to create a function `get_expected_cost` that takes as input three variables:\n",
    "- `beds` - number of bedrooms (data type float)\n",
    "- `baths` - number of bathrooms (data type float)\n",
    "- `has_basement` - whether or not the house has a basement (data type boolean)\n",
    "\n",
    "It should return the expected cost of a house with those characteristics. Assume that:\n",
    "- the expected cost for a house with 0 bedrooms and 0 bathrooms, and no basement is 80000, \n",
    "- each bedroom adds 30000 to the expected cost,\n",
    "- each bathroom adds 10000 to the expected cost, and\n",
    "- a basement adds 40000 to the expected cost.\n",
    "\n",
    "For instance,\n",
    "- a house with 1 bedroom, 1 bathroom, and no basement has an expected cost of 80000 + 30000 + 10000 = 120000.  This value will be calculated with `get_expected_cost(1, 1, False)`.\n",
    "- a house with 2 bedrooms, 1 bathroom, and a basement has an expected cost of 80000 + 2*30000 + 10000 + 40000 = 190000.  This value will be calculated with `get_expected_cost(2, 1, True)`.\n",
    "\n",
    "Remember you can always get a hint by uncommenting `q3.hint()` in the code cell following the next!"
   ]
  },
  {
   "cell_type": "code",
   "execution_count": 7,
   "id": "bc585a81",
   "metadata": {
    "execution": {
     "iopub.execute_input": "2023-11-29T09:56:16.405593Z",
     "iopub.status.busy": "2023-11-29T09:56:16.405135Z",
     "iopub.status.idle": "2023-11-29T09:56:16.416296Z",
     "shell.execute_reply": "2023-11-29T09:56:16.415003Z"
    },
    "papermill": {
     "duration": 0.02691,
     "end_time": "2023-11-29T09:56:16.419302",
     "exception": false,
     "start_time": "2023-11-29T09:56:16.392392",
     "status": "completed"
    },
    "tags": []
   },
   "outputs": [
    {
     "data": {
      "application/javascript": [
       "parent.postMessage({\"jupyterEvent\": \"custom.exercise_interaction\", \"data\": {\"outcomeType\": 1, \"valueTowardsCompletion\": 0.2, \"interactionType\": 1, \"questionType\": 2, \"questionId\": \"3_EstimateHouseValueBool\", \"learnToolsVersion\": \"0.3.4\", \"failureMessage\": \"\", \"exceptionClass\": \"\", \"trace\": \"\"}}, \"*\")"
      ],
      "text/plain": [
       "<IPython.core.display.Javascript object>"
      ]
     },
     "metadata": {},
     "output_type": "display_data"
    },
    {
     "data": {
      "text/markdown": [
       "<span style=\"color:#33cc33\">Correct</span>"
      ],
      "text/plain": [
       "Correct"
      ]
     },
     "metadata": {},
     "output_type": "display_data"
    }
   ],
   "source": [
    "# TODO: Complete the function\n",
    "def get_expected_cost(beds, baths, has_basement):\n",
    "    value = 80000 + (30000 * beds) + (10000 * baths) + (40000 * has_basement)\n",
    "    return value\n",
    "\n",
    "# Check your answer \n",
    "q3.check()"
   ]
  },
  {
   "cell_type": "code",
   "execution_count": 8,
   "id": "2b4495e3",
   "metadata": {
    "execution": {
     "iopub.execute_input": "2023-11-29T09:56:16.442298Z",
     "iopub.status.busy": "2023-11-29T09:56:16.441839Z",
     "iopub.status.idle": "2023-11-29T09:56:16.447365Z",
     "shell.execute_reply": "2023-11-29T09:56:16.446086Z"
    },
    "papermill": {
     "duration": 0.019672,
     "end_time": "2023-11-29T09:56:16.450066",
     "exception": false,
     "start_time": "2023-11-29T09:56:16.430394",
     "status": "completed"
    },
    "tags": []
   },
   "outputs": [],
   "source": [
    "# Uncomment to see a hint\n",
    "#q3.hint()\n",
    "\n",
    "# Uncomment to view the solution\n",
    "#q3.solution()"
   ]
  },
  {
   "cell_type": "markdown",
   "id": "61a39f7d",
   "metadata": {
    "papermill": {
     "duration": 0.010675,
     "end_time": "2023-11-29T09:56:16.471558",
     "exception": false,
     "start_time": "2023-11-29T09:56:16.460883",
     "status": "completed"
    },
    "tags": []
   },
   "source": [
    "# Question 4\n",
    "\n",
    "We'll continue our study of boolean arithmetic.  For this question, your task is to provide a description of what happpens when you add booleans. \n",
    "\n",
    "Use the next code cell for your investigation.  Feel free to add or remove any lines of code - use it as your workspace!"
   ]
  },
  {
   "cell_type": "code",
   "execution_count": 9,
   "id": "5297bd38",
   "metadata": {
    "execution": {
     "iopub.execute_input": "2023-11-29T09:56:16.494439Z",
     "iopub.status.busy": "2023-11-29T09:56:16.494027Z",
     "iopub.status.idle": "2023-11-29T09:56:16.500541Z",
     "shell.execute_reply": "2023-11-29T09:56:16.499311Z"
    },
    "papermill": {
     "duration": 0.021903,
     "end_time": "2023-11-29T09:56:16.503905",
     "exception": false,
     "start_time": "2023-11-29T09:56:16.482002",
     "status": "completed"
    },
    "tags": []
   },
   "outputs": [
    {
     "name": "stdout",
     "output_type": "stream",
     "text": [
      "0\n",
      "1\n",
      "1\n",
      "2\n",
      "3\n"
     ]
    }
   ],
   "source": [
    "print(False + False)\n",
    "print(True + False)\n",
    "print(False + True)\n",
    "print(True + True)\n",
    "print(False + True + True + True)"
   ]
  },
  {
   "cell_type": "markdown",
   "id": "79e3001c",
   "metadata": {
    "papermill": {
     "duration": 0.01095,
     "end_time": "2023-11-29T09:56:16.525350",
     "exception": false,
     "start_time": "2023-11-29T09:56:16.514400",
     "status": "completed"
    },
    "tags": []
   },
   "source": [
    "Once you have an answer, run the code cell below to see the solution.  Viewing the solution will give you credit for answering the problem."
   ]
  },
  {
   "cell_type": "code",
   "execution_count": 10,
   "id": "d2c82c2c",
   "metadata": {
    "execution": {
     "iopub.execute_input": "2023-11-29T09:56:16.548329Z",
     "iopub.status.busy": "2023-11-29T09:56:16.547887Z",
     "iopub.status.idle": "2023-11-29T09:56:16.557700Z",
     "shell.execute_reply": "2023-11-29T09:56:16.556451Z"
    },
    "papermill": {
     "duration": 0.024722,
     "end_time": "2023-11-29T09:56:16.560495",
     "exception": false,
     "start_time": "2023-11-29T09:56:16.535773",
     "status": "completed"
    },
    "tags": []
   },
   "outputs": [
    {
     "data": {
      "application/javascript": [
       "parent.postMessage({\"jupyterEvent\": \"custom.exercise_interaction\", \"data\": {\"outcomeType\": 1, \"valueTowardsCompletion\": 0.2, \"interactionType\": 1, \"questionType\": 4, \"questionId\": \"4_AddingBooleans\", \"learnToolsVersion\": \"0.3.4\", \"failureMessage\": \"\", \"exceptionClass\": \"\", \"trace\": \"\"}}, \"*\")"
      ],
      "text/plain": [
       "<IPython.core.display.Javascript object>"
      ]
     },
     "metadata": {},
     "output_type": "display_data"
    },
    {
     "data": {
      "text/markdown": [
       "<span style=\"color:#33cc33\">Correct:</span> \n",
       "\n",
       "When you add booleans, adding `False` is equivalent to adding 0, and adding `True` is equivalent to adding 1."
      ],
      "text/plain": [
       "Correct: \n",
       "\n",
       "When you add booleans, adding `False` is equivalent to adding 0, and adding `True` is equivalent to adding 1."
      ]
     },
     "metadata": {},
     "output_type": "display_data"
    }
   ],
   "source": [
    "# Check your answer (Run this code cell to receive credit!)\n",
    "q4.check()"
   ]
  },
  {
   "cell_type": "markdown",
   "id": "a681fe16",
   "metadata": {
    "papermill": {
     "duration": 0.010912,
     "end_time": "2023-11-29T09:56:16.582062",
     "exception": false,
     "start_time": "2023-11-29T09:56:16.571150",
     "status": "completed"
    },
    "tags": []
   },
   "source": [
    "# 🌶️ Question 5\n",
    "\n",
    "You own an online shop where you sell rings with custom engravings.  You offer both gold plated and solid gold rings.\n",
    "- Gold plated rings have a base cost of \\\\$50, and you charge \\\\$7 per engraved unit.  \n",
    "- Solid gold rings have a base cost of \\\\$100, and you charge \\\\$10 per engraved unit.\n",
    "- Spaces and punctuation are counted as engraved units.\n",
    "\n",
    "Write a function `cost_of_project()` that takes two arguments:\n",
    "- `engraving` - a Python string with the text of the engraving\n",
    "- `solid_gold` - a Boolean that indicates whether the ring is solid gold\n",
    "\n",
    "It should return the cost of the project.  This question should be fairly challenging, and you may need a hint."
   ]
  },
  {
   "cell_type": "code",
   "execution_count": 11,
   "id": "6eb2eeb3",
   "metadata": {
    "execution": {
     "iopub.execute_input": "2023-11-29T09:56:16.606468Z",
     "iopub.status.busy": "2023-11-29T09:56:16.606061Z",
     "iopub.status.idle": "2023-11-29T09:56:16.616719Z",
     "shell.execute_reply": "2023-11-29T09:56:16.615336Z"
    },
    "papermill": {
     "duration": 0.026637,
     "end_time": "2023-11-29T09:56:16.619506",
     "exception": false,
     "start_time": "2023-11-29T09:56:16.592869",
     "status": "completed"
    },
    "tags": []
   },
   "outputs": [
    {
     "data": {
      "application/javascript": [
       "parent.postMessage({\"jupyterEvent\": \"custom.exercise_interaction\", \"data\": {\"outcomeType\": 1, \"valueTowardsCompletion\": 0.2, \"interactionType\": 1, \"questionType\": 2, \"questionId\": \"5_CustomEngravings\", \"learnToolsVersion\": \"0.3.4\", \"failureMessage\": \"\", \"exceptionClass\": \"\", \"trace\": \"\"}}, \"*\")"
      ],
      "text/plain": [
       "<IPython.core.display.Javascript object>"
      ]
     },
     "metadata": {},
     "output_type": "display_data"
    },
    {
     "data": {
      "text/markdown": [
       "<span style=\"color:#33cc33\">Correct</span>"
      ],
      "text/plain": [
       "Correct"
      ]
     },
     "metadata": {},
     "output_type": "display_data"
    }
   ],
   "source": [
    "def cost_of_project(engraving, solid_gold):\n",
    "    if solid_gold == True:\n",
    "        cost = 100 + len(engraving) * 10\n",
    "    else:\n",
    "        cost = 50 + len(engraving) * 7\n",
    "    return cost\n",
    "\n",
    "# Check your answer\n",
    "q5.check()"
   ]
  },
  {
   "cell_type": "code",
   "execution_count": 12,
   "id": "195586ce",
   "metadata": {
    "execution": {
     "iopub.execute_input": "2023-11-29T09:56:16.644910Z",
     "iopub.status.busy": "2023-11-29T09:56:16.644476Z",
     "iopub.status.idle": "2023-11-29T09:56:16.649263Z",
     "shell.execute_reply": "2023-11-29T09:56:16.647697Z"
    },
    "papermill": {
     "duration": 0.020659,
     "end_time": "2023-11-29T09:56:16.651914",
     "exception": false,
     "start_time": "2023-11-29T09:56:16.631255",
     "status": "completed"
    },
    "tags": []
   },
   "outputs": [],
   "source": [
    "# Uncomment to see a hint\n",
    "#q5.hint()\n",
    "\n",
    "# Uncomment to view the solution\n",
    "#q5.solution()"
   ]
  },
  {
   "cell_type": "markdown",
   "id": "16da12f0",
   "metadata": {
    "papermill": {
     "duration": 0.011189,
     "end_time": "2023-11-29T09:56:16.674967",
     "exception": false,
     "start_time": "2023-11-29T09:56:16.663778",
     "status": "completed"
    },
    "tags": []
   },
   "source": [
    "Run the next code cell to calculate the cost of engraving `Charlie+Denver` on a solid gold ring."
   ]
  },
  {
   "cell_type": "code",
   "execution_count": 13,
   "id": "67354a11",
   "metadata": {
    "execution": {
     "iopub.execute_input": "2023-11-29T09:56:16.699501Z",
     "iopub.status.busy": "2023-11-29T09:56:16.699113Z",
     "iopub.status.idle": "2023-11-29T09:56:16.705353Z",
     "shell.execute_reply": "2023-11-29T09:56:16.704142Z"
    },
    "papermill": {
     "duration": 0.021836,
     "end_time": "2023-11-29T09:56:16.708559",
     "exception": false,
     "start_time": "2023-11-29T09:56:16.686723",
     "status": "completed"
    },
    "tags": []
   },
   "outputs": [
    {
     "name": "stdout",
     "output_type": "stream",
     "text": [
      "240\n"
     ]
    }
   ],
   "source": [
    "project_one = cost_of_project(\"Charlie+Denver\", True)\n",
    "print(project_one)"
   ]
  },
  {
   "cell_type": "markdown",
   "id": "b307085b",
   "metadata": {
    "papermill": {
     "duration": 0.010636,
     "end_time": "2023-11-29T09:56:16.730248",
     "exception": false,
     "start_time": "2023-11-29T09:56:16.719612",
     "status": "completed"
    },
    "tags": []
   },
   "source": [
    "Use the next code cell to calculate the cost of engraving `08/10/2000` on a gold plated ring."
   ]
  },
  {
   "cell_type": "code",
   "execution_count": 14,
   "id": "10ed2463",
   "metadata": {
    "execution": {
     "iopub.execute_input": "2023-11-29T09:56:16.755181Z",
     "iopub.status.busy": "2023-11-29T09:56:16.754757Z",
     "iopub.status.idle": "2023-11-29T09:56:16.761076Z",
     "shell.execute_reply": "2023-11-29T09:56:16.759704Z"
    },
    "papermill": {
     "duration": 0.022473,
     "end_time": "2023-11-29T09:56:16.764687",
     "exception": false,
     "start_time": "2023-11-29T09:56:16.742214",
     "status": "completed"
    },
    "tags": []
   },
   "outputs": [
    {
     "name": "stdout",
     "output_type": "stream",
     "text": [
      "120\n"
     ]
    }
   ],
   "source": [
    "project_two = cost_of_project(\"08/10/2000\", False)\n",
    "print(project_two)"
   ]
  },
  {
   "cell_type": "markdown",
   "id": "b8c4fa96",
   "metadata": {
    "papermill": {
     "duration": 0.01125,
     "end_time": "2023-11-29T09:56:16.787082",
     "exception": false,
     "start_time": "2023-11-29T09:56:16.775832",
     "status": "completed"
    },
    "tags": []
   },
   "source": [
    "# Keep going\n",
    "\n",
    "Continue to the next lesson to **[learn about conditions and conditional statements](https://www.kaggle.com/alexisbcook/conditions-and-conditional-statements)**."
   ]
  },
  {
   "cell_type": "markdown",
   "id": "625fb905",
   "metadata": {
    "papermill": {
     "duration": 0.011139,
     "end_time": "2023-11-29T09:56:16.810715",
     "exception": false,
     "start_time": "2023-11-29T09:56:16.799576",
     "status": "completed"
    },
    "tags": []
   },
   "source": [
    "---\n",
    "\n",
    "\n",
    "\n",
    "\n",
    "*Have questions or comments? Visit the [course discussion forum](https://www.kaggle.com/learn/intro-to-programming/discussion) to chat with other learners.*"
   ]
  }
 ],
 "metadata": {
  "kaggle": {
   "accelerator": "none",
   "dataSources": [],
   "isGpuEnabled": false,
   "isInternetEnabled": false,
   "language": "python",
   "sourceType": "notebook"
  },
  "kernelspec": {
   "display_name": "Python 3",
   "language": "python",
   "name": "python3"
  },
  "language_info": {
   "codemirror_mode": {
    "name": "ipython",
    "version": 3
   },
   "file_extension": ".py",
   "mimetype": "text/x-python",
   "name": "python",
   "nbconvert_exporter": "python",
   "pygments_lexer": "ipython3",
   "version": "3.10.12"
  },
  "papermill": {
   "default_parameters": {},
   "duration": 5.271119,
   "end_time": "2023-11-29T09:56:17.345257",
   "environment_variables": {},
   "exception": null,
   "input_path": "__notebook__.ipynb",
   "output_path": "__notebook__.ipynb",
   "parameters": {},
   "start_time": "2023-11-29T09:56:12.074138",
   "version": "2.3.3"
  }
 },
 "nbformat": 4,
 "nbformat_minor": 5
}

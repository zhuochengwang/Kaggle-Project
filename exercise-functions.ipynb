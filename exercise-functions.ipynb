{
 "cells": [
  {
   "cell_type": "markdown",
   "id": "165a4e41",
   "metadata": {
    "papermill": {
     "duration": 0.007008,
     "end_time": "2023-11-29T10:10:25.855418",
     "exception": false,
     "start_time": "2023-11-29T10:10:25.848410",
     "status": "completed"
    },
    "tags": []
   },
   "source": [
    "**This notebook is an exercise in the [Intro to Programming](https://www.kaggle.com/learn/intro-to-programming) course.  You can reference the tutorial at [this link](https://www.kaggle.com/alexisbcook/functions).**\n",
    "\n",
    "---\n"
   ]
  },
  {
   "cell_type": "markdown",
   "id": "34e031ef",
   "metadata": {
    "papermill": {
     "duration": 0.004298,
     "end_time": "2023-11-29T10:10:25.864464",
     "exception": false,
     "start_time": "2023-11-29T10:10:25.860166",
     "status": "completed"
    },
    "tags": []
   },
   "source": [
    "In the tutorial, you learned about functions. In this exercise, you'll write some of your own!\n",
    "\n",
    "# Set up the notebook\n",
    "\n",
    "Run the next code cell without changes to set up the notebook."
   ]
  },
  {
   "cell_type": "code",
   "execution_count": 1,
   "id": "79a98238",
   "metadata": {
    "execution": {
     "iopub.execute_input": "2023-11-29T10:10:25.877156Z",
     "iopub.status.busy": "2023-11-29T10:10:25.876640Z",
     "iopub.status.idle": "2023-11-29T10:10:26.220643Z",
     "shell.execute_reply": "2023-11-29T10:10:26.218335Z"
    },
    "papermill": {
     "duration": 0.353419,
     "end_time": "2023-11-29T10:10:26.223523",
     "exception": false,
     "start_time": "2023-11-29T10:10:25.870104",
     "status": "completed"
    },
    "tags": []
   },
   "outputs": [
    {
     "name": "stdout",
     "output_type": "stream",
     "text": [
      "Setup complete.\n"
     ]
    }
   ],
   "source": [
    "# Set up the exercise\n",
    "import math\n",
    "from learntools.core import binder\n",
    "binder.bind(globals())\n",
    "from learntools.intro_to_programming.ex2 import *\n",
    "print('Setup complete.')"
   ]
  },
  {
   "cell_type": "markdown",
   "id": "d16ecb86",
   "metadata": {
    "papermill": {
     "duration": 0.004959,
     "end_time": "2023-11-29T10:10:26.234108",
     "exception": false,
     "start_time": "2023-11-29T10:10:26.229149",
     "status": "completed"
    },
    "tags": []
   },
   "source": [
    "# Question 1\n",
    "\n",
    "In the [House Prices - Advanced Regression Techniques competition](https://www.kaggle.com/c/house-prices-advanced-regression-techniques/overview), you need to use information like the number of bedrooms and bathrooms to predict the price of a house.  Inspired by this competition, you'll write your own function to do this.\n",
    "\n",
    "In the next code cell, create a function `get_expected_cost()` that has two arguments:\n",
    "- `beds` - number of bedrooms \n",
    "- `baths` - number of bathrooms\n",
    "\n",
    "It should return the expected cost of a house with that number of bedrooms and bathrooms.  Assume that:\n",
    "- the expected cost for a house with 0 bedrooms and 0 bathrooms is `80000`.  \n",
    "- each bedroom adds `30000` to the expected cost\n",
    "- each bathroom adds `10000` to the expected cost.\n",
    "\n",
    "For instance, \n",
    "- a house with 1 bedroom and 1 bathroom has an expected cost of `120000`, and \n",
    "- a house with 2 bedrooms and 1 bathroom has an expected cost of `150000`."
   ]
  },
  {
   "cell_type": "code",
   "execution_count": 2,
   "id": "269563cb",
   "metadata": {
    "execution": {
     "iopub.execute_input": "2023-11-29T10:10:26.246140Z",
     "iopub.status.busy": "2023-11-29T10:10:26.245448Z",
     "iopub.status.idle": "2023-11-29T10:10:26.253614Z",
     "shell.execute_reply": "2023-11-29T10:10:26.252687Z"
    },
    "papermill": {
     "duration": 0.016593,
     "end_time": "2023-11-29T10:10:26.255619",
     "exception": false,
     "start_time": "2023-11-29T10:10:26.239026",
     "status": "completed"
    },
    "tags": []
   },
   "outputs": [
    {
     "data": {
      "application/javascript": [
       "parent.postMessage({\"jupyterEvent\": \"custom.exercise_interaction\", \"data\": {\"outcomeType\": 1, \"valueTowardsCompletion\": 0.2, \"interactionType\": 1, \"questionType\": 2, \"questionId\": \"1_GetExpectedCost\", \"learnToolsVersion\": \"0.3.4\", \"failureMessage\": \"\", \"exceptionClass\": \"\", \"trace\": \"\"}}, \"*\")"
      ],
      "text/plain": [
       "<IPython.core.display.Javascript object>"
      ]
     },
     "metadata": {},
     "output_type": "display_data"
    },
    {
     "data": {
      "text/markdown": [
       "<span style=\"color:#33cc33\">Correct</span>"
      ],
      "text/plain": [
       "Correct"
      ]
     },
     "metadata": {},
     "output_type": "display_data"
    }
   ],
   "source": [
    "# TODO: Complete the function\n",
    "def get_expected_cost(beds, baths):\n",
    "    value = beds * 30_000 + baths * 10_000 + 80_000\n",
    "    return value\n",
    "\n",
    "# Check your answer \n",
    "q1.check()"
   ]
  },
  {
   "cell_type": "code",
   "execution_count": 3,
   "id": "2b170093",
   "metadata": {
    "execution": {
     "iopub.execute_input": "2023-11-29T10:10:26.267620Z",
     "iopub.status.busy": "2023-11-29T10:10:26.267283Z",
     "iopub.status.idle": "2023-11-29T10:10:26.271583Z",
     "shell.execute_reply": "2023-11-29T10:10:26.270289Z"
    },
    "papermill": {
     "duration": 0.012551,
     "end_time": "2023-11-29T10:10:26.273629",
     "exception": false,
     "start_time": "2023-11-29T10:10:26.261078",
     "status": "completed"
    },
    "tags": []
   },
   "outputs": [],
   "source": [
    "# Uncomment to see a hint\n",
    "#q1.hint()\n",
    "\n",
    "# Uncomment to view the solution\n",
    "#q1.solution()"
   ]
  },
  {
   "cell_type": "markdown",
   "id": "0b6b55b2",
   "metadata": {
    "papermill": {
     "duration": 0.005023,
     "end_time": "2023-11-29T10:10:26.284467",
     "exception": false,
     "start_time": "2023-11-29T10:10:26.279444",
     "status": "completed"
    },
    "tags": []
   },
   "source": [
    "# Question 2\n",
    "\n",
    "You are thinking about buying a home and want to get an idea of how much you will spend, based on the number of bedrooms and bathrooms.  You are trying to decide between four different options:\n",
    "- Option 1: house with two bedrooms and three bathrooms\n",
    "- Option 2: house with three bedrooms and two bathrooms\n",
    "- Option 3: house with three bedrooms and three bathrooms\n",
    "- Option 4: house with three bedrooms and four bathrooms\n",
    "\n",
    "Use the `get_expected_cost()` function you defined in question 1 to set `option_1`, `option_2`, `option_3`, and `option_4` to the expected cost of each option."
   ]
  },
  {
   "cell_type": "code",
   "execution_count": 4,
   "id": "e243a5e3",
   "metadata": {
    "execution": {
     "iopub.execute_input": "2023-11-29T10:10:26.296497Z",
     "iopub.status.busy": "2023-11-29T10:10:26.296086Z",
     "iopub.status.idle": "2023-11-29T10:10:26.304618Z",
     "shell.execute_reply": "2023-11-29T10:10:26.303353Z"
    },
    "papermill": {
     "duration": 0.018309,
     "end_time": "2023-11-29T10:10:26.307924",
     "exception": false,
     "start_time": "2023-11-29T10:10:26.289615",
     "status": "completed"
    },
    "tags": []
   },
   "outputs": [
    {
     "name": "stdout",
     "output_type": "stream",
     "text": [
      "170000\n",
      "190000\n",
      "200000\n",
      "210000\n"
     ]
    },
    {
     "data": {
      "application/javascript": [
       "parent.postMessage({\"jupyterEvent\": \"custom.exercise_interaction\", \"data\": {\"outcomeType\": 1, \"valueTowardsCompletion\": 0.2, \"interactionType\": 1, \"questionType\": 1, \"questionId\": \"2_RunGetExpectedCost\", \"learnToolsVersion\": \"0.3.4\", \"failureMessage\": \"\", \"exceptionClass\": \"\", \"trace\": \"\"}}, \"*\")"
      ],
      "text/plain": [
       "<IPython.core.display.Javascript object>"
      ]
     },
     "metadata": {},
     "output_type": "display_data"
    },
    {
     "data": {
      "text/markdown": [
       "<span style=\"color:#33cc33\">Correct</span>"
      ],
      "text/plain": [
       "Correct"
      ]
     },
     "metadata": {},
     "output_type": "display_data"
    }
   ],
   "source": [
    "# TODO: Use the get_expected_cost function to fill in each value\n",
    "option_one = get_expected_cost(2, 3)\n",
    "option_two = get_expected_cost(3, 2)\n",
    "option_three = get_expected_cost(3, 3)\n",
    "option_four = get_expected_cost(3, 4)\n",
    "\n",
    "print(option_one)\n",
    "print(option_two)\n",
    "print(option_three)\n",
    "print(option_four)\n",
    "\n",
    "# Check your answer\n",
    "q2.check()"
   ]
  },
  {
   "cell_type": "code",
   "execution_count": 5,
   "id": "a06613c5",
   "metadata": {
    "execution": {
     "iopub.execute_input": "2023-11-29T10:10:26.321289Z",
     "iopub.status.busy": "2023-11-29T10:10:26.320924Z",
     "iopub.status.idle": "2023-11-29T10:10:26.324813Z",
     "shell.execute_reply": "2023-11-29T10:10:26.323965Z"
    },
    "papermill": {
     "duration": 0.012394,
     "end_time": "2023-11-29T10:10:26.326555",
     "exception": false,
     "start_time": "2023-11-29T10:10:26.314161",
     "status": "completed"
    },
    "tags": []
   },
   "outputs": [],
   "source": [
    "# Uncomment to see a hint\n",
    "#q2.hint()\n",
    "\n",
    "# Uncomment to view the solution\n",
    "#q2.solution()"
   ]
  },
  {
   "cell_type": "markdown",
   "id": "0b778512",
   "metadata": {
    "papermill": {
     "duration": 0.005408,
     "end_time": "2023-11-29T10:10:26.338202",
     "exception": false,
     "start_time": "2023-11-29T10:10:26.332794",
     "status": "completed"
    },
    "tags": []
   },
   "source": [
    "# Question 3\n",
    "\n",
    "You're a home decorator, and you'd like to use Python to streamline some of your work.  Specifically, you're creating a tool that you intend to use to calculate the cost of painting a room.\n",
    "\n",
    "As a first step, define a function `get_cost()` that takes as input:\n",
    "- `sqft_walls` = total square feet of walls to be painted\n",
    "- `sqft_ceiling` = square feet of ceiling to be painted\n",
    "- `sqft_per_gallon` = number of square feet that you can cover with one gallon of paint\n",
    "- `cost_per_gallon` = cost (in dollars) of one gallon of paint\n",
    "\n",
    "It should return the cost (in dollars) of putting one coat of paint on all walls and the ceiling.  Assume you can buy the exact amount of paint that you need, so you can buy partial gallons (e.g., if you need 7.523 gallons, you can buy that exact amount, instead of needing to buy 8 gallons and waste some paint).  Do not round your answer."
   ]
  },
  {
   "cell_type": "code",
   "execution_count": 6,
   "id": "daa8193c",
   "metadata": {
    "execution": {
     "iopub.execute_input": "2023-11-29T10:10:26.351436Z",
     "iopub.status.busy": "2023-11-29T10:10:26.351047Z",
     "iopub.status.idle": "2023-11-29T10:10:26.361059Z",
     "shell.execute_reply": "2023-11-29T10:10:26.359889Z"
    },
    "papermill": {
     "duration": 0.019441,
     "end_time": "2023-11-29T10:10:26.363390",
     "exception": false,
     "start_time": "2023-11-29T10:10:26.343949",
     "status": "completed"
    },
    "tags": []
   },
   "outputs": [
    {
     "data": {
      "application/javascript": [
       "parent.postMessage({\"jupyterEvent\": \"custom.exercise_interaction\", \"data\": {\"outcomeType\": 1, \"valueTowardsCompletion\": 0.2, \"interactionType\": 1, \"questionType\": 2, \"questionId\": \"3_GetCostPaint\", \"learnToolsVersion\": \"0.3.4\", \"failureMessage\": \"\", \"exceptionClass\": \"\", \"trace\": \"\"}}, \"*\")"
      ],
      "text/plain": [
       "<IPython.core.display.Javascript object>"
      ]
     },
     "metadata": {},
     "output_type": "display_data"
    },
    {
     "data": {
      "text/markdown": [
       "<span style=\"color:#33cc33\">Correct</span>"
      ],
      "text/plain": [
       "Correct"
      ]
     },
     "metadata": {},
     "output_type": "display_data"
    }
   ],
   "source": [
    "# TODO: Finish defining the function\n",
    "def get_cost(sqft_walls, sqft_ceiling, sqft_per_gallon, cost_per_gallon):\n",
    "    cost = ((sqft_walls + sqft_ceiling) / sqft_per_gallon) * cost_per_gallon\n",
    "    return cost\n",
    "\n",
    "# Check your answer\n",
    "q3.check()"
   ]
  },
  {
   "cell_type": "code",
   "execution_count": 7,
   "id": "3f1a204d",
   "metadata": {
    "execution": {
     "iopub.execute_input": "2023-11-29T10:10:26.378261Z",
     "iopub.status.busy": "2023-11-29T10:10:26.377787Z",
     "iopub.status.idle": "2023-11-29T10:10:26.383496Z",
     "shell.execute_reply": "2023-11-29T10:10:26.382001Z"
    },
    "papermill": {
     "duration": 0.015929,
     "end_time": "2023-11-29T10:10:26.385786",
     "exception": false,
     "start_time": "2023-11-29T10:10:26.369857",
     "status": "completed"
    },
    "tags": []
   },
   "outputs": [],
   "source": [
    "# Uncomment to see a hint\n",
    "#q3.hint()\n",
    "\n",
    "# Uncomment to view the solution\n",
    "#q3.solution()"
   ]
  },
  {
   "cell_type": "markdown",
   "id": "2e6fc41c",
   "metadata": {
    "papermill": {
     "duration": 0.005866,
     "end_time": "2023-11-29T10:10:26.398131",
     "exception": false,
     "start_time": "2023-11-29T10:10:26.392265",
     "status": "completed"
    },
    "tags": []
   },
   "source": [
    "# Question 4\n",
    "\n",
    "Use the `get_cost()` function you defined in Question 3 to calculate the cost of applying one coat of paint to a room with:\n",
    "- 432 square feet of walls, and\n",
    "- 144 square feet of ceiling.\n",
    "\n",
    "Assume that one gallon of paint covers 400 square feet and costs $15.  As in Question 3, assume you can buy partial gallons of paint.  Do not round your answer."
   ]
  },
  {
   "cell_type": "code",
   "execution_count": 8,
   "id": "c1b2edc5",
   "metadata": {
    "execution": {
     "iopub.execute_input": "2023-11-29T10:10:26.412084Z",
     "iopub.status.busy": "2023-11-29T10:10:26.411798Z",
     "iopub.status.idle": "2023-11-29T10:10:26.420478Z",
     "shell.execute_reply": "2023-11-29T10:10:26.418838Z"
    },
    "papermill": {
     "duration": 0.019296,
     "end_time": "2023-11-29T10:10:26.423519",
     "exception": false,
     "start_time": "2023-11-29T10:10:26.404223",
     "status": "completed"
    },
    "tags": []
   },
   "outputs": [
    {
     "data": {
      "application/javascript": [
       "parent.postMessage({\"jupyterEvent\": \"custom.exercise_interaction\", \"data\": {\"outcomeType\": 1, \"valueTowardsCompletion\": 0.2, \"interactionType\": 1, \"questionType\": 1, \"questionId\": \"4_GetCostPaintExample\", \"learnToolsVersion\": \"0.3.4\", \"failureMessage\": \"\", \"exceptionClass\": \"\", \"trace\": \"\"}}, \"*\")"
      ],
      "text/plain": [
       "<IPython.core.display.Javascript object>"
      ]
     },
     "metadata": {},
     "output_type": "display_data"
    },
    {
     "data": {
      "text/markdown": [
       "<span style=\"color:#33cc33\">Correct</span>"
      ],
      "text/plain": [
       "Correct"
      ]
     },
     "metadata": {},
     "output_type": "display_data"
    }
   ],
   "source": [
    "# TODO: Set the project_cost variable to the cost of the project\n",
    "project_cost = get_cost(432, 144, 400, 15)\n",
    "\n",
    "# Check your answer\n",
    "q4.check()"
   ]
  },
  {
   "cell_type": "code",
   "execution_count": 9,
   "id": "927e2cc5",
   "metadata": {
    "execution": {
     "iopub.execute_input": "2023-11-29T10:10:26.439581Z",
     "iopub.status.busy": "2023-11-29T10:10:26.439100Z",
     "iopub.status.idle": "2023-11-29T10:10:26.444956Z",
     "shell.execute_reply": "2023-11-29T10:10:26.443596Z"
    },
    "papermill": {
     "duration": 0.016639,
     "end_time": "2023-11-29T10:10:26.446891",
     "exception": false,
     "start_time": "2023-11-29T10:10:26.430252",
     "status": "completed"
    },
    "tags": []
   },
   "outputs": [],
   "source": [
    "# Uncomment to see a hint\n",
    "#q4.hint()\n",
    "\n",
    "# Uncomment to view the solution\n",
    "#q4.solution()"
   ]
  },
  {
   "cell_type": "markdown",
   "id": "53476721",
   "metadata": {
    "papermill": {
     "duration": 0.005815,
     "end_time": "2023-11-29T10:10:26.458887",
     "exception": false,
     "start_time": "2023-11-29T10:10:26.453072",
     "status": "completed"
    },
    "tags": []
   },
   "source": [
    "# 🌶️ Question 5\n",
    "\n",
    "Now say you can no longer buy fractions of a gallon.  (For instance, if you need 4.3 gallons to do a project, then you have to buy 5 gallons of paint.)\n",
    "\n",
    "With this new scenario, you will create a new function `get_actual_cost` that uses the same inputs and calculates the cost of your project.\n",
    "\n",
    "One function that you'll need to use to do this is `math.ceil()`.  We demonstrate usage of this function in the code cell below.  It takes as a number as input and rounds the number up to the nearest integer.  \n",
    "\n",
    "Run the next code cell to test this function for yourself.  Feel free to change the value of `test_value` and make sure `math.ceil()` returns the number you expect."
   ]
  },
  {
   "cell_type": "code",
   "execution_count": 10,
   "id": "275636d4",
   "metadata": {
    "execution": {
     "iopub.execute_input": "2023-11-29T10:10:26.472140Z",
     "iopub.status.busy": "2023-11-29T10:10:26.471686Z",
     "iopub.status.idle": "2023-11-29T10:10:26.478833Z",
     "shell.execute_reply": "2023-11-29T10:10:26.477224Z"
    },
    "papermill": {
     "duration": 0.016557,
     "end_time": "2023-11-29T10:10:26.481098",
     "exception": false,
     "start_time": "2023-11-29T10:10:26.464541",
     "status": "completed"
    },
    "tags": []
   },
   "outputs": [
    {
     "name": "stdout",
     "output_type": "stream",
     "text": [
      "3\n"
     ]
    }
   ],
   "source": [
    "test_value = 2.17\n",
    "\n",
    "rounded_value = math.ceil(test_value)\n",
    "print(rounded_value)"
   ]
  },
  {
   "cell_type": "markdown",
   "id": "f5e386ea",
   "metadata": {
    "papermill": {
     "duration": 0.005809,
     "end_time": "2023-11-29T10:10:26.493117",
     "exception": false,
     "start_time": "2023-11-29T10:10:26.487308",
     "status": "completed"
    },
    "tags": []
   },
   "source": [
    "Use the next code cell to define the function `get_actual_cost()`.  You'll need to use the `math.ceil()` function to do this.\n",
    "\n",
    "When answering this question, note that it's completely valid to define a function that makes use of another function.  For instance, we can define a function `round_up_and_divide_by_three` that makes use of the `math.ceil` function:\n",
    "```\n",
    "def round_up_and_divide_by_three(num):\n",
    "    new_value = math.ceil(num)\n",
    "    final_value = new_value / 3\n",
    "    return final_value\n",
    "```"
   ]
  },
  {
   "cell_type": "code",
   "execution_count": 11,
   "id": "ea2e77c0",
   "metadata": {
    "execution": {
     "iopub.execute_input": "2023-11-29T10:10:26.507159Z",
     "iopub.status.busy": "2023-11-29T10:10:26.506706Z",
     "iopub.status.idle": "2023-11-29T10:10:26.519930Z",
     "shell.execute_reply": "2023-11-29T10:10:26.518324Z"
    },
    "papermill": {
     "duration": 0.023767,
     "end_time": "2023-11-29T10:10:26.522811",
     "exception": false,
     "start_time": "2023-11-29T10:10:26.499044",
     "status": "completed"
    },
    "tags": []
   },
   "outputs": [
    {
     "data": {
      "application/javascript": [
       "parent.postMessage({\"jupyterEvent\": \"custom.exercise_interaction\", \"data\": {\"outcomeType\": 1, \"valueTowardsCompletion\": 0.2, \"interactionType\": 1, \"questionType\": 2, \"questionId\": \"5_NoMoreFractions\", \"learnToolsVersion\": \"0.3.4\", \"failureMessage\": \"\", \"exceptionClass\": \"\", \"trace\": \"\"}}, \"*\")"
      ],
      "text/plain": [
       "<IPython.core.display.Javascript object>"
      ]
     },
     "metadata": {},
     "output_type": "display_data"
    },
    {
     "data": {
      "text/markdown": [
       "<span style=\"color:#33cc33\">Correct</span>"
      ],
      "text/plain": [
       "Correct"
      ]
     },
     "metadata": {},
     "output_type": "display_data"
    }
   ],
   "source": [
    "def get_actual_cost(sqft_walls, sqft_ceiling, sqft_per_gallon, cost_per_gallon):\n",
    "    total_sqft = sqft_walls + sqft_ceiling\n",
    "    gallons_needed = total_sqft / sqft_per_gallon\n",
    "    gallons_to_buy = math.ceil(gallons_needed)\n",
    "    cost = gallons_to_buy * cost_per_gallon\n",
    "    return cost\n",
    "\n",
    "# Check your answer\n",
    "q5.check()"
   ]
  },
  {
   "cell_type": "code",
   "execution_count": 12,
   "id": "da06192b",
   "metadata": {
    "execution": {
     "iopub.execute_input": "2023-11-29T10:10:26.537839Z",
     "iopub.status.busy": "2023-11-29T10:10:26.537416Z",
     "iopub.status.idle": "2023-11-29T10:10:26.551096Z",
     "shell.execute_reply": "2023-11-29T10:10:26.549912Z"
    },
    "papermill": {
     "duration": 0.024384,
     "end_time": "2023-11-29T10:10:26.554036",
     "exception": false,
     "start_time": "2023-11-29T10:10:26.529652",
     "status": "completed"
    },
    "tags": []
   },
   "outputs": [
    {
     "data": {
      "application/javascript": [
       "parent.postMessage({\"jupyterEvent\": \"custom.exercise_interaction\", \"data\": {\"interactionType\": 2, \"questionType\": 2, \"questionId\": \"5_NoMoreFractions\", \"learnToolsVersion\": \"0.3.4\", \"valueTowardsCompletion\": 0.0, \"failureMessage\": \"\", \"exceptionClass\": \"\", \"trace\": \"\", \"outcomeType\": 4}}, \"*\")"
      ],
      "text/plain": [
       "<IPython.core.display.Javascript object>"
      ]
     },
     "metadata": {},
     "output_type": "display_data"
    },
    {
     "data": {
      "text/markdown": [
       "<span style=\"color:#3366cc\">Hint:</span> Begin with the `get_cost()` function as a starting point.  The only change you need to make is to add `math.ceil()` to round up the number of gallons that need to be purchased. Can you figure out where to add it to the function?"
      ],
      "text/plain": [
       "Hint: Begin with the `get_cost()` function as a starting point.  The only change you need to make is to add `math.ceil()` to round up the number of gallons that need to be purchased. Can you figure out where to add it to the function?"
      ]
     },
     "metadata": {},
     "output_type": "display_data"
    },
    {
     "data": {
      "application/javascript": [
       "parent.postMessage({\"jupyterEvent\": \"custom.exercise_interaction\", \"data\": {\"interactionType\": 3, \"questionType\": 2, \"questionId\": \"5_NoMoreFractions\", \"learnToolsVersion\": \"0.3.4\", \"valueTowardsCompletion\": 0.0, \"failureMessage\": \"\", \"exceptionClass\": \"\", \"trace\": \"\", \"outcomeType\": 4}}, \"*\")"
      ],
      "text/plain": [
       "<IPython.core.display.Javascript object>"
      ]
     },
     "metadata": {},
     "output_type": "display_data"
    },
    {
     "data": {
      "text/markdown": [
       "<span style=\"color:#33cc99\">Solution:</span> \n",
       "```python\n",
       "def get_actual_cost(sqft_walls, sqft_ceiling, sqft_per_gallon, cost_per_gallon):\n",
       "    total_sqft = sqft_walls + sqft_ceiling\n",
       "    gallons_needed = total_sqft / sqft_per_gallon\n",
       "    gallons_to_buy = math.ceil(gallons_needed)\n",
       "    cost = cost_per_gallon * gallons_to_buy\n",
       "    return cost\n",
       "\n",
       "```"
      ],
      "text/plain": [
       "Solution: \n",
       "```python\n",
       "def get_actual_cost(sqft_walls, sqft_ceiling, sqft_per_gallon, cost_per_gallon):\n",
       "    total_sqft = sqft_walls + sqft_ceiling\n",
       "    gallons_needed = total_sqft / sqft_per_gallon\n",
       "    gallons_to_buy = math.ceil(gallons_needed)\n",
       "    cost = cost_per_gallon * gallons_to_buy\n",
       "    return cost\n",
       "\n",
       "```"
      ]
     },
     "metadata": {},
     "output_type": "display_data"
    }
   ],
   "source": [
    "# Uncomment to see a hint\n",
    "q5.hint()\n",
    "\n",
    "# Uncomment to view the solution\n",
    "q5.solution()"
   ]
  },
  {
   "cell_type": "markdown",
   "id": "f6c10804",
   "metadata": {
    "papermill": {
     "duration": 0.006225,
     "end_time": "2023-11-29T10:10:26.567288",
     "exception": false,
     "start_time": "2023-11-29T10:10:26.561063",
     "status": "completed"
    },
    "tags": []
   },
   "source": [
    "Once your function is verified as correct, run the next code cell to calculate the updated cost of your project."
   ]
  },
  {
   "cell_type": "code",
   "execution_count": 13,
   "id": "7a4dba0a",
   "metadata": {
    "execution": {
     "iopub.execute_input": "2023-11-29T10:10:26.582528Z",
     "iopub.status.busy": "2023-11-29T10:10:26.582103Z",
     "iopub.status.idle": "2023-11-29T10:10:26.589090Z",
     "shell.execute_reply": "2023-11-29T10:10:26.588231Z"
    },
    "papermill": {
     "duration": 0.018308,
     "end_time": "2023-11-29T10:10:26.592105",
     "exception": false,
     "start_time": "2023-11-29T10:10:26.573797",
     "status": "completed"
    },
    "tags": []
   },
   "outputs": [
    {
     "data": {
      "text/plain": [
       "30"
      ]
     },
     "execution_count": 13,
     "metadata": {},
     "output_type": "execute_result"
    }
   ],
   "source": [
    "get_actual_cost(432, 144, 400, 15) "
   ]
  },
  {
   "cell_type": "markdown",
   "id": "c3d5ea32",
   "metadata": {
    "papermill": {
     "duration": 0.007042,
     "end_time": "2023-11-29T10:10:26.606944",
     "exception": false,
     "start_time": "2023-11-29T10:10:26.599902",
     "status": "completed"
    },
    "tags": []
   },
   "source": [
    "Say you're working with a slightly larger room.  Run the next code cell to calculate the cost of the project."
   ]
  },
  {
   "cell_type": "code",
   "execution_count": 14,
   "id": "4437e9c4",
   "metadata": {
    "execution": {
     "iopub.execute_input": "2023-11-29T10:10:26.623454Z",
     "iopub.status.busy": "2023-11-29T10:10:26.623131Z",
     "iopub.status.idle": "2023-11-29T10:10:26.631428Z",
     "shell.execute_reply": "2023-11-29T10:10:26.629847Z"
    },
    "papermill": {
     "duration": 0.019151,
     "end_time": "2023-11-29T10:10:26.633685",
     "exception": false,
     "start_time": "2023-11-29T10:10:26.614534",
     "status": "completed"
    },
    "tags": []
   },
   "outputs": [
    {
     "data": {
      "text/plain": [
       "45"
      ]
     },
     "execution_count": 14,
     "metadata": {},
     "output_type": "execute_result"
    }
   ],
   "source": [
    "get_actual_cost(594, 288, 400, 15) "
   ]
  },
  {
   "cell_type": "markdown",
   "id": "c2031e94",
   "metadata": {
    "papermill": {
     "duration": 0.007125,
     "end_time": "2023-11-29T10:10:26.648390",
     "exception": false,
     "start_time": "2023-11-29T10:10:26.641265",
     "status": "completed"
    },
    "tags": []
   },
   "source": [
    "# Keep going\n",
    "\n",
    "Continue to learn about **[data types](https://www.kaggle.com/alexisbcook/data-types)**."
   ]
  },
  {
   "cell_type": "markdown",
   "id": "5259a1e9",
   "metadata": {
    "papermill": {
     "duration": 0.007225,
     "end_time": "2023-11-29T10:10:26.663257",
     "exception": false,
     "start_time": "2023-11-29T10:10:26.656032",
     "status": "completed"
    },
    "tags": []
   },
   "source": [
    "---\n",
    "\n",
    "\n",
    "\n",
    "\n",
    "*Have questions or comments? Visit the [course discussion forum](https://www.kaggle.com/learn/intro-to-programming/discussion) to chat with other learners.*"
   ]
  }
 ],
 "metadata": {
  "kaggle": {
   "accelerator": "none",
   "dataSources": [],
   "isGpuEnabled": false,
   "isInternetEnabled": false,
   "language": "python",
   "sourceType": "notebook"
  },
  "kernelspec": {
   "display_name": "Python 3",
   "language": "python",
   "name": "python3"
  },
  "language_info": {
   "codemirror_mode": {
    "name": "ipython",
    "version": 3
   },
   "file_extension": ".py",
   "mimetype": "text/x-python",
   "name": "python",
   "nbconvert_exporter": "python",
   "pygments_lexer": "ipython3",
   "version": "3.10.12"
  },
  "papermill": {
   "default_parameters": {},
   "duration": 3.949078,
   "end_time": "2023-11-29T10:10:27.094968",
   "environment_variables": {},
   "exception": null,
   "input_path": "__notebook__.ipynb",
   "output_path": "__notebook__.ipynb",
   "parameters": {},
   "start_time": "2023-11-29T10:10:23.145890",
   "version": "2.4.0"
  }
 },
 "nbformat": 4,
 "nbformat_minor": 5
}
